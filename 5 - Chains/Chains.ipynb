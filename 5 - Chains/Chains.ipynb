{
 "cells": [
  {
   "cell_type": "markdown",
   "metadata": {
    "vscode": {
     "languageId": "plaintext"
    }
   },
   "source": [
    "## Langchain Expression Language Basics"
   ]
  },
  {
   "cell_type": "markdown",
   "metadata": {
    "vscode": {
     "languageId": "plaintext"
    }
   },
   "source": [
    "-  LangChain Expression Language is that any two runnables can be \"chained\" together into sequences. \n",
    "- The output of the previous runnable's .invoke() call is passed as input to the next runnable.\n",
    "- This can be done using the pipe operator (|), or the more explicit .pipe() method, which does the same thing."
   ]
  },
  {
   "cell_type": "markdown",
   "metadata": {},
   "source": [
    "- Type of LCEL Chains\n",
    "    - SequentialChain\n",
    "    - Parallel Chain\n",
    "    - Router Chain\n",
    "    - Chain Runnables\n",
    "    - Custom Chain (Runnable Sequence)"
   ]
  },
  {
   "cell_type": "code",
   "execution_count": 1,
   "metadata": {},
   "outputs": [
    {
     "data": {
      "text/plain": [
       "True"
      ]
     },
     "execution_count": 1,
     "metadata": {},
     "output_type": "execute_result"
    }
   ],
   "source": [
    "from dotenv import load_dotenv,find_dotenv\n",
    "load_dotenv(find_dotenv())"
   ]
  },
  {
   "cell_type": "markdown",
   "metadata": {},
   "source": [
    "### Sequential LCEL Chain"
   ]
  },
  {
   "cell_type": "code",
   "execution_count": 2,
   "metadata": {},
   "outputs": [],
   "source": [
    "from langchain_ollama import ChatOllama\n",
    "from langchain_core.output_parsers import StrOutputParser\n",
    "from langchain_core.prompts import (SystemMessagePromptTemplate,\n",
    "                                    HumanMessagePromptTemplate,\n",
    "                                    ChatPromptTemplate\n",
    "                                    )"
   ]
  },
  {
   "cell_type": "code",
   "execution_count": 3,
   "metadata": {},
   "outputs": [],
   "source": [
    "base_url = \"http://localhost:11434\"\n",
    "model = 'llama3.2:1b'\n",
    "\n",
    "llm = ChatOllama(\n",
    "    base_url=base_url,\n",
    "    model=model\n",
    ")"
   ]
  },
  {
   "cell_type": "code",
   "execution_count": 4,
   "metadata": {},
   "outputs": [
    {
     "name": "stdout",
     "output_type": "stream",
     "text": [
      "Here's an overview of the solar system in 5 points:\n",
      "\n",
      "1. **The Sun is at center**: Our star, the Sun, is the central body of our solar system and provides light and heat to the planets.\n",
      "\n",
      "2. **Mercury and Venus are close**: The two closest planets to the Sun, Mercury and Venus, have extremely high surface temperatures due to their proximity to it.\n",
      "\n",
      "3. **Mars is a rocky planet**: Mars is known for its reddish appearance and has polar ice caps. Scientists believe there might have been water on Mars in the past, which could have supported life.\n",
      "\n",
      "4. **Jupiter is the largest planet**: Jupiter is the largest planet in our solar system with massive storm systems like the Great Red Spot. It also has many moons orbiting around it.\n",
      "\n",
      "5. **Earth and the other planets are unique**: Earth's atmosphere protects us from harm, while the planets on either side of the Sun (not including Earth) have conditions that could support life or be hostile to life as we know it.\n"
     ]
    }
   ],
   "source": [
    "system = SystemMessagePromptTemplate.from_template('You are {school} teacher. You answer in short sentences.')\n",
    "question = HumanMessagePromptTemplate.from_template('tell me about the {topics} in {points} points')\n",
    "\n",
    "messages = [system, question]\n",
    "\n",
    "template = ChatPromptTemplate.from_messages(messages=messages)\n",
    "\n",
    "query = template.invoke({'school': 'primary', 'topics': 'solar system', 'points': 5})\n",
    "\n",
    "response = llm.invoke(query)\n",
    "\n",
    "print(response.content)"
   ]
  },
  {
   "cell_type": "markdown",
   "metadata": {},
   "source": [
    "##### Lets create a chain for above"
   ]
  },
  {
   "cell_type": "code",
   "execution_count": 5,
   "metadata": {},
   "outputs": [],
   "source": [
    "chain = template | llm"
   ]
  },
  {
   "cell_type": "code",
   "execution_count": 6,
   "metadata": {},
   "outputs": [
    {
     "name": "stdout",
     "output_type": "stream",
     "text": [
      "Here's what you need to know about the solar system:\n",
      "\n",
      "• The Sun is at the center of our solar system.\n",
      "• There are eight planets: Mercury, Venus, Earth, Mars, Jupiter, Saturn, Uranus, and Neptune.\n",
      "• The four inner planets (Mercury, Venus, Mars, and Earth) are rocky and have air.\n",
      "• The outer planets (Jupiter, Saturn, Uranus, and Neptune) are gas giants and have many moons.\n"
     ]
    }
   ],
   "source": [
    "response = chain.invoke({'school': 'primary', 'topics': 'solar system', 'points': 5})\n",
    "print(response.content)"
   ]
  },
  {
   "cell_type": "code",
   "execution_count": 8,
   "metadata": {},
   "outputs": [
    {
     "name": "stdout",
     "output_type": "stream",
     "text": [
      "Here's a brief overview of the solar system:\n",
      "\n",
      "• The sun is at the center, and it's responsible for most solar energy on Earth.\n",
      "• There are eight planets: Mercury, Mars, Venus, Earth, Neptune, Uranus, Saturn, and Jupiter.\n",
      "• Pluto was once considered a planet but is now classified as a dwarf planet due to its small size.\n",
      "• The four inner planets (Mercury, Mars, Venus, and Earth) orbit very close to the sun due to their rapid rotation periods.\n",
      "• The outer planets (Jupiter, Saturn, Uranus, and Neptune) take much longer to complete one rotation around the sun due to their larger sizes.\n"
     ]
    }
   ],
   "source": [
    "response = chain.invoke({'school': 'PhD.', 'topics': 'solar system', 'points': 5})\n",
    "print(response.content)"
   ]
  },
  {
   "cell_type": "markdown",
   "metadata": {},
   "source": [
    "##### StrOutputParser"
   ]
  },
  {
   "cell_type": "code",
   "execution_count": 7,
   "metadata": {},
   "outputs": [
    {
     "name": "stdout",
     "output_type": "stream",
     "text": [
      "Here's an overview of the solar system in 5 key points:\n",
      "\n",
      "1. **The Sun**: At the center of our solar system is the star known as the Sun, which provides light and heat to the planets.\n",
      "\n",
      "2. **The Inner Planets**: The four inner planets are Mercury, Venus, Earth, and Mars, which orbit closest to the Sun. These planets have no moons.\n",
      "\n",
      "3. **Gas Giant**: The gas giant is Jupiter, a massive planet with storm systems that can be thousands of kilometers wide.\n",
      "\n",
      "4. **Rings and Moons**: Saturn's ring system is one of the most prominent features in our solar system. Many moons orbit around Saturn, including Titan and Enceladus.\n",
      "\n",
      "5. **The Outer Planets**: The four outer planets are Uranus and Neptune, which have very thin atmospheres compared to other planets in the solar system.\n"
     ]
    }
   ],
   "source": [
    "chain = template | llm | StrOutputParser()\n",
    "\n",
    "response = chain.invoke({'school': 'primary', 'topics': 'solar system', 'points': 5})\n",
    "print(response)\n"
   ]
  },
  {
   "cell_type": "markdown",
   "metadata": {},
   "source": [
    "***"
   ]
  },
  {
   "cell_type": "markdown",
   "metadata": {},
   "source": [
    "### Chaining Runnables (Chain Multiple Runnables)"
   ]
  },
  {
   "cell_type": "markdown",
   "metadata": {},
   "source": [
    "- We can even combine this chain with more runnables to create another chain.\n",
    "- Let's see how easy our generated output is?"
   ]
  },
  {
   "cell_type": "code",
   "execution_count": 9,
   "metadata": {},
   "outputs": [
    {
     "data": {
      "text/plain": [
       "ChatPromptTemplate(input_variables=['points', 'school', 'topics'], input_types={}, partial_variables={}, messages=[SystemMessagePromptTemplate(prompt=PromptTemplate(input_variables=['school'], input_types={}, partial_variables={}, template='You are {school} teacher. You answer in short sentences.'), additional_kwargs={}), HumanMessagePromptTemplate(prompt=PromptTemplate(input_variables=['points', 'topics'], input_types={}, partial_variables={}, template='tell me about the {topics} in {points} points'), additional_kwargs={})])\n",
       "| ChatOllama(model='llama3.2:1b', base_url='http://localhost:11434')\n",
       "| StrOutputParser()"
      ]
     },
     "execution_count": 9,
     "metadata": {},
     "output_type": "execute_result"
    }
   ],
   "source": [
    "chain"
   ]
  },
  {
   "cell_type": "code",
   "execution_count": null,
   "metadata": {},
   "outputs": [],
   "source": []
  },
  {
   "cell_type": "code",
   "execution_count": 17,
   "metadata": {},
   "outputs": [
    {
     "data": {
      "text/plain": [
       "ChatPromptTemplate(input_variables=['response'], input_types={}, partial_variables={}, messages=[HumanMessagePromptTemplate(prompt=PromptTemplate(input_variables=['response'], input_types={}, partial_variables={}, template='Analyze the following text : {response}\\n    You need to tell me how difficult it is to understand the above text.\\n    Answer in one sentence only.\\n    '), additional_kwargs={})])"
      ]
     },
     "execution_count": 17,
     "metadata": {},
     "output_type": "execute_result"
    }
   ],
   "source": [
    "analysis_prompt = ChatPromptTemplate.from_template(\n",
    "    template=\"\"\"Analyze the following text : {response}\n",
    "    You need to tell me how difficult it is to understand the above text.\n",
    "    Answer in one sentence only.\n",
    "    \"\"\"\n",
    ")\n",
    "\n",
    "analysis_prompt"
   ]
  },
  {
   "cell_type": "code",
   "execution_count": 14,
   "metadata": {},
   "outputs": [
    {
     "name": "stdout",
     "output_type": "stream",
     "text": [
      "This text is relatively easy to understand as it uses basic definitions of terms such as \"gas giant\", \"inner planets\", and \"outer planets\" that are commonly known by students.\n"
     ]
    }
   ],
   "source": [
    "analysis_chain = analysis_prompt | llm | StrOutputParser()\n",
    "\n",
    "output = analysis_chain.invoke({'response': {response}})\n",
    "\n",
    "print(output)"
   ]
  },
  {
   "cell_type": "markdown",
   "metadata": {},
   "source": [
    "##### Combine the above 2 chains"
   ]
  },
  {
   "cell_type": "code",
   "execution_count": 15,
   "metadata": {},
   "outputs": [
    {
     "name": "stdout",
     "output_type": "stream",
     "text": [
      "The text's simplicity and straightforward structure make it moderately easy to understand for a general audience, but its lack of depth and detailed information on specific planets and their characteristics may require some effort from those seeking more comprehensive knowledge.\n"
     ]
    }
   ],
   "source": [
    "combined_chain = {'response': chain} | analysis_prompt | llm | StrOutputParser()\n",
    "\n",
    "output = combined_chain.invoke(\n",
    "    {'school': 'primary', \n",
    "     'topics': 'solar system', \n",
    "     'points': 5}\n",
    ")\n",
    "\n",
    "print(output)"
   ]
  },
  {
   "cell_type": "code",
   "execution_count": 16,
   "metadata": {},
   "outputs": [
    {
     "name": "stdout",
     "output_type": "stream",
     "text": [
      "Understanding these 5 key points about the solar system requires a basic understanding of astronomy concepts such as planetary formation and celestial mechanics, but may still be challenging for those without prior knowledge or experience in the field.\n"
     ]
    }
   ],
   "source": [
    "combined_chain = {'response': chain} | analysis_prompt | llm | StrOutputParser()\n",
    "\n",
    "output = combined_chain.invoke(\n",
    "    {'school': 'PhD.', \n",
    "     'topics': 'solar system', \n",
    "     'points': 5}\n",
    ")\n",
    "\n",
    "print(output)"
   ]
  },
  {
   "cell_type": "markdown",
   "metadata": {},
   "source": [
    "***"
   ]
  },
  {
   "cell_type": "markdown",
   "metadata": {},
   "source": [
    "### Parallel LCEL Chain\n",
    "- Parallel chains are used to run multiple runnables in parallel.\n",
    "- The final return value is a dict with the results of each value under its appropriate key."
   ]
  },
  {
   "cell_type": "code",
   "execution_count": null,
   "metadata": {},
   "outputs": [],
   "source": []
  },
  {
   "cell_type": "code",
   "execution_count": null,
   "metadata": {},
   "outputs": [],
   "source": []
  },
  {
   "cell_type": "code",
   "execution_count": null,
   "metadata": {},
   "outputs": [],
   "source": []
  },
  {
   "cell_type": "code",
   "execution_count": null,
   "metadata": {},
   "outputs": [],
   "source": []
  }
 ],
 "metadata": {
  "kernelspec": {
   "display_name": "krishgenai",
   "language": "python",
   "name": "python3"
  },
  "language_info": {
   "codemirror_mode": {
    "name": "ipython",
    "version": 3
   },
   "file_extension": ".py",
   "mimetype": "text/x-python",
   "name": "python",
   "nbconvert_exporter": "python",
   "pygments_lexer": "ipython3",
   "version": "3.10.14"
  }
 },
 "nbformat": 4,
 "nbformat_minor": 2
}
