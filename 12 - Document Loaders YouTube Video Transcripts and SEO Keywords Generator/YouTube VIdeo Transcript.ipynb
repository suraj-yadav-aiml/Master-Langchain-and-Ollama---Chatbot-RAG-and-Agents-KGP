{
 "cells": [
  {
   "cell_type": "markdown",
   "metadata": {
    "vscode": {
     "languageId": "plaintext"
    }
   },
   "source": [
    "## YouTube Video Transcripts and SEO Keywords Generation"
   ]
  },
  {
   "cell_type": "markdown",
   "metadata": {
    "vscode": {
     "languageId": "plaintext"
    }
   },
   "source": [
    "- We will see how to generate YouTube video transcripts and SEO keywords using LLM"
   ]
  },
  {
   "cell_type": "code",
   "execution_count": null,
   "metadata": {},
   "outputs": [
    {
     "name": "stdout",
     "output_type": "stream",
     "text": [
      "Requirement already satisfied: pytube in c:\\users\\admin\\anaconda3\\envs\\krishgenai\\lib\\site-packages (15.0.0)\n"
     ]
    }
   ],
   "source": [
    "# !pip install youtube-transcript-api\n",
    "\n",
    "\n",
    "# !pip install pytube  ## Dont install this ⚠️"
   ]
  },
  {
   "cell_type": "code",
   "execution_count": 21,
   "metadata": {},
   "outputs": [],
   "source": [
    "# !python -m pip install git+https://github.com/WildDIC/pytube.git  ## Instead install this ✅"
   ]
  },
  {
   "cell_type": "code",
   "execution_count": 22,
   "metadata": {},
   "outputs": [],
   "source": [
    "# !python -m pip install git+https://github.com/pytube/pytube"
   ]
  },
  {
   "cell_type": "markdown",
   "metadata": {},
   "source": [
    "***"
   ]
  },
  {
   "cell_type": "code",
   "execution_count": null,
   "metadata": {},
   "outputs": [
    {
     "name": "stdout",
     "output_type": "stream",
     "text": [
      "^C\n"
     ]
    }
   ],
   "source": [
    "# !pip uninstall pytube"
   ]
  },
  {
   "cell_type": "code",
   "execution_count": 1,
   "metadata": {},
   "outputs": [],
   "source": [
    "from langchain_community.document_loaders import YoutubeLoader"
   ]
  },
  {
   "cell_type": "code",
   "execution_count": 2,
   "metadata": {},
   "outputs": [],
   "source": [
    "url = \"https://www.youtube.com/watch?v=vCyVVsdKJCg\"\n",
    "loader = YoutubeLoader.from_youtube_url(url, add_video_info=True)\n",
    "docs = loader.load()"
   ]
  },
  {
   "cell_type": "code",
   "execution_count": 3,
   "metadata": {},
   "outputs": [
    {
     "data": {
      "text/plain": [
       "[Document(metadata={'source': 'vCyVVsdKJCg', 'title': 'Deploy LLM Application on AWS EC2 with Langchain and Ollama | Deploy LLAMA 3.2 App', 'description': 'Local LLM Tutorial Playlist: https://www.youtube.com/playlist?list=PLc2rvfiptPSReropGbvDFpB6dneNBwqhD\\n\\nIn this tutorial, I’ll walk you through the step-by-step process of deploying your AI-powered chat application using LangChain, Llama, and Streamlit on AWS EC2. Whether you’re building an LLM chatbot for personal projects or for production, this guide covers everything you need to know about:\\n\\n- Launching an EC2 instance on AWS\\n- Selecting the right AMI and instance type (Deep Learning AMI with Nvidia GPU, C7 Intel-powered instances)\\n- Installing LangChain, AMA, and Streamlit\\n- Cloning your project from GitHub to EC2\\n- Configuring security groups and ports for external access\\n- Running and hosting your chat app on AWS EC2 efficiently\\n- Ensuring persistent app operation with screen.\\n\\nCheck out the full source code on GitHub and learn how to host your LLM chat app with low latency and minimal cost.\\n\\nDeployment of Machine Learning Models in Production in Python:\\nhttps://bit.ly/bert_nlp\\n\\nPrevious Video:\\nhttps://youtu.be/uRV49nK-BOU\\n\\nCode Files:\\nhttps://github.com/laxmimerit/ollama-chatbot\\n\\nStreamlit Tutorials:\\nhttps://youtu.be/hff2tHUzxJM?si=aQiEDqW0m804N8j_\\n\\n\\n🔊 Watch till last for a detailed description\\n\\n💯 Read Full Blog with Code\\n       https://kgptalkie.com\\n💬 Leave your comments and doubts in the comment section\\n📌 Save this channel and video for watch later\\n👍 Like this video to show your support and love ❤️\\n\\n~~~~~~~~\\n🆓 Watch My Top Free Data Science Videos\\n👉🏻 Python for Data Scientist\\n      https://bit.ly/3dETtFb\\n👉🏻 Machine Learning for Beginners\\n      https://bit.ly/2WOVh7N\\n👉🏻 Feature Selection in Machine Learning\\n      https://bit.ly/2YW6ZQH\\n👉🏻 Text Preprocessing and Mining for NLP\\n       https://bit.ly/31sYMUN\\n👉🏻 Natural Language Processing (NLP)\\n      Tutorials https://bit.ly/3dF1cTL\\n👉🏻 Deep Learning with TensorFlow 2.0\\n      and Keras https://bit.ly/3dFl09G\\n👉🏻 COVID 19 Data Analysis and Visualization\\n      Masterclass https://bit.ly/31vNC1U\\n👉🏻 Machine Learning Model Deployment Using\\n      Flask at AWS https://bit.ly/3b1svaD\\n👉🏻 Make Your Own Automated Email Marketing\\n      Software in Python https://bit.ly/2QqLaDy\\n\\n***********\\n🤝 BE MY FRIEND\\n🌍 Check Out ML Blogs:  https://kgptalkie.com\\n🐦Add me on Twitter: https://twitter.com/laxmimerit\\n📄 Follow me on GitHub: https://github.com/laxmimerit\\n📕 Add me on Facebook: https://facebook.com/kgptalkie\\n💼 Add me on LinkedIn: https://linkedin.com/in/laxmimerit\\n👉🏻 Complete Udemy Courses: https://bit.ly/32taBK2\\n⚡ Check out my Recent Videos: https://bit.ly/3ldnbWm\\n🔔 Subscribe me for Free Videos: https://bit.ly/34wN6T6\\n🤑 Get in touch for Promotion: info@kgptalkie.com\\n\\n✍️🏆🏅🎁🎊🎉✌️👌⭐⭐⭐⭐⭐\\nENROLL in My Highest Rated Udemy Courses\\nto 🔑 Crack Data Science Interviews and Jobs\\n\\n🏅🎁 Python for Machine Learning: A Step-by-Step Guide | Udemy\\nCourse Link: https://bit.ly/ml-ds-project\\n\\n🎁🎊 Deep Learning for Beginners with Python\\nCourse Link: https://bit.ly/dl-with-python\\n\\n📚 📗 Natural Language Processing ML Model Deployment at AWS\\nCourse Link: https://bit.ly/bert_nlp\\n\\n📊 📈 Data Visualization in Python Masterclass: Beginners to Pro\\nCourse Link: https://bit.ly/udemy95off_kgptalkie\\n\\n📘 📙 Natural Language Processing (NLP) in Python for Beginners\\nCourse Link: https://bit.ly/intro_nlp\\n\\n🎉✌️ Advanced Natural Language and Image Processing Projects | Udemy\\nCourse Link: https://bit.ly/kgptalkie_ml_projects\\n\\n📈 📘 Python for Linear Regression in Machine Learning\\nCourse Link: https://bit.ly/regression-python\\n\\n📙📊 R 4.0 Programming for Data Science || Beginners to Pro\\nCourse Link: http://bit.ly/r4-ml\\n\\n✍️🏆 Introduction to Spacy 3 for Natural Language Processing\\nCourse Link: https://bit.ly/spacy-intro', 'view_count': 627, 'thumbnail_url': 'https://i.ytimg.com/vi/vCyVVsdKJCg/sddefault.jpg', 'publish_date': '2024-10-20 00:00:00', 'length': 1763, 'author': 'KGP Talkie'}, page_content=\"hey everyone so today I'm going to show you how you can host your chat application with AMA and Lang chain on AWS services so we'll be using here AWS E2 services to host our application at the server we are using here our Lang chain along with that we are using here AMA and then for this UI we are using here streamlit application so overall building process of this chat application is already covered in our previous videos you can come to my channel kgp talki there is playlist named as local llm tutorial in this local llm tutorial you can find out these two tutorial where I have shown that how you can build your own chat application using AMA and Lang chain now I'm going to show you how you can how you can host your application this application what we are seeing here on local system how you can host this on AWS E2 instance let's go ahead and do that here so the first of all you need to come here at uh AWS console in ec2 window you need to come here if you are at the you know uh at the dashboard here or console home here you need to search ec2 then you need to come here in ec2 dashboard and uh in this e to dashboard you will be seeing something like this then you need to click on here launch instances so we need to launch here one instance so that we can host our application here so what you need to do here you need to first of all give the name for your server so I give name for this as the chat application all right so my instance name is going to be the chat application and therea you need to select here you know the type of Ami which we are going to use here so currently here Amazon Linux 2023 is pre-selected but we are going to select here something else so which type of Ami we are going to select here we are going to select here deep learning Ami so I write here deep learning all right so with this deep learning I can see here all the details so I see here deep learning Nvidia driver Ami GPU py torch so make sure that you select that Ami which have Nvidia GPU and pytorch so I select here this one and along with that I'm going to select here 86 architecture so that it can run on Intel and AMD machines as well thereafter I need to select here the type of instance all right so you need to come here it says that t2. micro so this is very important to select the type of instance currently it is saying the total memory we have here 1 gab of the memory but in our case the type of model which we are going to use here AMA Lama 3.2 all right so this one we are going to use and we will be using here 1 billion parameter model so the 1 billion parameter model size is shown here 1.3 gab all right so this this is just a weight Matrix all right weight Matrix size 1.3 gab byte along with this there would be you know other requirement to load your model and to calculate you know uh to to do the calculations so if you consider all those together you can say that okay if you take 4 gab of the memory for your instance 4 gab of RAM memory to remember if you take the 4 GB of RAM memory then that should be more than enough for 1 billion model 1 billion parameter model all right so what I'm going to do here I'm going to select here a model all right so I'm going to select here a model which have a memory of 4 gab so I can see here t2. medium have 4 GB of memory all right so this one I can select apart from this one more thing also you need to pay attention here that currently we are selecting here a model which have only Intel or you can say that the AMD you know architecture that means only CPU all right let me just show you here you know previous architecture which we were using previously all right with that I can explain you how these overall things are going to work so this was overall architecture which we were discussing previously that in our previous videos that this is something which we have now designed here so we hosted our llama and the O Lama on local uh machine and on local machine I had 6 GB of the GPU but on AWS server now you have two option here all right so either you can host this everything on the CPU or you can host this everything on the GPU all right so GPU or CPU but the one thing you have to uh notice here that is in case of the GPU it's going to cost you a lot but in case of the CPU the cost of the host is going to be very small other other than that one more thing you will notice here that in case of the CPU all in case of the CPU the latency is going to be very high all right this is going to be really very high but in case of the GPU the latency is going to be very small so depending on your huge case you can select a particular machine chain type if you are deploying if you are trying to deploy your model into the production where latency matters then you should be selecting their GPU otherwise if you are just doing for the practice and you just want to know that how you can host your application on AWS ec2 Services then you can select their CPU so here if you search here GPU all right so you should be able to select here GPU equal to 1 let's say I select so here you'll be getting all the instances which have a GPU at least one GPU all right so all of these instances have their GPU all right and here it says that the memory you can also you know uh you can also sort this into ascending and descending order I can see here that there is one GPU which is available with the 16 gab of the memory so we can also select this particular model as well which have one GPU other than that what you can do here you can just select one high performance model so I'm going to select here some you know the C type of instances that's the compute intensive instances so I can select here maybe let me just see that C7 a perhaps I can select here depending on the storage and the memory let me just see here that if I can say that this I want this memory equal to 4 GB with this now I can see all of these instances here and then I can select here C7 type of instance this particular instance I can select here previously we had selected there one instance which was like T2 medium instance with the 4GB but now we are selecting here C7 why C7 because this instance is very powerful instance if you just come here and search it it says that this is compute in intensive instance right so these instances are very powerful instances thereafter you can also have C7 I as well somewhere let me just see that here that is here right so you can also select here C7 I what's the difference between C7 a and I so a is AMD instance you s you see it here it says that this is AMD power instance and if you make it here I then this is going to be the Intel powered instances so you can select either AMD or Intel maybe I should be selecting here Intel for a better performance so I select here Intel thereafter I just select this instance type now I have selected here my Ami with the GPU AMD and the P torch I mean GPU Ami and the P torch and now I have selected here 4GB and two CPU with the C7 I large thereafter you also need to select here the key pair so I'm going to create create here new key payer and this key payer I'm going to uh you know I mean name to this one I'm going to give as the chat application thereafter I click on create keyer it is going to download this PM file later on we will be needing this PM file to connect with our server all right therea it says that the security group So currently we are going to select here a default Security Group it is going to allow all the SSH traffic to our you know the system apart from that we have to also make sure that we should be allowing all the HTTP and https Services otherwise we will not be able to access our application so all of these I select here but make sure that you you you know restrict your security depending on your huge cases thereafter we are going to come here it says that how how much memory we are going to uh how much memory we are going to provide to our instance that mean how much memory we are going to give as a storage so I say that I'm going to give here 100 gab of the memory for my machine so thereafter I come here advance details so all of these details I'm going to leave here as it is I'm not going to change anything here thereafter you can get here all the summary so I'm going to launch here only one instance and then it's going to be deep learning one and this is my instance type and it's going to create here a new security group and then 100 gab of the storage volume thereafter I'm just going to click on this launch instance it is going to launch here a brand new instance so we are going to wait for some time you need to come here at ec2 click on here instances which are running currently so I can see here that this instance got created quickly and it is running and status is actually getting checked here so thereafter I can click on here instance ID once you click on instance ID then you can come here at the connect all right then you can just click on that connect thereafter you can select this ec2 instance connect from here itself and then finally you can just connect your connect your machine directly from here so I can just simply click on here connect then it is going to connect with this one all right so it is going to SSH to our ec2 instance from here there are many ways to connect with my ec2 machine if you click on here connect you can see ec2 instance connect session manager SSH client and EC to serial console later on I'll be also showing you that how you can connect here with the SSH client but as of now just consider that we are connecting this with the ac2 instance connect all right so you come here now you can see here you are connected with your machine here now if you just type here a python you should be able to see here that python should come here as the pre-installed software so the python 3.2 is pre-installed here thereafter I can just simply exit from here thereafter you can check that if Kai is installed here seems like Kai is also installed here you can also activate base environment of the K as well it is just taking while to return you know the output after running this K command all right so it says that okay the K is installed there so I can just simply say that here K activate base it should be able to say that okay so it says that first you run K in it I just copy it and then paste it here I should be able to paste it here okay I can just see that the K in it has happened now I need to run here K activate base again it is saying that seems like something is not right with the K and then I can say that K activate but anyway that doesn't matter because the the python has been already installed here now we need to install here stream lit as well so I run here pip install stream lit so that we can host our application so currently we have our application here right so this is our application apart from that couple of things we have to also install here other than the stream lit so this was our stream lit thereafter we have to install Lang chain along with that we have to also install their AMA as well so what I do here I come here to my application here all right so this was our application one more thing I should be uh telling you that here where is this application hosted so this application is hosted at my GitHub repository you can come here at the repo and then there is the ol chatbot so this is our code and this code we will be hosting at the AWS ec2 instance all right so you need to come here at chatbot with the history you just click on here you will be seeing here all the you know instructions which we have to install there so pip install stream lit have been already done there now what else we have to do here we have to install our Lang line chain as well so I just copy and paste it here I WR pip install you know upgrade in quite mode install Lang chain AMA apart from that we have to also install here Lang chain so these are the three Library which we have to install here Lang chin Lang chin AMA and this stream lit after this we have to also install here AMA So currently if you check here ama ama is not installed so we have to come here we have to search here AMA all right then we come here AMA all right thereafter we come here at the download and then we select here Linux then it says that install it with one command so I just simply copy it from here and thereafter I come here at my Linux machine and then I'm just going to paste that here so it is going to install my AMA on my Linux machine so it is going to take a while to install this so we'll wait for some time all right now I can see here that ama is installed here and it also says that Nvidia GPU is also there although we do not have a GPU connected with our machine but yeah so I mean Nvidia GPU is GPU software is also installed there and the is also installed here now if you run here AMA you should be able to see it here now if you type here AMA do help you should be able to get all the type of the help which you have here so like these are the command AMA serve AMA create AMA show AMA run stop pull push all of these now we are going to pull AMA uh we are going to pull here llama from the AMA so we'll be pulling here llama 3.2 1 billion model so I just copy it from here okay so there is run command just to pull it you have to use their pull but for now I'm just going to pull it and then I'm also going to run it on the E2 instance so that we can know that how much time it is going to take to return the output for a particular chat here so I just run it here thereafter see what happens here it is just going to download this llama 3.21 billion model and then it is going to run it here all right so we are just going to wait for some [Music] time okay although I'm not a good singer okay so I'm just waiting to install this da da so our model has been pulled on our system now we are going to chat with our llama model so I just say that hi now we are going to see that how much time it takes here perfect so it is not taking much of the time so as I type here High it is going to return the answer it actually returned the answer although it took some time but that is not that much of the visible time here so basically now you see here a beauty so we have installed our llama with the O Lama on Ubuntu machine and that Ubuntu machine is using their CPU but CPU we are using here high performance CPU C7 I performer so it has 4 GB of the RAM and 2 CPU is getting used there so this is overall system now let's go ahead and exit from the AMA So currently we are outside of the AMA now we have installed all the necessary libraries there now you see there we installed streamlit Lang chain llama and O Lama everything is installed now it is time to host our application there so to host our application what we have to do here we have to actually you know we have to actually copy this one uh I mean the code which we have here currently so this code we have to copy from here to there so one way what we can do here we can just clone this whole repository from this GitHub to there so I can just copy this from here since this is a public repository you can just clone it there as well so what you can do here get the link from here thereafter you come here and then type here get clone and then paste your link here so this is our link here then I'm just going to run it here it is going to clone this repository if you just type here LS it is going to list all the you know the folders here and the files so it says that this is our AMA chatbot let's go ahead go inside our AMA chatbot so I come inside AMA chatbot thereafter if you do here LS you can see here we have this one and we have also this one so we are running actually this one so what I do here again I come here inside our two do chatbot with the history there after you can just see it here you have your file here two. chatbot with the history. py thereafter you can just simply run here stream lit run and therea two do chatbot with the history. py all right thereafter it is going to take a while to run it here now it is running there success y it has provided you here external link you just need to copy this external link if you want to access it from the external world so you just copy this whole link from there and then paste it here now you can see that this should be running there I say here continue on this side okay let's go ahead and just do it again somehow seems like it says that let me just copy and paste it here okay again and then see what happens here it says that we we cannot reach out to this so what could be the reason here okay so there could be multiple reasons because we might not have set our you know the security group for this instance so what I do here I come back here the ac2 and then I come to my instance here so this is our instance which is currently running thereafter we have to come here and check what is the security connected with this I come here at the security thereafter I see here this is our security group and it says that these are the port only opened right so these are the only Port which are open and currently we are trying to access it and on 85 01 Port so what you need to do here you have to come here to your Security Group currently which you have here so this is your Security Group here launch wizard 3 so click on this then it will take you to the security group thereafter you have to thereafter you have to click on here edit inbound rules and in this edit inbound rules you have to add their additional ports as well so I just go here and thereafter I say here custom TCP so instead of that I say that here all traffic and thereafter it's going to take all port and all traffic but that is not always recommended so what you can do here you can say that all TCP all right so all the TCP connection is going to be accepted here and it is going to accept on all Port thereafter you can just simply save it then it says that okay okay thereafter you can just save it here now you see here you have uh saved your security modification now you should come here all right one more thing I should tell you here after you know changing your security security setting it will take a while like 1 to 2 minutes and thereafter this will automatically you know uh this will automatically get attached with your ec2 instance so you don't need to attach it separately now this is attached with your ec2 instance we had refreshed that now you can see it here that at this particular IP address now I can access my uh uh I can access my streamlit application then I say that hi okay then I say here myself H kgp talk I make videos at youtube.com for/ kgp talki let's say and then I just submit it it should be telling you that hello kgp talki and etc etc let's see so it will take a while to generate response because you know that we are hosting our model on the CPU machine so obviously it will take some time to generate this final response so we have to wait for some time maybe like 10 to 20 seconds it might take but overall concept was here to make sure that you learn how to install how to deploy your application on ec2 server on ec2 machine with this I hope that you have learned here that how you can deploy your uh you know application Ama your application with the olama and L chain on AWS ac2 now you can see it here that it says that okay hello kjp talk and etc etc thereafter let's say if I say that what is my name then through the previous chat it should be able to tell that my name is kgp talk so because this application is history enabled application all right now it says that your username on YouTube is kgp talk okay and would you like me to refer you as the kgp or talki all right and uh we can discuss your Channel all right so this is how you can deploy your application on AWS Services apart from that one thing uh I did not show you that how you can connect your ec2 instance uh other than you know through this instance if you want to do that then uh for that purpose what you can do I have I I have a udmi course that udmi course you can actually refer so you come here at Lui Merit thereafter you can come here at the NLP tutorials with the hugging P thereafter here you will get one of my course there is the finetuning llm with hugging face transform for NLP that's the one and there is the another one deployment of machine learning models in production in Python so if you open this you will be seeing that my udmi course here this is one of the highest rated course on the udmi here I discuss so many things and so many ways to deploy your application on AWS ec2 how you can use AWS S3 Services how you can use other AWS services like you can use the Lambda Services you can also use you know you can use their Docker you can use fast API you can use AWS fargate you can use AWS ECR AWS ECS so there are so many ways to use that so the link of this course you can get from the repository that is the NLP tutorial with the hugging face later on I'll be also adding this with my current repository currently which I have here basically our AMA chat so later on you can get from there as well from here as well I hope that this overall uh uh overall tutorial was helpful to you and you must have learned here by now that how you can deploy your chat application on AWS ac2 thereafter one more thing I should be telling you here that let's see if you close this window so this is going to be closed here so to make sure that this keeps running what you can do here you can write here a screen thereafter it's going to create here a new screen and then you can close your window after running the streamlit services here like this streamlit run and then your application here so if you do something like this and then you can press here control A and D together so it is going to De attach that uh that and even though if you close it from here then you can just you know keep seeing your application running here so if you refresh this you should be able to see that your application is still there all right so you can just simply say that hi it should be able to give you the output so this is one concept here another concept let's say if you want to you know restart your machine so if you restart your machine then your IP address will get changed automatically so to fix your IP address what you can do here you can come here and then you can click on elastic ipage in this elastic ipage then you can allocate here one elastic IP address so that you can fix it don't worry about this all of these things are discussed properly in my course where I have talked about the deployment of machine learning models in the production if you want to make sure that you learn every aspect of model deployment in the production using AWS Services then I think you should be watching this course all right I hope that this was helpful to you let's go ahead and do our resource cleanup do not forget about the resource cleanup so to clean up our resource what you can do here you can just select the you know the machine which you want to uh machine which you want to stop thereafter you can just come here and then you can just say that here terminate and delete instances so this is going to terminate and delete your instance completely your application will get lost automatically whatever you have deployed there all right now you see there termination has started now after some time you will see that your application is not accessible at all now you can see it here that you have lost the access to your application so overall the concept which I wanted to make you learn that you learn how to deploy your mod model on the AWS services and I hope that we have achieved that process all right please do like this video And subscribe this Channel and I'll be making more videos on the Lang chain and U Lama and also the llm so that you can get the update directly once you subscribe this channel okay thank you bye-bye take care\")]"
      ]
     },
     "execution_count": 3,
     "metadata": {},
     "output_type": "execute_result"
    }
   ],
   "source": [
    "docs"
   ]
  },
  {
   "cell_type": "code",
   "execution_count": 4,
   "metadata": {},
   "outputs": [
    {
     "data": {
      "text/plain": [
       "1"
      ]
     },
     "execution_count": 4,
     "metadata": {},
     "output_type": "execute_result"
    }
   ],
   "source": [
    "len(docs)"
   ]
  },
  {
   "cell_type": "code",
   "execution_count": 5,
   "metadata": {},
   "outputs": [],
   "source": [
    "doc = docs[0]"
   ]
  },
  {
   "cell_type": "code",
   "execution_count": 6,
   "metadata": {},
   "outputs": [
    {
     "data": {
      "text/plain": [
       "{'source': 'vCyVVsdKJCg',\n",
       " 'title': 'Deploy LLM Application on AWS EC2 with Langchain and Ollama | Deploy LLAMA 3.2 App',\n",
       " 'description': 'Local LLM Tutorial Playlist: https://www.youtube.com/playlist?list=PLc2rvfiptPSReropGbvDFpB6dneNBwqhD\\n\\nIn this tutorial, I’ll walk you through the step-by-step process of deploying your AI-powered chat application using LangChain, Llama, and Streamlit on AWS EC2. Whether you’re building an LLM chatbot for personal projects or for production, this guide covers everything you need to know about:\\n\\n- Launching an EC2 instance on AWS\\n- Selecting the right AMI and instance type (Deep Learning AMI with Nvidia GPU, C7 Intel-powered instances)\\n- Installing LangChain, AMA, and Streamlit\\n- Cloning your project from GitHub to EC2\\n- Configuring security groups and ports for external access\\n- Running and hosting your chat app on AWS EC2 efficiently\\n- Ensuring persistent app operation with screen.\\n\\nCheck out the full source code on GitHub and learn how to host your LLM chat app with low latency and minimal cost.\\n\\nDeployment of Machine Learning Models in Production in Python:\\nhttps://bit.ly/bert_nlp\\n\\nPrevious Video:\\nhttps://youtu.be/uRV49nK-BOU\\n\\nCode Files:\\nhttps://github.com/laxmimerit/ollama-chatbot\\n\\nStreamlit Tutorials:\\nhttps://youtu.be/hff2tHUzxJM?si=aQiEDqW0m804N8j_\\n\\n\\n🔊 Watch till last for a detailed description\\n\\n💯 Read Full Blog with Code\\n       https://kgptalkie.com\\n💬 Leave your comments and doubts in the comment section\\n📌 Save this channel and video for watch later\\n👍 Like this video to show your support and love ❤️\\n\\n~~~~~~~~\\n🆓 Watch My Top Free Data Science Videos\\n👉🏻 Python for Data Scientist\\n      https://bit.ly/3dETtFb\\n👉🏻 Machine Learning for Beginners\\n      https://bit.ly/2WOVh7N\\n👉🏻 Feature Selection in Machine Learning\\n      https://bit.ly/2YW6ZQH\\n👉🏻 Text Preprocessing and Mining for NLP\\n       https://bit.ly/31sYMUN\\n👉🏻 Natural Language Processing (NLP)\\n      Tutorials https://bit.ly/3dF1cTL\\n👉🏻 Deep Learning with TensorFlow 2.0\\n      and Keras https://bit.ly/3dFl09G\\n👉🏻 COVID 19 Data Analysis and Visualization\\n      Masterclass https://bit.ly/31vNC1U\\n👉🏻 Machine Learning Model Deployment Using\\n      Flask at AWS https://bit.ly/3b1svaD\\n👉🏻 Make Your Own Automated Email Marketing\\n      Software in Python https://bit.ly/2QqLaDy\\n\\n***********\\n🤝 BE MY FRIEND\\n🌍 Check Out ML Blogs:  https://kgptalkie.com\\n🐦Add me on Twitter: https://twitter.com/laxmimerit\\n📄 Follow me on GitHub: https://github.com/laxmimerit\\n📕 Add me on Facebook: https://facebook.com/kgptalkie\\n💼 Add me on LinkedIn: https://linkedin.com/in/laxmimerit\\n👉🏻 Complete Udemy Courses: https://bit.ly/32taBK2\\n⚡ Check out my Recent Videos: https://bit.ly/3ldnbWm\\n🔔 Subscribe me for Free Videos: https://bit.ly/34wN6T6\\n🤑 Get in touch for Promotion: info@kgptalkie.com\\n\\n✍️🏆🏅🎁🎊🎉✌️👌⭐⭐⭐⭐⭐\\nENROLL in My Highest Rated Udemy Courses\\nto 🔑 Crack Data Science Interviews and Jobs\\n\\n🏅🎁 Python for Machine Learning: A Step-by-Step Guide | Udemy\\nCourse Link: https://bit.ly/ml-ds-project\\n\\n🎁🎊 Deep Learning for Beginners with Python\\nCourse Link: https://bit.ly/dl-with-python\\n\\n📚 📗 Natural Language Processing ML Model Deployment at AWS\\nCourse Link: https://bit.ly/bert_nlp\\n\\n📊 📈 Data Visualization in Python Masterclass: Beginners to Pro\\nCourse Link: https://bit.ly/udemy95off_kgptalkie\\n\\n📘 📙 Natural Language Processing (NLP) in Python for Beginners\\nCourse Link: https://bit.ly/intro_nlp\\n\\n🎉✌️ Advanced Natural Language and Image Processing Projects | Udemy\\nCourse Link: https://bit.ly/kgptalkie_ml_projects\\n\\n📈 📘 Python for Linear Regression in Machine Learning\\nCourse Link: https://bit.ly/regression-python\\n\\n📙📊 R 4.0 Programming for Data Science || Beginners to Pro\\nCourse Link: http://bit.ly/r4-ml\\n\\n✍️🏆 Introduction to Spacy 3 for Natural Language Processing\\nCourse Link: https://bit.ly/spacy-intro',\n",
       " 'view_count': 627,\n",
       " 'thumbnail_url': 'https://i.ytimg.com/vi/vCyVVsdKJCg/sddefault.jpg',\n",
       " 'publish_date': '2024-10-20 00:00:00',\n",
       " 'length': 1763,\n",
       " 'author': 'KGP Talkie'}"
      ]
     },
     "execution_count": 6,
     "metadata": {},
     "output_type": "execute_result"
    }
   ],
   "source": [
    "doc.metadata"
   ]
  },
  {
   "cell_type": "code",
   "execution_count": 7,
   "metadata": {},
   "outputs": [
    {
     "name": "stdout",
     "output_type": "stream",
     "text": [
      "hey everyone so today I'm going to show you how you can host your chat application with AMA and Lang chain on AWS services so we'll be using here AWS E2 services to host our application at the server we are using here our Lang chain along with that we are using here AMA and then for this UI we are using here streamlit application so overall building process of this chat application is already covered in our previous videos you can come to my channel kgp talki there is playlist named as local llm tutorial in this local llm tutorial you can find out these two tutorial where I have shown that how you can build your own chat application using AMA and Lang chain now I'm going to show you how you can how you can host your application this application what we are seeing here on local system how you can host this on AWS E2 instance let's go ahead and do that here so the first of all you need to come here at uh AWS console in ec2 window you need to come here if you are at the you know uh at the dashboard here or console home here you need to search ec2 then you need to come here in ec2 dashboard and uh in this e to dashboard you will be seeing something like this then you need to click on here launch instances so we need to launch here one instance so that we can host our application here so what you need to do here you need to first of all give the name for your server so I give name for this as the chat application all right so my instance name is going to be the chat application and therea you need to select here you know the type of Ami which we are going to use here so currently here Amazon Linux 2023 is pre-selected but we are going to select here something else so which type of Ami we are going to select here we are going to select here deep learning Ami so I write here deep learning all right so with this deep learning I can see here all the details so I see here deep learning Nvidia driver Ami GPU py torch so make sure that you select that Ami which have Nvidia GPU and pytorch so I select here this one and along with that I'm going to select here 86 architecture so that it can run on Intel and AMD machines as well thereafter I need to select here the type of instance all right so you need to come here it says that t2. micro so this is very important to select the type of instance currently it is saying the total memory we have here 1 gab of the memory but in our case the type of model which we are going to use here AMA Lama 3.2 all right so this one we are going to use and we will be using here 1 billion parameter model so the 1 billion parameter model size is shown here 1.3 gab all right so this this is just a weight Matrix all right weight Matrix size 1.3 gab byte along with this there would be you know other requirement to load your model and to calculate you know uh to to do the calculations so if you consider all those together you can say that okay if you take 4 gab of the memory for your instance 4 gab of RAM memory to remember if you take the 4 GB of RAM memory then that should be more than enough for 1 billion model 1 billion parameter model all right so what I'm going to do here I'm going to select here a model all right so I'm going to select here a model which have a memory of 4 gab so I can see here t2. medium have 4 GB of memory all right so this one I can select apart from this one more thing also you need to pay attention here that currently we are selecting here a model which have only Intel or you can say that the AMD you know architecture that means only CPU all right let me just show you here you know previous architecture which we were using previously all right with that I can explain you how these overall things are going to work so this was overall architecture which we were discussing previously that in our previous videos that this is something which we have now designed here so we hosted our llama and the O Lama on local uh machine and on local machine I had 6 GB of the GPU but on AWS server now you have two option here all right so either you can host this everything on the CPU or you can host this everything on the GPU all right so GPU or CPU but the one thing you have to uh notice here that is in case of the GPU it's going to cost you a lot but in case of the CPU the cost of the host is going to be very small other other than that one more thing you will notice here that in case of the CPU all in case of the CPU the latency is going to be very high all right this is going to be really very high but in case of the GPU the latency is going to be very small so depending on your huge case you can select a particular machine chain type if you are deploying if you are trying to deploy your model into the production where latency matters then you should be selecting their GPU otherwise if you are just doing for the practice and you just want to know that how you can host your application on AWS ec2 Services then you can select their CPU so here if you search here GPU all right so you should be able to select here GPU equal to 1 let's say I select so here you'll be getting all the instances which have a GPU at least one GPU all right so all of these instances have their GPU all right and here it says that the memory you can also you know uh you can also sort this into ascending and descending order I can see here that there is one GPU which is available with the 16 gab of the memory so we can also select this particular model as well which have one GPU other than that what you can do here you can just select one high performance model so I'm going to select here some you know the C type of instances that's the compute intensive instances so I can select here maybe let me just see that C7 a perhaps I can select here depending on the storage and the memory let me just see here that if I can say that this I want this memory equal to 4 GB with this now I can see all of these instances here and then I can select here C7 type of instance this particular instance I can select here previously we had selected there one instance which was like T2 medium instance with the 4GB but now we are selecting here C7 why C7 because this instance is very powerful instance if you just come here and search it it says that this is compute in intensive instance right so these instances are very powerful instances thereafter you can also have C7 I as well somewhere let me just see that here that is here right so you can also select here C7 I what's the difference between C7 a and I so a is AMD instance you s you see it here it says that this is AMD power instance and if you make it here I then this is going to be the Intel powered instances so you can select either AMD or Intel maybe I should be selecting here Intel for a better performance so I select here Intel thereafter I just select this instance type now I have selected here my Ami with the GPU AMD and the P torch I mean GPU Ami and the P torch and now I have selected here 4GB and two CPU with the C7 I large thereafter you also need to select here the key pair so I'm going to create create here new key payer and this key payer I'm going to uh you know I mean name to this one I'm going to give as the chat application thereafter I click on create keyer it is going to download this PM file later on we will be needing this PM file to connect with our server all right therea it says that the security group So currently we are going to select here a default Security Group it is going to allow all the SSH traffic to our you know the system apart from that we have to also make sure that we should be allowing all the HTTP and https Services otherwise we will not be able to access our application so all of these I select here but make sure that you you you know restrict your security depending on your huge cases thereafter we are going to come here it says that how how much memory we are going to uh how much memory we are going to provide to our instance that mean how much memory we are going to give as a storage so I say that I'm going to give here 100 gab of the memory for my machine so thereafter I come here advance details so all of these details I'm going to leave here as it is I'm not going to change anything here thereafter you can get here all the summary so I'm going to launch here only one instance and then it's going to be deep learning one and this is my instance type and it's going to create here a new security group and then 100 gab of the storage volume thereafter I'm just going to click on this launch instance it is going to launch here a brand new instance so we are going to wait for some time you need to come here at ec2 click on here instances which are running currently so I can see here that this instance got created quickly and it is running and status is actually getting checked here so thereafter I can click on here instance ID once you click on instance ID then you can come here at the connect all right then you can just click on that connect thereafter you can select this ec2 instance connect from here itself and then finally you can just connect your connect your machine directly from here so I can just simply click on here connect then it is going to connect with this one all right so it is going to SSH to our ec2 instance from here there are many ways to connect with my ec2 machine if you click on here connect you can see ec2 instance connect session manager SSH client and EC to serial console later on I'll be also showing you that how you can connect here with the SSH client but as of now just consider that we are connecting this with the ac2 instance connect all right so you come here now you can see here you are connected with your machine here now if you just type here a python you should be able to see here that python should come here as the pre-installed software so the python 3.2 is pre-installed here thereafter I can just simply exit from here thereafter you can check that if Kai is installed here seems like Kai is also installed here you can also activate base environment of the K as well it is just taking while to return you know the output after running this K command all right so it says that okay the K is installed there so I can just simply say that here K activate base it should be able to say that okay so it says that first you run K in it I just copy it and then paste it here I should be able to paste it here okay I can just see that the K in it has happened now I need to run here K activate base again it is saying that seems like something is not right with the K and then I can say that K activate but anyway that doesn't matter because the the python has been already installed here now we need to install here stream lit as well so I run here pip install stream lit so that we can host our application so currently we have our application here right so this is our application apart from that couple of things we have to also install here other than the stream lit so this was our stream lit thereafter we have to install Lang chain along with that we have to also install their AMA as well so what I do here I come here to my application here all right so this was our application one more thing I should be uh telling you that here where is this application hosted so this application is hosted at my GitHub repository you can come here at the repo and then there is the ol chatbot so this is our code and this code we will be hosting at the AWS ec2 instance all right so you need to come here at chatbot with the history you just click on here you will be seeing here all the you know instructions which we have to install there so pip install stream lit have been already done there now what else we have to do here we have to install our Lang line chain as well so I just copy and paste it here I WR pip install you know upgrade in quite mode install Lang chain AMA apart from that we have to also install here Lang chain so these are the three Library which we have to install here Lang chin Lang chin AMA and this stream lit after this we have to also install here AMA So currently if you check here ama ama is not installed so we have to come here we have to search here AMA all right then we come here AMA all right thereafter we come here at the download and then we select here Linux then it says that install it with one command so I just simply copy it from here and thereafter I come here at my Linux machine and then I'm just going to paste that here so it is going to install my AMA on my Linux machine so it is going to take a while to install this so we'll wait for some time all right now I can see here that ama is installed here and it also says that Nvidia GPU is also there although we do not have a GPU connected with our machine but yeah so I mean Nvidia GPU is GPU software is also installed there and the is also installed here now if you run here AMA you should be able to see it here now if you type here AMA do help you should be able to get all the type of the help which you have here so like these are the command AMA serve AMA create AMA show AMA run stop pull push all of these now we are going to pull AMA uh we are going to pull here llama from the AMA so we'll be pulling here llama 3.2 1 billion model so I just copy it from here okay so there is run command just to pull it you have to use their pull but for now I'm just going to pull it and then I'm also going to run it on the E2 instance so that we can know that how much time it is going to take to return the output for a particular chat here so I just run it here thereafter see what happens here it is just going to download this llama 3.21 billion model and then it is going to run it here all right so we are just going to wait for some [Music] time okay although I'm not a good singer okay so I'm just waiting to install this da da so our model has been pulled on our system now we are going to chat with our llama model so I just say that hi now we are going to see that how much time it takes here perfect so it is not taking much of the time so as I type here High it is going to return the answer it actually returned the answer although it took some time but that is not that much of the visible time here so basically now you see here a beauty so we have installed our llama with the O Lama on Ubuntu machine and that Ubuntu machine is using their CPU but CPU we are using here high performance CPU C7 I performer so it has 4 GB of the RAM and 2 CPU is getting used there so this is overall system now let's go ahead and exit from the AMA So currently we are outside of the AMA now we have installed all the necessary libraries there now you see there we installed streamlit Lang chain llama and O Lama everything is installed now it is time to host our application there so to host our application what we have to do here we have to actually you know we have to actually copy this one uh I mean the code which we have here currently so this code we have to copy from here to there so one way what we can do here we can just clone this whole repository from this GitHub to there so I can just copy this from here since this is a public repository you can just clone it there as well so what you can do here get the link from here thereafter you come here and then type here get clone and then paste your link here so this is our link here then I'm just going to run it here it is going to clone this repository if you just type here LS it is going to list all the you know the folders here and the files so it says that this is our AMA chatbot let's go ahead go inside our AMA chatbot so I come inside AMA chatbot thereafter if you do here LS you can see here we have this one and we have also this one so we are running actually this one so what I do here again I come here inside our two do chatbot with the history there after you can just see it here you have your file here two. chatbot with the history. py thereafter you can just simply run here stream lit run and therea two do chatbot with the history. py all right thereafter it is going to take a while to run it here now it is running there success y it has provided you here external link you just need to copy this external link if you want to access it from the external world so you just copy this whole link from there and then paste it here now you can see that this should be running there I say here continue on this side okay let's go ahead and just do it again somehow seems like it says that let me just copy and paste it here okay again and then see what happens here it says that we we cannot reach out to this so what could be the reason here okay so there could be multiple reasons because we might not have set our you know the security group for this instance so what I do here I come back here the ac2 and then I come to my instance here so this is our instance which is currently running thereafter we have to come here and check what is the security connected with this I come here at the security thereafter I see here this is our security group and it says that these are the port only opened right so these are the only Port which are open and currently we are trying to access it and on 85 01 Port so what you need to do here you have to come here to your Security Group currently which you have here so this is your Security Group here launch wizard 3 so click on this then it will take you to the security group thereafter you have to thereafter you have to click on here edit inbound rules and in this edit inbound rules you have to add their additional ports as well so I just go here and thereafter I say here custom TCP so instead of that I say that here all traffic and thereafter it's going to take all port and all traffic but that is not always recommended so what you can do here you can say that all TCP all right so all the TCP connection is going to be accepted here and it is going to accept on all Port thereafter you can just simply save it then it says that okay okay thereafter you can just save it here now you see here you have uh saved your security modification now you should come here all right one more thing I should tell you here after you know changing your security security setting it will take a while like 1 to 2 minutes and thereafter this will automatically you know uh this will automatically get attached with your ec2 instance so you don't need to attach it separately now this is attached with your ec2 instance we had refreshed that now you can see it here that at this particular IP address now I can access my uh uh I can access my streamlit application then I say that hi okay then I say here myself H kgp talk I make videos at youtube.com for/ kgp talki let's say and then I just submit it it should be telling you that hello kgp talki and etc etc let's see so it will take a while to generate response because you know that we are hosting our model on the CPU machine so obviously it will take some time to generate this final response so we have to wait for some time maybe like 10 to 20 seconds it might take but overall concept was here to make sure that you learn how to install how to deploy your application on ec2 server on ec2 machine with this I hope that you have learned here that how you can deploy your uh you know application Ama your application with the olama and L chain on AWS ac2 now you can see it here that it says that okay hello kjp talk and etc etc thereafter let's say if I say that what is my name then through the previous chat it should be able to tell that my name is kgp talk so because this application is history enabled application all right now it says that your username on YouTube is kgp talk okay and would you like me to refer you as the kgp or talki all right and uh we can discuss your Channel all right so this is how you can deploy your application on AWS Services apart from that one thing uh I did not show you that how you can connect your ec2 instance uh other than you know through this instance if you want to do that then uh for that purpose what you can do I have I I have a udmi course that udmi course you can actually refer so you come here at Lui Merit thereafter you can come here at the NLP tutorials with the hugging P thereafter here you will get one of my course there is the finetuning llm with hugging face transform for NLP that's the one and there is the another one deployment of machine learning models in production in Python so if you open this you will be seeing that my udmi course here this is one of the highest rated course on the udmi here I discuss so many things and so many ways to deploy your application on AWS ec2 how you can use AWS S3 Services how you can use other AWS services like you can use the Lambda Services you can also use you know you can use their Docker you can use fast API you can use AWS fargate you can use AWS ECR AWS ECS so there are so many ways to use that so the link of this course you can get from the repository that is the NLP tutorial with the hugging face later on I'll be also adding this with my current repository currently which I have here basically our AMA chat so later on you can get from there as well from here as well I hope that this overall uh uh overall tutorial was helpful to you and you must have learned here by now that how you can deploy your chat application on AWS ac2 thereafter one more thing I should be telling you here that let's see if you close this window so this is going to be closed here so to make sure that this keeps running what you can do here you can write here a screen thereafter it's going to create here a new screen and then you can close your window after running the streamlit services here like this streamlit run and then your application here so if you do something like this and then you can press here control A and D together so it is going to De attach that uh that and even though if you close it from here then you can just you know keep seeing your application running here so if you refresh this you should be able to see that your application is still there all right so you can just simply say that hi it should be able to give you the output so this is one concept here another concept let's say if you want to you know restart your machine so if you restart your machine then your IP address will get changed automatically so to fix your IP address what you can do here you can come here and then you can click on elastic ipage in this elastic ipage then you can allocate here one elastic IP address so that you can fix it don't worry about this all of these things are discussed properly in my course where I have talked about the deployment of machine learning models in the production if you want to make sure that you learn every aspect of model deployment in the production using AWS Services then I think you should be watching this course all right I hope that this was helpful to you let's go ahead and do our resource cleanup do not forget about the resource cleanup so to clean up our resource what you can do here you can just select the you know the machine which you want to uh machine which you want to stop thereafter you can just come here and then you can just say that here terminate and delete instances so this is going to terminate and delete your instance completely your application will get lost automatically whatever you have deployed there all right now you see there termination has started now after some time you will see that your application is not accessible at all now you can see it here that you have lost the access to your application so overall the concept which I wanted to make you learn that you learn how to deploy your mod model on the AWS services and I hope that we have achieved that process all right please do like this video And subscribe this Channel and I'll be making more videos on the Lang chain and U Lama and also the llm so that you can get the update directly once you subscribe this channel okay thank you bye-bye take care\n"
     ]
    }
   ],
   "source": [
    "print(doc.page_content)"
   ]
  },
  {
   "cell_type": "code",
   "execution_count": null,
   "metadata": {},
   "outputs": [],
   "source": []
  },
  {
   "cell_type": "markdown",
   "metadata": {},
   "source": [
    "### Read youtube video in 10 mins chunks"
   ]
  },
  {
   "cell_type": "code",
   "execution_count": 8,
   "metadata": {},
   "outputs": [],
   "source": [
    "\n",
    "from langchain_community.document_loaders.youtube import TranscriptFormat \n",
    "\n",
    "loader = YoutubeLoader.from_youtube_url(url, \n",
    "                                        add_video_info=True, \n",
    "                                        transcript_format=TranscriptFormat.CHUNKS, \n",
    "                                        chunk_size_seconds=600)\n",
    "\n",
    "docs = loader.load()"
   ]
  },
  {
   "cell_type": "code",
   "execution_count": 9,
   "metadata": {},
   "outputs": [
    {
     "data": {
      "text/plain": [
       "3"
      ]
     },
     "execution_count": 9,
     "metadata": {},
     "output_type": "execute_result"
    }
   ],
   "source": [
    "len(docs)"
   ]
  },
  {
   "cell_type": "code",
   "execution_count": 10,
   "metadata": {},
   "outputs": [
    {
     "data": {
      "text/plain": [
       "{'source': 'https://www.youtube.com/watch?v=vCyVVsdKJCg&t=0s',\n",
       " 'title': 'Deploy LLM Application on AWS EC2 with Langchain and Ollama | Deploy LLAMA 3.2 App',\n",
       " 'description': 'Local LLM Tutorial Playlist: https://www.youtube.com/playlist?list=PLc2rvfiptPSReropGbvDFpB6dneNBwqhD\\n\\nIn this tutorial, I’ll walk you through the step-by-step process of deploying your AI-powered chat application using LangChain, Llama, and Streamlit on AWS EC2. Whether you’re building an LLM chatbot for personal projects or for production, this guide covers everything you need to know about:\\n\\n- Launching an EC2 instance on AWS\\n- Selecting the right AMI and instance type (Deep Learning AMI with Nvidia GPU, C7 Intel-powered instances)\\n- Installing LangChain, AMA, and Streamlit\\n- Cloning your project from GitHub to EC2\\n- Configuring security groups and ports for external access\\n- Running and hosting your chat app on AWS EC2 efficiently\\n- Ensuring persistent app operation with screen.\\n\\nCheck out the full source code on GitHub and learn how to host your LLM chat app with low latency and minimal cost.\\n\\nDeployment of Machine Learning Models in Production in Python:\\nhttps://bit.ly/bert_nlp\\n\\nPrevious Video:\\nhttps://youtu.be/uRV49nK-BOU\\n\\nCode Files:\\nhttps://github.com/laxmimerit/ollama-chatbot\\n\\nStreamlit Tutorials:\\nhttps://youtu.be/hff2tHUzxJM?si=aQiEDqW0m804N8j_\\n\\n\\n🔊 Watch till last for a detailed description\\n\\n💯 Read Full Blog with Code\\n       https://kgptalkie.com\\n💬 Leave your comments and doubts in the comment section\\n📌 Save this channel and video for watch later\\n👍 Like this video to show your support and love ❤️\\n\\n~~~~~~~~\\n🆓 Watch My Top Free Data Science Videos\\n👉🏻 Python for Data Scientist\\n      https://bit.ly/3dETtFb\\n👉🏻 Machine Learning for Beginners\\n      https://bit.ly/2WOVh7N\\n👉🏻 Feature Selection in Machine Learning\\n      https://bit.ly/2YW6ZQH\\n👉🏻 Text Preprocessing and Mining for NLP\\n       https://bit.ly/31sYMUN\\n👉🏻 Natural Language Processing (NLP)\\n      Tutorials https://bit.ly/3dF1cTL\\n👉🏻 Deep Learning with TensorFlow 2.0\\n      and Keras https://bit.ly/3dFl09G\\n👉🏻 COVID 19 Data Analysis and Visualization\\n      Masterclass https://bit.ly/31vNC1U\\n👉🏻 Machine Learning Model Deployment Using\\n      Flask at AWS https://bit.ly/3b1svaD\\n👉🏻 Make Your Own Automated Email Marketing\\n      Software in Python https://bit.ly/2QqLaDy\\n\\n***********\\n🤝 BE MY FRIEND\\n🌍 Check Out ML Blogs:  https://kgptalkie.com\\n🐦Add me on Twitter: https://twitter.com/laxmimerit\\n📄 Follow me on GitHub: https://github.com/laxmimerit\\n📕 Add me on Facebook: https://facebook.com/kgptalkie\\n💼 Add me on LinkedIn: https://linkedin.com/in/laxmimerit\\n👉🏻 Complete Udemy Courses: https://bit.ly/32taBK2\\n⚡ Check out my Recent Videos: https://bit.ly/3ldnbWm\\n🔔 Subscribe me for Free Videos: https://bit.ly/34wN6T6\\n🤑 Get in touch for Promotion: info@kgptalkie.com\\n\\n✍️🏆🏅🎁🎊🎉✌️👌⭐⭐⭐⭐⭐\\nENROLL in My Highest Rated Udemy Courses\\nto 🔑 Crack Data Science Interviews and Jobs\\n\\n🏅🎁 Python for Machine Learning: A Step-by-Step Guide | Udemy\\nCourse Link: https://bit.ly/ml-ds-project\\n\\n🎁🎊 Deep Learning for Beginners with Python\\nCourse Link: https://bit.ly/dl-with-python\\n\\n📚 📗 Natural Language Processing ML Model Deployment at AWS\\nCourse Link: https://bit.ly/bert_nlp\\n\\n📊 📈 Data Visualization in Python Masterclass: Beginners to Pro\\nCourse Link: https://bit.ly/udemy95off_kgptalkie\\n\\n📘 📙 Natural Language Processing (NLP) in Python for Beginners\\nCourse Link: https://bit.ly/intro_nlp\\n\\n🎉✌️ Advanced Natural Language and Image Processing Projects | Udemy\\nCourse Link: https://bit.ly/kgptalkie_ml_projects\\n\\n📈 📘 Python for Linear Regression in Machine Learning\\nCourse Link: https://bit.ly/regression-python\\n\\n📙📊 R 4.0 Programming for Data Science || Beginners to Pro\\nCourse Link: http://bit.ly/r4-ml\\n\\n✍️🏆 Introduction to Spacy 3 for Natural Language Processing\\nCourse Link: https://bit.ly/spacy-intro',\n",
       " 'view_count': 626,\n",
       " 'thumbnail_url': 'https://i.ytimg.com/vi/vCyVVsdKJCg/sddefault.jpg',\n",
       " 'publish_date': '2024-10-20 00:00:00',\n",
       " 'length': 1763,\n",
       " 'author': 'KGP Talkie',\n",
       " 'start_seconds': 0,\n",
       " 'start_timestamp': '00:00:00'}"
      ]
     },
     "execution_count": 10,
     "metadata": {},
     "output_type": "execute_result"
    }
   ],
   "source": [
    "docs[0].metadata"
   ]
  },
  {
   "cell_type": "code",
   "execution_count": 11,
   "metadata": {},
   "outputs": [
    {
     "data": {
      "text/plain": [
       "{'source': 'https://www.youtube.com/watch?v=vCyVVsdKJCg&t=600s',\n",
       " 'title': 'Deploy LLM Application on AWS EC2 with Langchain and Ollama | Deploy LLAMA 3.2 App',\n",
       " 'description': 'Local LLM Tutorial Playlist: https://www.youtube.com/playlist?list=PLc2rvfiptPSReropGbvDFpB6dneNBwqhD\\n\\nIn this tutorial, I’ll walk you through the step-by-step process of deploying your AI-powered chat application using LangChain, Llama, and Streamlit on AWS EC2. Whether you’re building an LLM chatbot for personal projects or for production, this guide covers everything you need to know about:\\n\\n- Launching an EC2 instance on AWS\\n- Selecting the right AMI and instance type (Deep Learning AMI with Nvidia GPU, C7 Intel-powered instances)\\n- Installing LangChain, AMA, and Streamlit\\n- Cloning your project from GitHub to EC2\\n- Configuring security groups and ports for external access\\n- Running and hosting your chat app on AWS EC2 efficiently\\n- Ensuring persistent app operation with screen.\\n\\nCheck out the full source code on GitHub and learn how to host your LLM chat app with low latency and minimal cost.\\n\\nDeployment of Machine Learning Models in Production in Python:\\nhttps://bit.ly/bert_nlp\\n\\nPrevious Video:\\nhttps://youtu.be/uRV49nK-BOU\\n\\nCode Files:\\nhttps://github.com/laxmimerit/ollama-chatbot\\n\\nStreamlit Tutorials:\\nhttps://youtu.be/hff2tHUzxJM?si=aQiEDqW0m804N8j_\\n\\n\\n🔊 Watch till last for a detailed description\\n\\n💯 Read Full Blog with Code\\n       https://kgptalkie.com\\n💬 Leave your comments and doubts in the comment section\\n📌 Save this channel and video for watch later\\n👍 Like this video to show your support and love ❤️\\n\\n~~~~~~~~\\n🆓 Watch My Top Free Data Science Videos\\n👉🏻 Python for Data Scientist\\n      https://bit.ly/3dETtFb\\n👉🏻 Machine Learning for Beginners\\n      https://bit.ly/2WOVh7N\\n👉🏻 Feature Selection in Machine Learning\\n      https://bit.ly/2YW6ZQH\\n👉🏻 Text Preprocessing and Mining for NLP\\n       https://bit.ly/31sYMUN\\n👉🏻 Natural Language Processing (NLP)\\n      Tutorials https://bit.ly/3dF1cTL\\n👉🏻 Deep Learning with TensorFlow 2.0\\n      and Keras https://bit.ly/3dFl09G\\n👉🏻 COVID 19 Data Analysis and Visualization\\n      Masterclass https://bit.ly/31vNC1U\\n👉🏻 Machine Learning Model Deployment Using\\n      Flask at AWS https://bit.ly/3b1svaD\\n👉🏻 Make Your Own Automated Email Marketing\\n      Software in Python https://bit.ly/2QqLaDy\\n\\n***********\\n🤝 BE MY FRIEND\\n🌍 Check Out ML Blogs:  https://kgptalkie.com\\n🐦Add me on Twitter: https://twitter.com/laxmimerit\\n📄 Follow me on GitHub: https://github.com/laxmimerit\\n📕 Add me on Facebook: https://facebook.com/kgptalkie\\n💼 Add me on LinkedIn: https://linkedin.com/in/laxmimerit\\n👉🏻 Complete Udemy Courses: https://bit.ly/32taBK2\\n⚡ Check out my Recent Videos: https://bit.ly/3ldnbWm\\n🔔 Subscribe me for Free Videos: https://bit.ly/34wN6T6\\n🤑 Get in touch for Promotion: info@kgptalkie.com\\n\\n✍️🏆🏅🎁🎊🎉✌️👌⭐⭐⭐⭐⭐\\nENROLL in My Highest Rated Udemy Courses\\nto 🔑 Crack Data Science Interviews and Jobs\\n\\n🏅🎁 Python for Machine Learning: A Step-by-Step Guide | Udemy\\nCourse Link: https://bit.ly/ml-ds-project\\n\\n🎁🎊 Deep Learning for Beginners with Python\\nCourse Link: https://bit.ly/dl-with-python\\n\\n📚 📗 Natural Language Processing ML Model Deployment at AWS\\nCourse Link: https://bit.ly/bert_nlp\\n\\n📊 📈 Data Visualization in Python Masterclass: Beginners to Pro\\nCourse Link: https://bit.ly/udemy95off_kgptalkie\\n\\n📘 📙 Natural Language Processing (NLP) in Python for Beginners\\nCourse Link: https://bit.ly/intro_nlp\\n\\n🎉✌️ Advanced Natural Language and Image Processing Projects | Udemy\\nCourse Link: https://bit.ly/kgptalkie_ml_projects\\n\\n📈 📘 Python for Linear Regression in Machine Learning\\nCourse Link: https://bit.ly/regression-python\\n\\n📙📊 R 4.0 Programming for Data Science || Beginners to Pro\\nCourse Link: http://bit.ly/r4-ml\\n\\n✍️🏆 Introduction to Spacy 3 for Natural Language Processing\\nCourse Link: https://bit.ly/spacy-intro',\n",
       " 'view_count': 626,\n",
       " 'thumbnail_url': 'https://i.ytimg.com/vi/vCyVVsdKJCg/sddefault.jpg',\n",
       " 'publish_date': '2024-10-20 00:00:00',\n",
       " 'length': 1763,\n",
       " 'author': 'KGP Talkie',\n",
       " 'start_seconds': 600,\n",
       " 'start_timestamp': '00:10:00'}"
      ]
     },
     "execution_count": 11,
     "metadata": {},
     "output_type": "execute_result"
    }
   ],
   "source": [
    "docs[1].metadata"
   ]
  },
  {
   "cell_type": "code",
   "execution_count": 12,
   "metadata": {},
   "outputs": [
    {
     "data": {
      "text/plain": [
       "{'source': 'https://www.youtube.com/watch?v=vCyVVsdKJCg&t=1200s',\n",
       " 'title': 'Deploy LLM Application on AWS EC2 with Langchain and Ollama | Deploy LLAMA 3.2 App',\n",
       " 'description': 'Local LLM Tutorial Playlist: https://www.youtube.com/playlist?list=PLc2rvfiptPSReropGbvDFpB6dneNBwqhD\\n\\nIn this tutorial, I’ll walk you through the step-by-step process of deploying your AI-powered chat application using LangChain, Llama, and Streamlit on AWS EC2. Whether you’re building an LLM chatbot for personal projects or for production, this guide covers everything you need to know about:\\n\\n- Launching an EC2 instance on AWS\\n- Selecting the right AMI and instance type (Deep Learning AMI with Nvidia GPU, C7 Intel-powered instances)\\n- Installing LangChain, AMA, and Streamlit\\n- Cloning your project from GitHub to EC2\\n- Configuring security groups and ports for external access\\n- Running and hosting your chat app on AWS EC2 efficiently\\n- Ensuring persistent app operation with screen.\\n\\nCheck out the full source code on GitHub and learn how to host your LLM chat app with low latency and minimal cost.\\n\\nDeployment of Machine Learning Models in Production in Python:\\nhttps://bit.ly/bert_nlp\\n\\nPrevious Video:\\nhttps://youtu.be/uRV49nK-BOU\\n\\nCode Files:\\nhttps://github.com/laxmimerit/ollama-chatbot\\n\\nStreamlit Tutorials:\\nhttps://youtu.be/hff2tHUzxJM?si=aQiEDqW0m804N8j_\\n\\n\\n🔊 Watch till last for a detailed description\\n\\n💯 Read Full Blog with Code\\n       https://kgptalkie.com\\n💬 Leave your comments and doubts in the comment section\\n📌 Save this channel and video for watch later\\n👍 Like this video to show your support and love ❤️\\n\\n~~~~~~~~\\n🆓 Watch My Top Free Data Science Videos\\n👉🏻 Python for Data Scientist\\n      https://bit.ly/3dETtFb\\n👉🏻 Machine Learning for Beginners\\n      https://bit.ly/2WOVh7N\\n👉🏻 Feature Selection in Machine Learning\\n      https://bit.ly/2YW6ZQH\\n👉🏻 Text Preprocessing and Mining for NLP\\n       https://bit.ly/31sYMUN\\n👉🏻 Natural Language Processing (NLP)\\n      Tutorials https://bit.ly/3dF1cTL\\n👉🏻 Deep Learning with TensorFlow 2.0\\n      and Keras https://bit.ly/3dFl09G\\n👉🏻 COVID 19 Data Analysis and Visualization\\n      Masterclass https://bit.ly/31vNC1U\\n👉🏻 Machine Learning Model Deployment Using\\n      Flask at AWS https://bit.ly/3b1svaD\\n👉🏻 Make Your Own Automated Email Marketing\\n      Software in Python https://bit.ly/2QqLaDy\\n\\n***********\\n🤝 BE MY FRIEND\\n🌍 Check Out ML Blogs:  https://kgptalkie.com\\n🐦Add me on Twitter: https://twitter.com/laxmimerit\\n📄 Follow me on GitHub: https://github.com/laxmimerit\\n📕 Add me on Facebook: https://facebook.com/kgptalkie\\n💼 Add me on LinkedIn: https://linkedin.com/in/laxmimerit\\n👉🏻 Complete Udemy Courses: https://bit.ly/32taBK2\\n⚡ Check out my Recent Videos: https://bit.ly/3ldnbWm\\n🔔 Subscribe me for Free Videos: https://bit.ly/34wN6T6\\n🤑 Get in touch for Promotion: info@kgptalkie.com\\n\\n✍️🏆🏅🎁🎊🎉✌️👌⭐⭐⭐⭐⭐\\nENROLL in My Highest Rated Udemy Courses\\nto 🔑 Crack Data Science Interviews and Jobs\\n\\n🏅🎁 Python for Machine Learning: A Step-by-Step Guide | Udemy\\nCourse Link: https://bit.ly/ml-ds-project\\n\\n🎁🎊 Deep Learning for Beginners with Python\\nCourse Link: https://bit.ly/dl-with-python\\n\\n📚 📗 Natural Language Processing ML Model Deployment at AWS\\nCourse Link: https://bit.ly/bert_nlp\\n\\n📊 📈 Data Visualization in Python Masterclass: Beginners to Pro\\nCourse Link: https://bit.ly/udemy95off_kgptalkie\\n\\n📘 📙 Natural Language Processing (NLP) in Python for Beginners\\nCourse Link: https://bit.ly/intro_nlp\\n\\n🎉✌️ Advanced Natural Language and Image Processing Projects | Udemy\\nCourse Link: https://bit.ly/kgptalkie_ml_projects\\n\\n📈 📘 Python for Linear Regression in Machine Learning\\nCourse Link: https://bit.ly/regression-python\\n\\n📙📊 R 4.0 Programming for Data Science || Beginners to Pro\\nCourse Link: http://bit.ly/r4-ml\\n\\n✍️🏆 Introduction to Spacy 3 for Natural Language Processing\\nCourse Link: https://bit.ly/spacy-intro',\n",
       " 'view_count': 626,\n",
       " 'thumbnail_url': 'https://i.ytimg.com/vi/vCyVVsdKJCg/sddefault.jpg',\n",
       " 'publish_date': '2024-10-20 00:00:00',\n",
       " 'length': 1763,\n",
       " 'author': 'KGP Talkie',\n",
       " 'start_seconds': 1200,\n",
       " 'start_timestamp': '00:20:00'}"
      ]
     },
     "execution_count": 12,
     "metadata": {},
     "output_type": "execute_result"
    }
   ],
   "source": [
    "docs[2].metadata"
   ]
  },
  {
   "cell_type": "code",
   "execution_count": 13,
   "metadata": {},
   "outputs": [
    {
     "data": {
      "text/plain": [
       "\"hey everyone so today I'm going to show you how you can host your chat application with AMA and Lang chain on AWS services so we'll be using here AWS E2 services to host our application at the server we are using here our Lang chain along with that we are using here AMA and then for this UI we are using here streamlit application so overall building process of this chat application is already covered in our previous videos you can come to my channel kgp talki there is playlist named as local llm tutorial in this local llm tutorial you can find out these two tutorial where I have shown that how you can build your own chat application using AMA and Lang chain now I'm going to show you how you can how you can host your application this application what we are seeing here on local system how you can host this on AWS E2 instance let's go ahead and do that here so the first of all you need to come here at uh AWS console in ec2 window you need to come here if you are at the you know uh at the dashboard here or console home here you need to search ec2 then you need to come here in ec2 dashboard and uh in this e to dashboard you will be seeing something like this then you need to click on here launch instances so we need to launch here one instance so that we can host our application here so what you need to do here you need to first of all give the name for your server so I give name for this as the chat application all right so my instance name is going to be the chat application and therea you need to select here you know the type of Ami which we are going to use here so currently here Amazon Linux 2023 is pre-selected but we are going to select here something else so which type of Ami we are going to select here we are going to select here deep learning Ami so I write here deep learning all right so with this deep learning I can see here all the details so I see here deep learning Nvidia driver Ami GPU py torch so make sure that you select that Ami which have Nvidia GPU and pytorch so I select here this one and along with that I'm going to select here 86 architecture so that it can run on Intel and AMD machines as well thereafter I need to select here the type of instance all right so you need to come here it says that t2. micro so this is very important to select the type of instance currently it is saying the total memory we have here 1 gab of the memory but in our case the type of model which we are going to use here AMA Lama 3.2 all right so this one we are going to use and we will be using here 1 billion parameter model so the 1 billion parameter model size is shown here 1.3 gab all right so this this is just a weight Matrix all right weight Matrix size 1.3 gab byte along with this there would be you know other requirement to load your model and to calculate you know uh to to do the calculations so if you consider all those together you can say that okay if you take 4 gab of the memory for your instance 4 gab of RAM memory to remember if you take the 4 GB of RAM memory then that should be more than enough for 1 billion model 1 billion parameter model all right so what I'm going to do here I'm going to select here a model all right so I'm going to select here a model which have a memory of 4 gab so I can see here t2. medium have 4 GB of memory all right so this one I can select apart from this one more thing also you need to pay attention here that currently we are selecting here a model which have only Intel or you can say that the AMD you know architecture that means only CPU all right let me just show you here you know previous architecture which we were using previously all right with that I can explain you how these overall things are going to work so this was overall architecture which we were discussing previously that in our previous videos that this is something which we have now designed here so we hosted our llama and the O Lama on local uh machine and on local machine I had 6 GB of the GPU but on AWS server now you have two option here all right so either you can host this everything on the CPU or you can host this everything on the GPU all right so GPU or CPU but the one thing you have to uh notice here that is in case of the GPU it's going to cost you a lot but in case of the CPU the cost of the host is going to be very small other other than that one more thing you will notice here that in case of the CPU all in case of the CPU the latency is going to be very high all right this is going to be really very high but in case of the GPU the latency is going to be very small so depending on your huge case you can select a particular machine chain type if you are deploying if you are trying to deploy your model into the production where latency matters then you should be selecting their GPU otherwise if you are just doing for the practice and you just want to know that how you can host your application on AWS ec2 Services then you can select their CPU so here if you search here GPU all right so you should be able to select here GPU equal to 1 let's say I select so here you'll be getting all the instances which have a GPU at least one GPU all right so all of these instances have their GPU all right and here it says that the memory you can also you know uh you can also sort this into ascending and descending order I can see here that there is one GPU which is available with the 16 gab of the memory so we can also select this particular model as well which have one GPU other than that what you can do here you can just select one high performance model so I'm going to select here some you know the C type of instances that's the compute intensive instances so I can select here maybe let me just see that C7 a perhaps I can select here depending on the storage and the memory let me just see here that if I can say that this I want this memory equal to 4 GB with this now I can see all of these instances here and then I can select here C7 type of instance this particular instance I can select here previously we had selected there one instance which was like T2 medium instance with the 4GB but now we are selecting here C7 why C7 because this instance is very powerful instance if you just come here and search it it says that this is compute in intensive instance right so these instances are very powerful instances thereafter you can also have C7 I as well somewhere let me just see that here that is here right so you can also select here C7 I what's the difference between C7 a and I so a is AMD instance you s you see it here it says that this is AMD power instance and if you make it here I then this is going to be the Intel powered instances so you can select either AMD or Intel maybe I should be selecting here Intel for a better performance so I select here Intel thereafter I just select this instance type now I have selected here my Ami with the GPU AMD and the P torch I mean GPU Ami and the P torch and now I have selected here 4GB and two CPU with the C7 I large thereafter you also need to select here the key pair so I'm going to create create here new key payer and this key payer I'm going to uh you know I mean name to this one I'm going to give as the chat application thereafter I click on create keyer it is going to download this PM file later on we will be needing this PM file to connect with our server all right therea it says that the security group So currently we are going to select here a default Security Group it is going to allow all the SSH traffic to our you know the system apart from that we have to also make sure that we should be allowing all the HTTP and https Services otherwise we will not be able to access our application so all of these I select here but make sure that you you you know restrict your security depending on your huge\""
      ]
     },
     "execution_count": 13,
     "metadata": {},
     "output_type": "execute_result"
    }
   ],
   "source": [
    "docs[0].page_content"
   ]
  },
  {
   "cell_type": "code",
   "execution_count": 14,
   "metadata": {},
   "outputs": [
    {
     "data": {
      "text/plain": [
       "\"cases thereafter we are going to come here it says that how how much memory we are going to uh how much memory we are going to provide to our instance that mean how much memory we are going to give as a storage so I say that I'm going to give here 100 gab of the memory for my machine so thereafter I come here advance details so all of these details I'm going to leave here as it is I'm not going to change anything here thereafter you can get here all the summary so I'm going to launch here only one instance and then it's going to be deep learning one and this is my instance type and it's going to create here a new security group and then 100 gab of the storage volume thereafter I'm just going to click on this launch instance it is going to launch here a brand new instance so we are going to wait for some time you need to come here at ec2 click on here instances which are running currently so I can see here that this instance got created quickly and it is running and status is actually getting checked here so thereafter I can click on here instance ID once you click on instance ID then you can come here at the connect all right then you can just click on that connect thereafter you can select this ec2 instance connect from here itself and then finally you can just connect your connect your machine directly from here so I can just simply click on here connect then it is going to connect with this one all right so it is going to SSH to our ec2 instance from here there are many ways to connect with my ec2 machine if you click on here connect you can see ec2 instance connect session manager SSH client and EC to serial console later on I'll be also showing you that how you can connect here with the SSH client but as of now just consider that we are connecting this with the ac2 instance connect all right so you come here now you can see here you are connected with your machine here now if you just type here a python you should be able to see here that python should come here as the pre-installed software so the python 3.2 is pre-installed here thereafter I can just simply exit from here thereafter you can check that if Kai is installed here seems like Kai is also installed here you can also activate base environment of the K as well it is just taking while to return you know the output after running this K command all right so it says that okay the K is installed there so I can just simply say that here K activate base it should be able to say that okay so it says that first you run K in it I just copy it and then paste it here I should be able to paste it here okay I can just see that the K in it has happened now I need to run here K activate base again it is saying that seems like something is not right with the K and then I can say that K activate but anyway that doesn't matter because the the python has been already installed here now we need to install here stream lit as well so I run here pip install stream lit so that we can host our application so currently we have our application here right so this is our application apart from that couple of things we have to also install here other than the stream lit so this was our stream lit thereafter we have to install Lang chain along with that we have to also install their AMA as well so what I do here I come here to my application here all right so this was our application one more thing I should be uh telling you that here where is this application hosted so this application is hosted at my GitHub repository you can come here at the repo and then there is the ol chatbot so this is our code and this code we will be hosting at the AWS ec2 instance all right so you need to come here at chatbot with the history you just click on here you will be seeing here all the you know instructions which we have to install there so pip install stream lit have been already done there now what else we have to do here we have to install our Lang line chain as well so I just copy and paste it here I WR pip install you know upgrade in quite mode install Lang chain AMA apart from that we have to also install here Lang chain so these are the three Library which we have to install here Lang chin Lang chin AMA and this stream lit after this we have to also install here AMA So currently if you check here ama ama is not installed so we have to come here we have to search here AMA all right then we come here AMA all right thereafter we come here at the download and then we select here Linux then it says that install it with one command so I just simply copy it from here and thereafter I come here at my Linux machine and then I'm just going to paste that here so it is going to install my AMA on my Linux machine so it is going to take a while to install this so we'll wait for some time all right now I can see here that ama is installed here and it also says that Nvidia GPU is also there although we do not have a GPU connected with our machine but yeah so I mean Nvidia GPU is GPU software is also installed there and the is also installed here now if you run here AMA you should be able to see it here now if you type here AMA do help you should be able to get all the type of the help which you have here so like these are the command AMA serve AMA create AMA show AMA run stop pull push all of these now we are going to pull AMA uh we are going to pull here llama from the AMA so we'll be pulling here llama 3.2 1 billion model so I just copy it from here okay so there is run command just to pull it you have to use their pull but for now I'm just going to pull it and then I'm also going to run it on the E2 instance so that we can know that how much time it is going to take to return the output for a particular chat here so I just run it here thereafter see what happens here it is just going to download this llama 3.21 billion model and then it is going to run it here all right so we are just going to wait for some [Music] time okay although I'm not a good singer okay so I'm just waiting to install this da da so our model has been pulled on our system now we are going to chat with our llama model so I just say that hi now we are going to see that how much time it takes here perfect so it is not taking much of the time so as I type here High it is going to return the answer it actually returned the answer although it took some time but that is not that much of the visible time here so basically now you see here a beauty so we have installed our llama with the O Lama on Ubuntu machine and that Ubuntu machine is using their CPU but CPU we are using here high performance CPU C7 I performer so it has 4 GB of the RAM and 2 CPU is getting used there so this is overall system now let's go ahead and exit from the AMA So currently we are outside of the AMA now we have installed all the necessary libraries there now you see there we installed streamlit Lang chain llama and O Lama everything is installed now it is time to host our application there so to host our application what we have to do here we have to actually you know we have to actually copy this one uh I mean the code which we have here currently so this code we have to copy from here to there so one way what we can do here we can just clone this whole repository from this GitHub to there so I can just copy this from here since this is a public repository you can just clone it there as well so what you can do here get the link from here thereafter you come here and then type here get clone and then paste your link here so this is our link here then I'm just going to run it here it is going to clone this repository if you just type here LS it is going to list all the you know the folders here and the files so it says that this is our AMA chatbot let's go ahead go inside our AMA chatbot so I come inside AMA chatbot thereafter if you do here LS you can see here we have this one and we have also this one so we are running actually this one so what I do here again I come here inside our two do chatbot with the history there after you can just see it here you have your file here two. chatbot with the history. py thereafter you can just simply run here stream lit run and therea two do chatbot with the history. py all right thereafter it is going to\""
      ]
     },
     "execution_count": 14,
     "metadata": {},
     "output_type": "execute_result"
    }
   ],
   "source": [
    "docs[1].page_content"
   ]
  },
  {
   "cell_type": "code",
   "execution_count": null,
   "metadata": {},
   "outputs": [],
   "source": []
  },
  {
   "cell_type": "code",
   "execution_count": 16,
   "metadata": {},
   "outputs": [],
   "source": [
    "from scripts import ask_llm\n",
    "from langchain.schema import Document"
   ]
  },
  {
   "cell_type": "code",
   "execution_count": 24,
   "metadata": {},
   "outputs": [],
   "source": [
    "question = \"\"\"You are an assistant for generating SEO keywords for YouTube.\n",
    "            Please generate a list of keywords from the above context.\n",
    "            You can use your creativity and correct spelling if it is needed.\"\"\"\n",
    "\n",
    "keywords = []\n",
    "\n",
    "for doc in docs:\n",
    "    if isinstance(doc,Document):\n",
    "        kw = ask_llm(context=doc.page_content, question=question)\n",
    "        keywords.append(kw)"
   ]
  },
  {
   "cell_type": "code",
   "execution_count": 25,
   "metadata": {},
   "outputs": [
    {
     "data": {
      "text/plain": [
       "['Based on the provided context, here is a list of potential SEO keywords that could be used for a YouTube video about hosting a chat application with AMA and Lang chain on AWS services:\\n\\n1. \"hosting chat application\"\\n2. \"AMA language model\"\\n3. \"Lang chain tutorial\"\\n4. \"AWS E2 instance\"\\n5. \"Deep learning Ami\"\\n6. \"Nvidia GPU\"\\n7. \"PyTorch\"\\n8. \"Cloud hosting for AI models\"\\n9. \"Deploying Lang chain on AWS\"\\n10. \"Hosting chat application with AMA\"\\n11. \"Streamlit UI\"\\n12. \"AWS EC2 services\"\\n13. \"Computer intensive instances\"\\n14. \"C7 instance\"\\n15. \"Intel powered instances\"\\n16. \"AMD power instances\"\\n17. \"Cloud computing for chat applications\"\\n18. \"Lang chain on AWS\"\\n19. \"AMA on AWS\"\\n20. \"Deep learning on AWS\"\\n\\nAdditionally, some long-tail keywords that could be used to target specific search queries include:\\n\\n1. \"how to host a chat application with AMA and Lang chain on AWS\"\\n2. \" deploying Lang chain on AWS for AI models\"\\n3. \"cloud hosting options for chat applications with deep learning\"\\n4. \"streamlit ui for chat applications with AMA and Lang chain\"\\n5. \"aws ec2 services for computer intensive instances\"\\n\\nNote that these keywords can be further refined and combined to create more targeted and effective SEO keywords for a YouTube video.',\n",
       " \"I don't know how to extract relevant SEO keywords from the provided context as it seems to be more related to setting up an EC2 instance for a deep learning project using Streamlit, LangChain, and LLaMA. If you provide more context or clarify what type of keywords you're looking for (e.g., YouTube video titles, tags, descriptions), I'd be happy to help.\",\n",
       " \"I don't know.\"]"
      ]
     },
     "execution_count": 25,
     "metadata": {},
     "output_type": "execute_result"
    }
   ],
   "source": [
    "keywords"
   ]
  },
  {
   "cell_type": "code",
   "execution_count": 26,
   "metadata": {},
   "outputs": [],
   "source": [
    "keywords = \", \".join(keywords)"
   ]
  },
  {
   "cell_type": "code",
   "execution_count": 27,
   "metadata": {},
   "outputs": [
    {
     "name": "stdout",
     "output_type": "stream",
     "text": [
      "Based on the provided context, here is a list of potential SEO keywords that could be used for a YouTube video about hosting a chat application with AMA and Lang chain on AWS services:\n",
      "\n",
      "1. \"hosting chat application\"\n",
      "2. \"AMA language model\"\n",
      "3. \"Lang chain tutorial\"\n",
      "4. \"AWS E2 instance\"\n",
      "5. \"Deep learning Ami\"\n",
      "6. \"Nvidia GPU\"\n",
      "7. \"PyTorch\"\n",
      "8. \"Cloud hosting for AI models\"\n",
      "9. \"Deploying Lang chain on AWS\"\n",
      "10. \"Hosting chat application with AMA\"\n",
      "11. \"Streamlit UI\"\n",
      "12. \"AWS EC2 services\"\n",
      "13. \"Computer intensive instances\"\n",
      "14. \"C7 instance\"\n",
      "15. \"Intel powered instances\"\n",
      "16. \"AMD power instances\"\n",
      "17. \"Cloud computing for chat applications\"\n",
      "18. \"Lang chain on AWS\"\n",
      "19. \"AMA on AWS\"\n",
      "20. \"Deep learning on AWS\"\n",
      "\n",
      "Additionally, some long-tail keywords that could be used to target specific search queries include:\n",
      "\n",
      "1. \"how to host a chat application with AMA and Lang chain on AWS\"\n",
      "2. \" deploying Lang chain on AWS for AI models\"\n",
      "3. \"cloud hosting options for chat applications with deep learning\"\n",
      "4. \"streamlit ui for chat applications with AMA and Lang chain\"\n",
      "5. \"aws ec2 services for computer intensive instances\"\n",
      "\n",
      "Note that these keywords can be further refined and combined to create more targeted and effective SEO keywords for a YouTube video., I don't know how to extract relevant SEO keywords from the provided context as it seems to be more related to setting up an EC2 instance for a deep learning project using Streamlit, LangChain, and LLaMA. If you provide more context or clarify what type of keywords you're looking for (e.g., YouTube video titles, tags, descriptions), I'd be happy to help., I don't know.\n"
     ]
    }
   ],
   "source": [
    "print(keywords)"
   ]
  },
  {
   "cell_type": "code",
   "execution_count": 28,
   "metadata": {},
   "outputs": [
    {
     "name": "stdout",
     "output_type": "stream",
     "text": [
      "Here are some generated SEO keywords based on the provided context:\n",
      "\n",
      "**Video Title Options:**\n",
      "\n",
      "1. \"Host Your Chat Application with AMA and LangChain on AWS\"\n",
      "2. \"Deploying LangChain on AWS for AI-Powered Chat Applications\"\n",
      "3. \"How to Host a Chat Application with AMA and Deep Learning Models on AWS\"\n",
      "4. \"Streamlit UI for Chat Applications with AMA and LangChain on Cloud Hosting\"\n",
      "\n",
      "**Video Tags:**\n",
      "\n",
      "1. \"hosting chat application\"\n",
      "2. \"AMA language model\"\n",
      "3. \"Lang chain tutorial\"\n",
      "4. \"AWS E2 instance\"\n",
      "5. \"Deep learning Ami\"\n",
      "6. \"Nvidia GPU\"\n",
      "7. \"PyTorch\"\n",
      "8. \"Cloud hosting for AI models\"\n",
      "9. \"Deploying Lang chain on AWS\"\n",
      "10. \"Hosting chat application with AMA\"\n",
      "\n",
      "**Video Description Keywords:**\n",
      "\n",
      "1. \"cloud hosting options\"\n",
      "2. \"computer intensive instances\"\n",
      "3. \"C7 instance\"\n",
      "4. \"Intel powered instances\"\n",
      "5. \"AMD power instances\"\n",
      "6. \"deep learning models\"\n",
      "7. \"AI-powered chat applications\"\n",
      "8. \"streamlit UI\"\n",
      "9. \"LangChain on AWS\"\n",
      "10. \"AMA on AWS\"\n",
      "\n",
      "Note: These keywords can be further refined and combined to create more targeted and effective SEO keywords for a YouTube video.\n"
     ]
    }
   ],
   "source": [
    "question = \"\"\"Above context is the list of relevant keywords for a YouTube video.\n",
    "                You need to generate SEO Keywords for it.\"\"\"\n",
    "\n",
    "response = ask_llm(keywords, question)\n",
    "\n",
    "print(response)"
   ]
  },
  {
   "cell_type": "code",
   "execution_count": null,
   "metadata": {},
   "outputs": [],
   "source": []
  }
 ],
 "metadata": {
  "kernelspec": {
   "display_name": "krishgenai",
   "language": "python",
   "name": "python3"
  },
  "language_info": {
   "codemirror_mode": {
    "name": "ipython",
    "version": 3
   },
   "file_extension": ".py",
   "mimetype": "text/x-python",
   "name": "python",
   "nbconvert_exporter": "python",
   "pygments_lexer": "ipython3",
   "version": "3.10.14"
  }
 },
 "nbformat": 4,
 "nbformat_minor": 2
}
