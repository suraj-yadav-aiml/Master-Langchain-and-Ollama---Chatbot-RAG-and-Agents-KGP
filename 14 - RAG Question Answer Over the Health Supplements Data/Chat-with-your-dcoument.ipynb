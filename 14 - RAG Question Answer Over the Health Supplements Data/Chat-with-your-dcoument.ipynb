{
 "cells": [
  {
   "cell_type": "code",
   "execution_count": 1,
   "metadata": {},
   "outputs": [
    {
     "data": {
      "text/plain": [
       "True"
      ]
     },
     "execution_count": 1,
     "metadata": {},
     "output_type": "execute_result"
    }
   ],
   "source": [
    "from dotenv import load_dotenv,find_dotenv\n",
    "load_dotenv(find_dotenv())"
   ]
  },
  {
   "cell_type": "code",
   "execution_count": 2,
   "metadata": {},
   "outputs": [],
   "source": [
    "import faiss\n",
    "from langchain_community.vectorstores import FAISS \n",
    "from langchain_ollama import OllamaEmbeddings\n",
    "from langchain_community.docstore.in_memory import InMemoryDocstore"
   ]
  },
  {
   "cell_type": "code",
   "execution_count": 3,
   "metadata": {},
   "outputs": [],
   "source": [
    "embeddings = OllamaEmbeddings(model='nomic-embed-text', base_url='http://localhost:11434')"
   ]
  },
  {
   "cell_type": "code",
   "execution_count": 12,
   "metadata": {},
   "outputs": [],
   "source": [
    "db_path = \"../13 - Vector Stores and Retrievals/health_supplements\"\n",
    "vector_store = FAISS.load_local(db_path,embeddings,allow_dangerous_deserialization=True)"
   ]
  },
  {
   "cell_type": "code",
   "execution_count": 13,
   "metadata": {},
   "outputs": [
    {
     "data": {
      "text/plain": [
       "[Document(metadata={'source': './rag-dataset\\\\gym supplements\\\\2. High Prevalence of Supplement Intake.pdf', 'file_path': './rag-dataset\\\\gym supplements\\\\2. High Prevalence of Supplement Intake.pdf', 'page': 8, 'total_pages': 11, 'format': 'PDF 1.5', 'title': '', 'author': '', 'subject': '', 'keywords': '', 'creator': '', 'producer': 'iLovePDF', 'creationDate': '', 'modDate': 'D:20241021113904Z', 'trapped': ''}, page_content='and strength gain among men. We detected more prevalent protein and creatine supplementation\\namong younger compared to older ﬁtness center users, whereas the opposite was found for vitamin\\nsupplementation. Other authors made similar observations [23] and it might reﬂect the diﬀerent\\ntraining goals among age groups, i.e., more focus on strength and muscles among the younger and\\nmore focus on health among the older age groups.\\nComparable to other studies [4], we detected a positive correlation between training frequency\\nand supplement usage. Nevertheless, the correlation is weak and is deﬁnitely not a predictor at the\\nindividual level. The subject with the highest supplement intake of 100 weekly servings was training\\nonly once a week.'),\n",
       " Document(metadata={'source': './rag-dataset\\\\gym supplements\\\\2. High Prevalence of Supplement Intake.pdf', 'file_path': './rag-dataset\\\\gym supplements\\\\2. High Prevalence of Supplement Intake.pdf', 'page': 6, 'total_pages': 11, 'format': 'PDF 1.5', 'title': '', 'author': '', 'subject': '', 'keywords': '', 'creator': '', 'producer': 'iLovePDF', 'creationDate': '', 'modDate': 'D:20241021113904Z', 'trapped': ''}, page_content='Nutrients 2020, 12, 2595\\n7 of 13\\n \\n3.3. Training Goals \\nThe three most important training goals of the participating fitness center users were improving \\nhealth, improving strength, and body shaping (Figure 2). Analysis by age showed obvious age effects \\nfor two training goals. Improving health was named by 59%, 60%, 75%, and 89% as a training goal \\namong the four age groups beginning from the youngest to the oldest group. On the other hand, body \\nshaping was named by 69%, 55%, 41%, and 17% among the four age groups.  \\n \\nFigure 2. Training goals. g: Indicates significant gender effect (p < 0.05). Multiple answers were \\npossible. \\n3.4. Reasons for Supplement Intake \\nThe three most important reasons to take supplements were muscle building (49%), improving \\nhealth (47%), and improving sport-specific performance (28%) (Figure 3).  \\nFigure 2. Training goals. g: Indicates signiﬁcant gender eﬀect (p < 0.05). Multiple answers were possible.\\n3.4. Reasons for Supplement Intake'),\n",
       " Document(metadata={'source': './rag-dataset\\\\gym supplements\\\\2. High Prevalence of Supplement Intake.pdf', 'file_path': './rag-dataset\\\\gym supplements\\\\2. High Prevalence of Supplement Intake.pdf', 'page': 5, 'total_pages': 11, 'format': 'PDF 1.5', 'title': '', 'author': '', 'subject': '', 'keywords': '', 'creator': '', 'producer': 'iLovePDF', 'creationDate': '', 'modDate': 'D:20241021113904Z', 'trapped': ''}, page_content='for two training goals. Improving health was named by 59%, 60%, 75%, and 89% as a training goal\\namong the four age groups beginning from the youngest to the oldest group. On the other hand, body\\nshaping was named by 69%, 55%, 41%, and 17% among the four age groups.'),\n",
       " Document(metadata={'source': './rag-dataset\\\\gym supplements\\\\1. Analysis of Actual Fitness Supplement.pdf', 'file_path': './rag-dataset\\\\gym supplements\\\\1. Analysis of Actual Fitness Supplement.pdf', 'page': 0, 'total_pages': 15, 'format': 'PDF 1.7', 'title': '', 'author': '', 'subject': '', 'keywords': '', 'creator': '', 'producer': 'iLovePDF', 'creationDate': '', 'modDate': 'D:20241021113850Z', 'trapped': ''}, page_content='acids than traditional protein sources. Its numerous benefits have made it a popular choice\\nfor snacks and drinks among consumers [3]. Another widely embraced supplement is\\ncaffeine, which is found in many sports and food supplements. Caffeine reduces perceived\\neffort, minimizes fatigue and pain, and proves to be effective for endurance and high-\\nintensity activities, which is the choice of consumers [4].\\nCreatine monohydrate is another well-known supplement used to gain muscle mass\\nand support performance and recovery. It is known not to increase fat mass and remains\\neffective even when taken in recommended doses [5]. Despite its popularity in the fitness\\nFoods 2024, 13, 1424. https://doi.org/10.3390/foods13091424\\nhttps://www.mdpi.com/journal/foods'),\n",
       " Document(metadata={'source': './rag-dataset\\\\gym supplements\\\\2. High Prevalence of Supplement Intake.pdf', 'file_path': './rag-dataset\\\\gym supplements\\\\2. High Prevalence of Supplement Intake.pdf', 'page': 4, 'total_pages': 11, 'format': 'PDF 1.5', 'title': '', 'author': '', 'subject': '', 'keywords': '', 'creator': '', 'producer': 'iLovePDF', 'creationDate': '', 'modDate': 'D:20241021113904Z', 'trapped': ''}, page_content='for two training goals. Improving health was named by 59%, 60%, 75%, and 89% as a training goal \\nFigure 1. Supplement intake vs. training frequency. The scatter density plot and spearman rank\\ncorrelation (mean and 95% conﬁdence interval) of supplement servings per week vs. training frequency\\ngive an rs = 0.253 (p < 0.001).')]"
      ]
     },
     "execution_count": 13,
     "metadata": {},
     "output_type": "execute_result"
    }
   ],
   "source": [
    "question = \"how to gain muscle mass?\"\n",
    "\n",
    "vector_store.search(query=question, k=5, search_type=\"similarity\")"
   ]
  },
  {
   "cell_type": "code",
   "execution_count": 33,
   "metadata": {},
   "outputs": [],
   "source": [
    "retriever = vector_store.as_retriever(search_type=\"similarity\",\n",
    "                                      search_kwargs = {'k':3})"
   ]
  },
  {
   "cell_type": "code",
   "execution_count": 15,
   "metadata": {},
   "outputs": [
    {
     "data": {
      "text/plain": [
       "VectorStoreRetriever(tags=['FAISS', 'OllamaEmbeddings'], vectorstore=<langchain_community.vectorstores.faiss.FAISS object at 0x000002187C541900>, search_kwargs={'k': 3})"
      ]
     },
     "execution_count": 15,
     "metadata": {},
     "output_type": "execute_result"
    }
   ],
   "source": [
    "retriever"
   ]
  },
  {
   "cell_type": "code",
   "execution_count": 16,
   "metadata": {},
   "outputs": [
    {
     "data": {
      "text/plain": [
       "[Document(metadata={'source': './rag-dataset\\\\gym supplements\\\\2. High Prevalence of Supplement Intake.pdf', 'file_path': './rag-dataset\\\\gym supplements\\\\2. High Prevalence of Supplement Intake.pdf', 'page': 8, 'total_pages': 11, 'format': 'PDF 1.5', 'title': '', 'author': '', 'subject': '', 'keywords': '', 'creator': '', 'producer': 'iLovePDF', 'creationDate': '', 'modDate': 'D:20241021113904Z', 'trapped': ''}, page_content='and strength gain among men. We detected more prevalent protein and creatine supplementation\\namong younger compared to older ﬁtness center users, whereas the opposite was found for vitamin\\nsupplementation. Other authors made similar observations [23] and it might reﬂect the diﬀerent\\ntraining goals among age groups, i.e., more focus on strength and muscles among the younger and\\nmore focus on health among the older age groups.\\nComparable to other studies [4], we detected a positive correlation between training frequency\\nand supplement usage. Nevertheless, the correlation is weak and is deﬁnitely not a predictor at the\\nindividual level. The subject with the highest supplement intake of 100 weekly servings was training\\nonly once a week.'),\n",
       " Document(metadata={'source': './rag-dataset\\\\gym supplements\\\\2. High Prevalence of Supplement Intake.pdf', 'file_path': './rag-dataset\\\\gym supplements\\\\2. High Prevalence of Supplement Intake.pdf', 'page': 6, 'total_pages': 11, 'format': 'PDF 1.5', 'title': '', 'author': '', 'subject': '', 'keywords': '', 'creator': '', 'producer': 'iLovePDF', 'creationDate': '', 'modDate': 'D:20241021113904Z', 'trapped': ''}, page_content='Nutrients 2020, 12, 2595\\n7 of 13\\n \\n3.3. Training Goals \\nThe three most important training goals of the participating fitness center users were improving \\nhealth, improving strength, and body shaping (Figure 2). Analysis by age showed obvious age effects \\nfor two training goals. Improving health was named by 59%, 60%, 75%, and 89% as a training goal \\namong the four age groups beginning from the youngest to the oldest group. On the other hand, body \\nshaping was named by 69%, 55%, 41%, and 17% among the four age groups.  \\n \\nFigure 2. Training goals. g: Indicates significant gender effect (p < 0.05). Multiple answers were \\npossible. \\n3.4. Reasons for Supplement Intake \\nThe three most important reasons to take supplements were muscle building (49%), improving \\nhealth (47%), and improving sport-specific performance (28%) (Figure 3).  \\nFigure 2. Training goals. g: Indicates signiﬁcant gender eﬀect (p < 0.05). Multiple answers were possible.\\n3.4. Reasons for Supplement Intake'),\n",
       " Document(metadata={'source': './rag-dataset\\\\gym supplements\\\\2. High Prevalence of Supplement Intake.pdf', 'file_path': './rag-dataset\\\\gym supplements\\\\2. High Prevalence of Supplement Intake.pdf', 'page': 5, 'total_pages': 11, 'format': 'PDF 1.5', 'title': '', 'author': '', 'subject': '', 'keywords': '', 'creator': '', 'producer': 'iLovePDF', 'creationDate': '', 'modDate': 'D:20241021113904Z', 'trapped': ''}, page_content='for two training goals. Improving health was named by 59%, 60%, 75%, and 89% as a training goal\\namong the four age groups beginning from the youngest to the oldest group. On the other hand, body\\nshaping was named by 69%, 55%, 41%, and 17% among the four age groups.')]"
      ]
     },
     "execution_count": 16,
     "metadata": {},
     "output_type": "execute_result"
    }
   ],
   "source": [
    "retriever.invoke(input=question)"
   ]
  },
  {
   "cell_type": "code",
   "execution_count": 17,
   "metadata": {},
   "outputs": [
    {
     "data": {
      "text/plain": [
       "[Document(metadata={'source': './rag-dataset\\\\health supplements\\\\1. dietary supplements - for whom.pdf', 'file_path': './rag-dataset\\\\health supplements\\\\1. dietary supplements - for whom.pdf', 'page': 12, 'total_pages': 17, 'format': 'PDF 1.7', 'title': '', 'author': '', 'subject': '', 'keywords': '', 'creator': '', 'producer': 'iLovePDF', 'creationDate': '', 'modDate': 'D:20241021113754Z', 'trapped': ''}, page_content='Int. J. Environ. Res. Public Health 2021, 18, 8897\\n13 of 24\\n3.3. Dietary Supplements and Weight Loss\\nThe number of people with excessive weight continues to rise, and ﬁghting obesity\\nhas become one of the greatest challenges of contemporary medicine. A person wishing to\\nlose weight needs to undertake several difﬁcult life-changes and practice them consistently\\n(diet, physical activity, addiction-free). Meanwhile dietary supplements are presented as\\na compelling alternative to traditional methods for combatting obesity. Wróbel-Harmas\\net al. [107] demonstrated that weight loss supplements are the most frequently sought di-\\netary supplements on the Internet, followed by preparations for muscle building and sexual\\npotency. In the US, more than 30% of people with overweight and obesity believe supple-\\nments to be an effective method for losing weight [108], while in Poland these supplements\\nare used by as many as 40–50% of young women, regardless of their weight [15].'),\n",
       " Document(metadata={'source': './rag-dataset\\\\health supplements\\\\1. dietary supplements - for whom.pdf', 'file_path': './rag-dataset\\\\health supplements\\\\1. dietary supplements - for whom.pdf', 'page': 12, 'total_pages': 17, 'format': 'PDF 1.7', 'title': '', 'author': '', 'subject': '', 'keywords': '', 'creator': '', 'producer': 'iLovePDF', 'creationDate': '', 'modDate': 'D:20241021113754Z', 'trapped': ''}, page_content='are used by as many as 40–50% of young women, regardless of their weight [15].\\nWeight loss supplements are usually multi-ingredient preparations, with over 4000 in-\\ndividual substances used in the production process. The average weight loss supplement\\navailable in Western markets is estimated to include 10 different ingredients [109]. The\\nmore complex the recipe, the harder it is to determine its effects on the body. The most\\npopular ingredients include chromium and chitosan, as well as green tea, Garcinia cambogia,\\nand bitter orange (Citrus aurantium) extracts [15,16]. Over the years, no studies have shown\\nthat the use of either single- or multi-ingredient preparations of those substances promotes\\nweight reduction.\\nA 2013 meta-analysis of randomized studies found that chromium supplementation\\nresulted in only 0.5 kg additional weight reduction in subjects with overweight and obesity,\\nas compared with those taking a placebo [110], and a comparable result (mean: 0.75 kg)'),\n",
       " Document(metadata={'source': './rag-dataset\\\\health supplements\\\\1. dietary supplements - for whom.pdf', 'file_path': './rag-dataset\\\\health supplements\\\\1. dietary supplements - for whom.pdf', 'page': 13, 'total_pages': 17, 'format': 'PDF 1.7', 'title': '', 'author': '', 'subject': '', 'keywords': '', 'creator': '', 'producer': 'iLovePDF', 'creationDate': '', 'modDate': 'D:20241021113754Z', 'trapped': ''}, page_content='effective, it would have been registered as a “medicine” and not as a “foodstuff”. The two\\nkey issues are that these products do not help people lose weight and they have serious\\nside effects, which may be a threat to patient health. Therefore, consuming fat burners,\\nespecially those purchased online, has been compared by some authors to playing a game\\nof “Russian roulette” [125]. If, despite the lack of evidence, patients wish to attempt to\\nlose weight using dietary supplements, they should never purchase these products from\\nunauthorized buyers or increase the recommended dose or use several products at the same\\ntime in the hope that it would accelerate their weight loss. Various slimming preparations\\n(with different trade names) may contain the same ingredients and their concentration in\\nthe body may become dangerously elevated. Table 3 summarizes the studies analyzed in\\nthis article on the relationships between dietary supplement use and body weight.')]"
      ]
     },
     "execution_count": 17,
     "metadata": {},
     "output_type": "execute_result"
    }
   ],
   "source": [
    "question = \"how to lose weight?\"\n",
    "retriever.invoke(question)"
   ]
  },
  {
   "cell_type": "code",
   "execution_count": null,
   "metadata": {},
   "outputs": [],
   "source": []
  },
  {
   "cell_type": "code",
   "execution_count": 18,
   "metadata": {},
   "outputs": [
    {
     "data": {
      "text/plain": [
       "[Document(metadata={'source': './rag-dataset\\\\health supplements\\\\1. dietary supplements - for whom.pdf', 'file_path': './rag-dataset\\\\health supplements\\\\1. dietary supplements - for whom.pdf', 'page': 12, 'total_pages': 17, 'format': 'PDF 1.7', 'title': '', 'author': '', 'subject': '', 'keywords': '', 'creator': '', 'producer': 'iLovePDF', 'creationDate': '', 'modDate': 'D:20241021113754Z', 'trapped': ''}, page_content='Int. J. Environ. Res. Public Health 2021, 18, 8897\\n13 of 24\\n3.3. Dietary Supplements and Weight Loss\\nThe number of people with excessive weight continues to rise, and ﬁghting obesity\\nhas become one of the greatest challenges of contemporary medicine. A person wishing to\\nlose weight needs to undertake several difﬁcult life-changes and practice them consistently\\n(diet, physical activity, addiction-free). Meanwhile dietary supplements are presented as\\na compelling alternative to traditional methods for combatting obesity. Wróbel-Harmas\\net al. [107] demonstrated that weight loss supplements are the most frequently sought di-\\netary supplements on the Internet, followed by preparations for muscle building and sexual\\npotency. In the US, more than 30% of people with overweight and obesity believe supple-\\nments to be an effective method for losing weight [108], while in Poland these supplements\\nare used by as many as 40–50% of young women, regardless of their weight [15].'),\n",
       " Document(metadata={'source': './rag-dataset\\\\health supplements\\\\1. dietary supplements - for whom.pdf', 'file_path': './rag-dataset\\\\health supplements\\\\1. dietary supplements - for whom.pdf', 'page': 12, 'total_pages': 17, 'format': 'PDF 1.7', 'title': '', 'author': '', 'subject': '', 'keywords': '', 'creator': '', 'producer': 'iLovePDF', 'creationDate': '', 'modDate': 'D:20241021113754Z', 'trapped': ''}, page_content='are used by as many as 40–50% of young women, regardless of their weight [15].\\nWeight loss supplements are usually multi-ingredient preparations, with over 4000 in-\\ndividual substances used in the production process. The average weight loss supplement\\navailable in Western markets is estimated to include 10 different ingredients [109]. The\\nmore complex the recipe, the harder it is to determine its effects on the body. The most\\npopular ingredients include chromium and chitosan, as well as green tea, Garcinia cambogia,\\nand bitter orange (Citrus aurantium) extracts [15,16]. Over the years, no studies have shown\\nthat the use of either single- or multi-ingredient preparations of those substances promotes\\nweight reduction.\\nA 2013 meta-analysis of randomized studies found that chromium supplementation\\nresulted in only 0.5 kg additional weight reduction in subjects with overweight and obesity,\\nas compared with those taking a placebo [110], and a comparable result (mean: 0.75 kg)'),\n",
       " Document(metadata={'source': './rag-dataset\\\\health supplements\\\\1. dietary supplements - for whom.pdf', 'file_path': './rag-dataset\\\\health supplements\\\\1. dietary supplements - for whom.pdf', 'page': 13, 'total_pages': 17, 'format': 'PDF 1.7', 'title': '', 'author': '', 'subject': '', 'keywords': '', 'creator': '', 'producer': 'iLovePDF', 'creationDate': '', 'modDate': 'D:20241021113754Z', 'trapped': ''}, page_content='effective, it would have been registered as a “medicine” and not as a “foodstuff”. The two\\nkey issues are that these products do not help people lose weight and they have serious\\nside effects, which may be a threat to patient health. Therefore, consuming fat burners,\\nespecially those purchased online, has been compared by some authors to playing a game\\nof “Russian roulette” [125]. If, despite the lack of evidence, patients wish to attempt to\\nlose weight using dietary supplements, they should never purchase these products from\\nunauthorized buyers or increase the recommended dose or use several products at the same\\ntime in the hope that it would accelerate their weight loss. Various slimming preparations\\n(with different trade names) may contain the same ingredients and their concentration in\\nthe body may become dangerously elevated. Table 3 summarizes the studies analyzed in\\nthis article on the relationships between dietary supplement use and body weight.')]"
      ]
     },
     "execution_count": 18,
     "metadata": {},
     "output_type": "execute_result"
    }
   ],
   "source": [
    "retriever = vector_store.as_retriever(search_type = 'similarity_score_threshold', \n",
    "                                      search_kwargs = {'k': 3, 'score_threshold': 0.1})\n",
    "\n",
    "retriever.invoke(question)"
   ]
  },
  {
   "cell_type": "code",
   "execution_count": null,
   "metadata": {},
   "outputs": [],
   "source": []
  },
  {
   "cell_type": "code",
   "execution_count": 19,
   "metadata": {},
   "outputs": [
    {
     "data": {
      "text/plain": [
       "[Document(metadata={'source': './rag-dataset\\\\health supplements\\\\1. dietary supplements - for whom.pdf', 'file_path': './rag-dataset\\\\health supplements\\\\1. dietary supplements - for whom.pdf', 'page': 12, 'total_pages': 17, 'format': 'PDF 1.7', 'title': '', 'author': '', 'subject': '', 'keywords': '', 'creator': '', 'producer': 'iLovePDF', 'creationDate': '', 'modDate': 'D:20241021113754Z', 'trapped': ''}, page_content='Int. J. Environ. Res. Public Health 2021, 18, 8897\\n13 of 24\\n3.3. Dietary Supplements and Weight Loss\\nThe number of people with excessive weight continues to rise, and ﬁghting obesity\\nhas become one of the greatest challenges of contemporary medicine. A person wishing to\\nlose weight needs to undertake several difﬁcult life-changes and practice them consistently\\n(diet, physical activity, addiction-free). Meanwhile dietary supplements are presented as\\na compelling alternative to traditional methods for combatting obesity. Wróbel-Harmas\\net al. [107] demonstrated that weight loss supplements are the most frequently sought di-\\netary supplements on the Internet, followed by preparations for muscle building and sexual\\npotency. In the US, more than 30% of people with overweight and obesity believe supple-\\nments to be an effective method for losing weight [108], while in Poland these supplements\\nare used by as many as 40–50% of young women, regardless of their weight [15].'),\n",
       " Document(metadata={'source': './rag-dataset\\\\health supplements\\\\1. dietary supplements - for whom.pdf', 'file_path': './rag-dataset\\\\health supplements\\\\1. dietary supplements - for whom.pdf', 'page': 12, 'total_pages': 17, 'format': 'PDF 1.7', 'title': '', 'author': '', 'subject': '', 'keywords': '', 'creator': '', 'producer': 'iLovePDF', 'creationDate': '', 'modDate': 'D:20241021113754Z', 'trapped': ''}, page_content='are used by as many as 40–50% of young women, regardless of their weight [15].\\nWeight loss supplements are usually multi-ingredient preparations, with over 4000 in-\\ndividual substances used in the production process. The average weight loss supplement\\navailable in Western markets is estimated to include 10 different ingredients [109]. The\\nmore complex the recipe, the harder it is to determine its effects on the body. The most\\npopular ingredients include chromium and chitosan, as well as green tea, Garcinia cambogia,\\nand bitter orange (Citrus aurantium) extracts [15,16]. Over the years, no studies have shown\\nthat the use of either single- or multi-ingredient preparations of those substances promotes\\nweight reduction.\\nA 2013 meta-analysis of randomized studies found that chromium supplementation\\nresulted in only 0.5 kg additional weight reduction in subjects with overweight and obesity,\\nas compared with those taking a placebo [110], and a comparable result (mean: 0.75 kg)'),\n",
       " Document(metadata={'source': './rag-dataset\\\\health supplements\\\\1. dietary supplements - for whom.pdf', 'file_path': './rag-dataset\\\\health supplements\\\\1. dietary supplements - for whom.pdf', 'page': 13, 'total_pages': 17, 'format': 'PDF 1.7', 'title': '', 'author': '', 'subject': '', 'keywords': '', 'creator': '', 'producer': 'iLovePDF', 'creationDate': '', 'modDate': 'D:20241021113754Z', 'trapped': ''}, page_content='effective, it would have been registered as a “medicine” and not as a “foodstuff”. The two\\nkey issues are that these products do not help people lose weight and they have serious\\nside effects, which may be a threat to patient health. Therefore, consuming fat burners,\\nespecially those purchased online, has been compared by some authors to playing a game\\nof “Russian roulette” [125]. If, despite the lack of evidence, patients wish to attempt to\\nlose weight using dietary supplements, they should never purchase these products from\\nunauthorized buyers or increase the recommended dose or use several products at the same\\ntime in the hope that it would accelerate their weight loss. Various slimming preparations\\n(with different trade names) may contain the same ingredients and their concentration in\\nthe body may become dangerously elevated. Table 3 summarizes the studies analyzed in\\nthis article on the relationships between dietary supplement use and body weight.')]"
      ]
     },
     "execution_count": 19,
     "metadata": {},
     "output_type": "execute_result"
    }
   ],
   "source": [
    "retriever = vector_store.as_retriever(search_type = 'mmr', \n",
    "                                      search_kwargs = {'k': 3, 'fetch_k': 20, 'lambda_mult': 1})\n",
    "\n",
    "docs = retriever.invoke(question)\n",
    "docs"
   ]
  },
  {
   "cell_type": "code",
   "execution_count": null,
   "metadata": {},
   "outputs": [],
   "source": []
  },
  {
   "cell_type": "markdown",
   "metadata": {},
   "source": [
    "### RAG with LLAMA on OLLAMA"
   ]
  },
  {
   "cell_type": "code",
   "execution_count": 20,
   "metadata": {},
   "outputs": [],
   "source": [
    "from langchain_ollama import ChatOllama\n",
    "from langchain_core.output_parsers import StrOutputParser\n",
    "from langchain_core.runnables import RunnablePassthrough\n",
    "from langchain_core.prompts import ChatPromptTemplate\n",
    "from langchain import hub"
   ]
  },
  {
   "cell_type": "code",
   "execution_count": 21,
   "metadata": {},
   "outputs": [
    {
     "data": {
      "text/plain": [
       "ChatPromptTemplate(input_variables=['context', 'question'], input_types={}, partial_variables={}, metadata={'lc_hub_owner': 'rlm', 'lc_hub_repo': 'rag-prompt', 'lc_hub_commit_hash': '50442af133e61576e74536c6556cefe1fac147cad032f4377b60c436e6cdcb6e'}, messages=[HumanMessagePromptTemplate(prompt=PromptTemplate(input_variables=['context', 'question'], input_types={}, partial_variables={}, template=\"You are an assistant for question-answering tasks. Use the following pieces of retrieved context to answer the question. If you don't know the answer, just say that you don't know. Use three sentences maximum and keep the answer concise.\\nQuestion: {question} \\nContext: {context} \\nAnswer:\"), additional_kwargs={})])"
      ]
     },
     "execution_count": 21,
     "metadata": {},
     "output_type": "execute_result"
    }
   ],
   "source": [
    "prompt = hub.pull(\"rlm/rag-prompt\")\n",
    "prompt"
   ]
  },
  {
   "cell_type": "code",
   "execution_count": 22,
   "metadata": {},
   "outputs": [
    {
     "data": {
      "text/plain": [
       "ChatPromptTemplate(input_variables=['context', 'question'], input_types={}, partial_variables={}, metadata={'lc_hub_owner': 'rlm', 'lc_hub_repo': 'rag-prompt', 'lc_hub_commit_hash': '50442af133e61576e74536c6556cefe1fac147cad032f4377b60c436e6cdcb6e'}, messages=[HumanMessagePromptTemplate(prompt=PromptTemplate(input_variables=['context', 'question'], input_types={}, partial_variables={}, template=\"You are an assistant for question-answering tasks. Use the following pieces of retrieved context to answer the question. If you don't know the answer, just say that you don't know. Use three sentences maximum and keep the answer concise.\\nQuestion: {question} \\nContext: {context} \\nAnswer:\"), additional_kwargs={})])"
      ]
     },
     "execution_count": 22,
     "metadata": {},
     "output_type": "execute_result"
    }
   ],
   "source": [
    "prompt"
   ]
  },
  {
   "cell_type": "code",
   "execution_count": 24,
   "metadata": {},
   "outputs": [],
   "source": [
    "prompt = \"\"\"\n",
    "    You are an assistant for question-answering tasks. Use the following pieces of retrieved context to answer the question.\n",
    "    If you don't know the answer, just say that you don't know.\n",
    "    Answer in bullet points. Make sure your answer is relevant to the question and it is answered from the context only.\n",
    "    Question: {question} \n",
    "    Context: {context} \n",
    "    Answer:\n",
    "\"\"\"\n",
    "\n",
    "prompt = ChatPromptTemplate.from_template(prompt)"
   ]
  },
  {
   "cell_type": "code",
   "execution_count": 25,
   "metadata": {},
   "outputs": [],
   "source": [
    "llm = ChatOllama(model='llama3.2:3b', base_url='http://localhost:11434')"
   ]
  },
  {
   "cell_type": "code",
   "execution_count": 26,
   "metadata": {},
   "outputs": [],
   "source": [
    "def format_docs(docs):\n",
    "    return '\\n\\n'.join([doc.page_content for doc in docs])\n",
    "\n",
    "context = format_docs(docs)"
   ]
  },
  {
   "cell_type": "code",
   "execution_count": 29,
   "metadata": {},
   "outputs": [],
   "source": [
    "# print(context)"
   ]
  },
  {
   "cell_type": "code",
   "execution_count": 31,
   "metadata": {},
   "outputs": [],
   "source": [
    "rag_chain = (\n",
    "    {'context': retriever|format_docs, 'question': RunnablePassthrough()}\n",
    "    |prompt\n",
    "    |llm\n",
    "    |StrOutputParser()\n",
    ")"
   ]
  },
  {
   "cell_type": "code",
   "execution_count": 32,
   "metadata": {},
   "outputs": [
    {
     "name": "stdout",
     "output_type": "stream",
     "text": [
      "Here are the relevant points from the context related to losing weight:\n",
      "\n",
      "• There is no evidence that using chromium or other popular ingredients in weight loss supplements promotes weight reduction.\n",
      "• A 2013 meta-analysis of randomized studies found that chromium supplementation resulted in only a small additional weight reduction (0.5 kg or 0.75 kg).\n",
      "• Consuming fat burners, especially those purchased online, has been compared to playing a game of \"Russian roulette\" due to the risk of serious side effects.\n",
      "• It is not recommended to purchase dietary supplements from unauthorized buyers or increase the recommended dose in an attempt to accelerate weight loss.\n",
      "• Using multiple products at the same time can lead to dangerously elevated concentrations of ingredients in the body.\n",
      "• There is no evidence that any dietary supplement, including those with similar ingredients and concentrations, is effective for weight loss.\n"
     ]
    }
   ],
   "source": [
    "question = \"how to lose weight?\"\n",
    "\n",
    "response = rag_chain.invoke(input=question)\n",
    "\n",
    "print(response)"
   ]
  },
  {
   "cell_type": "code",
   "execution_count": null,
   "metadata": {},
   "outputs": [],
   "source": []
  }
 ],
 "metadata": {
  "kernelspec": {
   "display_name": "krishgenai",
   "language": "python",
   "name": "python3"
  },
  "language_info": {
   "codemirror_mode": {
    "name": "ipython",
    "version": 3
   },
   "file_extension": ".py",
   "mimetype": "text/x-python",
   "name": "python",
   "nbconvert_exporter": "python",
   "pygments_lexer": "ipython3",
   "version": "3.10.14"
  }
 },
 "nbformat": 4,
 "nbformat_minor": 2
}
