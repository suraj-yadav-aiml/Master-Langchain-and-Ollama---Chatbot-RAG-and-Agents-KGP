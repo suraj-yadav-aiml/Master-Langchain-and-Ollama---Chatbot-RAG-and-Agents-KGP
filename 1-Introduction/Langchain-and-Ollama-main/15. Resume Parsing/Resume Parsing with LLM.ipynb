{
 "cells": [
  {
   "cell_type": "markdown",
   "metadata": {},
   "source": [
    "# Announcement-on-ML\n",
    "<a href='http://www.kgptalkie.com' target=\"_blank\"> <img src='https://github.com/laxmimerit/Important-Announcement-on-ML/raw/master/kgptalkie_strips.png'/></a>\n",
    "\n",
    "# ML Resources\n",
    "|  ML Course | Description |\n",
    "|:---|:---|\n",
    "| [**Deploy LLM App with Ollama and Langchain in Production**](https://www.udemy.com/course/ollama-and-langchain/?referralCode=7F4C0C7B8CF223BA9327) | Master Langchain v0.3, Private Chatbot, Deploy LLM App.  Ollama, LLAMA, LLAMA 3.2, FAISS, RAG, Deploy RAG, Gen AI, LLM|\n",
    "| [**Fine Tuning LLM with HuggingFace Transformers for NLP**](https://www.udemy.com/course/fine-tuning-llm-with-hugging-face-transformers/?referralCode=6DEB3BE17C2644422D8E) | Learn how to fine tune LLM with custom dataset. You will learn basics of transformers then fine tune LLM|\n",
    "| [**Data Visualization in Python Masterclass™: Beginners to Pro**](https://bit.ly/udemy95off_kgptalkie) |  Learn to build Machine Learning and Deep Learning models using Python and its libraries like Scikit-Learn, Keras, and TensorFlow. |\n",
    "| [**Python for Machine Learning: A Step-by-Step Guide**](https://bit.ly/ml-ds-project) | Learn to build Machine Learning and Deep Learning models using Python and its libraries like Scikit-Learn, Keras, and TensorFlow. |\n",
    "| [**Deep Learning for Beginners with Python**](https://bit.ly/dl-with-python) | Neural Networks, TensorFlow, ANN, CNN, RNN, LSTM, Transfer Learning and Much More. |\n",
    "| [**Python for Linear Regression in Machine Learning**](https://bit.ly/regression-python) | Learn to build Linear Regression models using Python and its libraries like Scikit-Learn. |\n",
    "| [**Introduction to Spacy 3 for Natural Language Processing**](https://bit.ly/spacy-intro) | Learn to build Natural Language Processing models using Python and its libraries like Spacy. |\n",
    "| [**Advanced Machine Learning and Deep Learning Projects**](https://bit.ly/kgptalkie_ml_projects) | Learn to build Advanced Machine Learning and Deep Learning models using Python and transformer models like BERT, GPT-2, and XLNet. |\n",
    "| [**Natural Language Processing in Python for Beginners**](https://bit.ly/intro_nlp) | Learn to build Natural Language Processing Projects using Spacy, NLTK, and Gensim, and transformer models like BERT, GPT-2, and XLNet. |\n",
    "| [**Deployment of Machine Learning Models in Production in Python**](https://bit.ly/bert_nlp) |  Learn to deploy Machine Learning and Deep Learning models using Python and its libraries like Flask, Streamlit, and NGINX. |\n",
    "| [**R 4.0 Programming for Data Science - Beginners to Pro**](https://bit.ly/r4-ml) | Learn to build Machine Learning and Deep Learning models using R and its libraries like caret, tidyverse, and keras. |\n"
   ]
  },
  {
   "cell_type": "markdown",
   "metadata": {},
   "source": [
    "## Resume Parsing with LLM\n"
   ]
  },
  {
   "cell_type": "code",
   "execution_count": 1,
   "metadata": {},
   "outputs": [
    {
     "data": {
      "text/plain": [
       "True"
      ]
     },
     "execution_count": 1,
     "metadata": {},
     "output_type": "execute_result"
    }
   ],
   "source": [
    "from dotenv import load_dotenv\n",
    "\n",
    "load_dotenv('./../.env')"
   ]
  },
  {
   "cell_type": "code",
   "execution_count": 2,
   "metadata": {},
   "outputs": [],
   "source": [
    "from langchain_community.document_loaders import  PyMuPDFLoader"
   ]
  },
  {
   "cell_type": "code",
   "execution_count": 19,
   "metadata": {},
   "outputs": [],
   "source": [
    "# filename = 'resume-2.pdf'\n",
    "filename = 'resume-1.pdf'\n",
    "\n",
    "loader = PyMuPDFLoader('resume/{}'.format(filename))\n",
    "docs = loader.load()"
   ]
  },
  {
   "cell_type": "code",
   "execution_count": 20,
   "metadata": {},
   "outputs": [],
   "source": [
    "# print(docs[0].page_content)"
   ]
  },
  {
   "cell_type": "code",
   "execution_count": 21,
   "metadata": {},
   "outputs": [],
   "source": [
    "context = docs[0].page_content\n",
    "\n",
    "question = \"\"\"You are tasked with parsing a job resume. Your goal is to extract relevant information in a valid structured 'JSON' format. \n",
    "                Do not write preambles or explanations.\"\"\""
   ]
  },
  {
   "cell_type": "code",
   "execution_count": 22,
   "metadata": {},
   "outputs": [],
   "source": [
    "from scripts.llm import ask_llm, validate_json"
   ]
  },
  {
   "cell_type": "code",
   "execution_count": 23,
   "metadata": {},
   "outputs": [],
   "source": [
    "response = ask_llm(context=context, question=question)"
   ]
  },
  {
   "cell_type": "code",
   "execution_count": 24,
   "metadata": {},
   "outputs": [],
   "source": [
    "response = validate_json(response)"
   ]
  },
  {
   "cell_type": "code",
   "execution_count": 25,
   "metadata": {},
   "outputs": [
    {
     "name": "stdout",
     "output_type": "stream",
     "text": [
      "{'contactInformation': {'name': 'Kumar Pallav', 'email': 'me@kumarpallav.com', 'phoneNumber': '+1-206-910-0006', 'websitePortfolio': 'http://kumarpallav.com'}, 'education': {'institutionName': 'Indian Institute of Technology, Bombay', 'degree': 'Bachelor of Computer Science and Engineering (with Hons.)', 'fieldOfStudy': 'Computer Science and Engineering', 'graduationDates': 'Jun 2010 - May 2014'}, 'experience': [{'jobTitle': 'Software Engineer · OneNote', 'companyName': 'Microsoft', 'location': 'Redmond, WA', 'datesOfEmployment': 'Jun 2016 - Present', 'responsibilitiesProjects': ['Magic Ink and Ink Lookup: Worked on recognizing ink strokes into words (using onboard IA) and recognizing keywords/entities given the context (using custom entity recognition service). Implemented accumulation of images or interactive widgets (from various online sources) related to the keyword, which could be inserted onto the Whiteboard canvas.', 'Whiteboard App: Implemented sharing experience for the new collaboration focused Whiteboard app. Worked on creating and joining a shared session via OneDrive for Business storage. Also added new XAML components to handle dialogs within the app.', 'Content Addins: Implemented content addins, for OneNote desktop app, as small embedded web apps that would get hosted within managed WebView controls. Created their persistence model and rendering on the desktop application.']}, {'jobTitle': 'Software Engineer · OneNote', 'companyName': 'Microsoft', 'location': 'Vancouver, Canada', 'datesOfEmployment': 'Nov 2014 - May 2016', 'responsibilitiesProjects': ['Embedded Videos and Web Content: Worked on adding ability on OneNote to host web content, making sure it is backwards compatible. Implemented features to make handling and editing web content on the OneNote page easier.', 'Merged Cells for Tables: Added support for spanned cells for tables in OneNote, keeping in mind backwards compatibility. Implemented these capabilities in OneNote web app.', 'Realtime Ink: As a ramp up project, prototyped ink collaboration using SignalR web-sockets. Worked on experimenting load and delay with multiple inputs in realtime.']}, {'jobTitle': 'Software Engineering Intern · Apps for Enterprises', 'companyName': 'Oracle', 'location': 'Bangalore, India', 'datesOfEmployment': 'Nov 2014 - May 2016', 'responsibilitiesProjects': ['Containerization of iOS Apps: Worked on sand-boxing of enterprise applications (containerization) which enable them to be installed on employee’s iOS devices without worrying about security issues. Implemented wrapping of library function calls using swizzling, objective-c backend, linker ﬂags and dynamic library injection.', 'Sandboxed Browser App: Built a demo browser application for iOS. Containerized the app using the custom script, so that it only works for certain urls.']}], 'projects': [{'projectTitle': 'Course Allotment Simulation using SAT Solver', 'descriptionTechnologiesUsed': 'Solving real-world problem of finding a best course allocation under various constraints as a SAT (Satisfiability) problem and infer effects of different policies on course allotment and choices. Studied relative efficiency of various heuristics modeled on different solvers like MiniSAT and Glucose.', 'outcomesResults': ''}, {'projectTitle': 'IIT Bombay Hospital Digitization', 'descriptionTechnologiesUsed': 'Created a complete web application in Java that could handle operations on relational MySQL databases to handle various processes of the university hospital.', 'outcomesResults': ''}, {'projectTitle': 'Simple 2D Physics Engine', 'descriptionTechnologiesUsed': 'Wrote a physics engine for simple round bodies providing a back-end that could generate coordinates in real-time with collision, gravity, restitution and custom resolution of time.', 'outcomesResults': ''}, {'projectTitle': 'Social Sea', 'descriptionTechnologiesUsed': 'Create a lightweight social search engine that shows the results ranked (using page-ranking) according to one’s peer-group search history and rating.', 'outcomesResults': ''}], 'skills': {'programmingLanguages': ['C++', 'Java'], 'developmentSkills': []}}\n"
     ]
    }
   ],
   "source": [
    "print(response)"
   ]
  },
  {
   "cell_type": "code",
   "execution_count": 26,
   "metadata": {},
   "outputs": [],
   "source": [
    "import json\n",
    "\n",
    "output_file = filename.replace('.pdf', '.json')\n",
    "output_file = 'parsed_resume/{}'.format(output_file)\n",
    "\n",
    "json.dump(response, open(output_file, 'w'), indent=4)"
   ]
  },
  {
   "cell_type": "code",
   "execution_count": null,
   "metadata": {},
   "outputs": [],
   "source": []
  }
 ],
 "metadata": {
  "kernelspec": {
   "display_name": "ml",
   "language": "python",
   "name": "python3"
  },
  "language_info": {
   "codemirror_mode": {
    "name": "ipython",
    "version": 3
   },
   "file_extension": ".py",
   "mimetype": "text/x-python",
   "name": "python",
   "nbconvert_exporter": "python",
   "pygments_lexer": "ipython3",
   "version": "3.12.4"
  }
 },
 "nbformat": 4,
 "nbformat_minor": 2
}
