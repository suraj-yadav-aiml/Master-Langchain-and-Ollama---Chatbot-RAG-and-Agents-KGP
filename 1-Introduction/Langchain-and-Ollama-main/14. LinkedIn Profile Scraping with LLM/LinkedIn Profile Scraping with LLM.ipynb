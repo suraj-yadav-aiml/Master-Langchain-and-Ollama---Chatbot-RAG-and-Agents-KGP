{
 "cells": [
  {
   "cell_type": "markdown",
   "metadata": {},
   "source": [
    "# Announcement-on-ML\n",
    "<a href='http://www.kgptalkie.com' target=\"_blank\"> <img src='https://github.com/laxmimerit/Important-Announcement-on-ML/raw/master/kgptalkie_strips.png'/></a>\n",
    "\n",
    "# ML Resources\n",
    "|  ML Course | Description |\n",
    "|:---|:---|\n",
    "| [**Deploy LLM App with Ollama and Langchain in Production**](https://www.udemy.com/course/ollama-and-langchain/?referralCode=7F4C0C7B8CF223BA9327) | Master Langchain v0.3, Private Chatbot, Deploy LLM App.  Ollama, LLAMA, LLAMA 3.2, FAISS, RAG, Deploy RAG, Gen AI, LLM|\n",
    "| [**Fine Tuning LLM with HuggingFace Transformers for NLP**](https://www.udemy.com/course/fine-tuning-llm-with-hugging-face-transformers/?referralCode=6DEB3BE17C2644422D8E) | Learn how to fine tune LLM with custom dataset. You will learn basics of transformers then fine tune LLM|\n",
    "| [**Data Visualization in Python Masterclass™: Beginners to Pro**](https://bit.ly/udemy95off_kgptalkie) |  Learn to build Machine Learning and Deep Learning models using Python and its libraries like Scikit-Learn, Keras, and TensorFlow. |\n",
    "| [**Python for Machine Learning: A Step-by-Step Guide**](https://bit.ly/ml-ds-project) | Learn to build Machine Learning and Deep Learning models using Python and its libraries like Scikit-Learn, Keras, and TensorFlow. |\n",
    "| [**Deep Learning for Beginners with Python**](https://bit.ly/dl-with-python) | Neural Networks, TensorFlow, ANN, CNN, RNN, LSTM, Transfer Learning and Much More. |\n",
    "| [**Python for Linear Regression in Machine Learning**](https://bit.ly/regression-python) | Learn to build Linear Regression models using Python and its libraries like Scikit-Learn. |\n",
    "| [**Introduction to Spacy 3 for Natural Language Processing**](https://bit.ly/spacy-intro) | Learn to build Natural Language Processing models using Python and its libraries like Spacy. |\n",
    "| [**Advanced Machine Learning and Deep Learning Projects**](https://bit.ly/kgptalkie_ml_projects) | Learn to build Advanced Machine Learning and Deep Learning models using Python and transformer models like BERT, GPT-2, and XLNet. |\n",
    "| [**Natural Language Processing in Python for Beginners**](https://bit.ly/intro_nlp) | Learn to build Natural Language Processing Projects using Spacy, NLTK, and Gensim, and transformer models like BERT, GPT-2, and XLNet. |\n",
    "| [**Deployment of Machine Learning Models in Production in Python**](https://bit.ly/bert_nlp) |  Learn to deploy Machine Learning and Deep Learning models using Python and its libraries like Flask, Streamlit, and NGINX. |\n",
    "| [**R 4.0 Programming for Data Science - Beginners to Pro**](https://bit.ly/r4-ml) | Learn to build Machine Learning and Deep Learning models using R and its libraries like caret, tidyverse, and keras. |\n"
   ]
  },
  {
   "cell_type": "markdown",
   "metadata": {},
   "source": [
    "## LinkedIn Profile Scraper in Python using LLM"
   ]
  },
  {
   "cell_type": "markdown",
   "metadata": {},
   "source": [
    "YouTube Video: https://youtu.be/SQtwhuYJk3M"
   ]
  },
  {
   "cell_type": "code",
   "execution_count": 2,
   "metadata": {},
   "outputs": [],
   "source": [
    "import warnings\n",
    "warnings.filterwarnings(\"ignore\")"
   ]
  },
  {
   "cell_type": "code",
   "execution_count": 3,
   "metadata": {},
   "outputs": [
    {
     "data": {
      "text/plain": [
       "True"
      ]
     },
     "execution_count": 3,
     "metadata": {},
     "output_type": "execute_result"
    }
   ],
   "source": [
    "import os\n",
    "from dotenv import load_dotenv\n",
    "load_dotenv()"
   ]
  },
  {
   "cell_type": "code",
   "execution_count": 4,
   "metadata": {},
   "outputs": [],
   "source": [
    "from bs4 import BeautifulSoup\n",
    "from selenium import webdriver\n",
    "from selenium.webdriver.common.by import By"
   ]
  },
  {
   "cell_type": "code",
   "execution_count": 5,
   "metadata": {},
   "outputs": [],
   "source": [
    "driver = webdriver.Chrome()"
   ]
  },
  {
   "cell_type": "code",
   "execution_count": 6,
   "metadata": {},
   "outputs": [],
   "source": [
    "driver.get('https://www.linkedin.com/login')"
   ]
  },
  {
   "cell_type": "code",
   "execution_count": 7,
   "metadata": {},
   "outputs": [
    {
     "data": {
      "text/plain": [
       "'LinkedIn Login, Sign in | LinkedIn'"
      ]
     },
     "execution_count": 7,
     "metadata": {},
     "output_type": "execute_result"
    }
   ],
   "source": [
    "driver.title"
   ]
  },
  {
   "cell_type": "code",
   "execution_count": 8,
   "metadata": {},
   "outputs": [],
   "source": [
    "email = driver.find_element(By.ID, 'username')\n",
    "email.send_keys(os.getenv('EMAIL'))"
   ]
  },
  {
   "cell_type": "code",
   "execution_count": 9,
   "metadata": {},
   "outputs": [],
   "source": [
    "password = driver.find_element(By.ID, 'password')\n",
    "password.send_keys(os.getenv('PASSWORD'))"
   ]
  },
  {
   "cell_type": "code",
   "execution_count": 10,
   "metadata": {},
   "outputs": [],
   "source": [
    "password.submit()"
   ]
  },
  {
   "cell_type": "code",
   "execution_count": 11,
   "metadata": {},
   "outputs": [],
   "source": [
    "## MAKE SURE TO USE ONLY THIS URL TO AVOID BEING STUCK IN ERRORS\n",
    "\n",
    "url = \"https://www.linkedin.com/in/laxmimerit\"\n",
    "\n",
    "driver.get(url)"
   ]
  },
  {
   "cell_type": "code",
   "execution_count": 12,
   "metadata": {},
   "outputs": [],
   "source": [
    "page_source = driver.page_source"
   ]
  },
  {
   "cell_type": "code",
   "execution_count": 14,
   "metadata": {},
   "outputs": [],
   "source": [
    "soup = BeautifulSoup(page_source, 'lxml')"
   ]
  },
  {
   "cell_type": "code",
   "execution_count": 17,
   "metadata": {},
   "outputs": [],
   "source": [
    "# soup.get_text()"
   ]
  },
  {
   "cell_type": "code",
   "execution_count": 18,
   "metadata": {},
   "outputs": [],
   "source": [
    "profile = soup.find('main', {'class': 'scaffold-layout__main'})"
   ]
  },
  {
   "cell_type": "code",
   "execution_count": 22,
   "metadata": {},
   "outputs": [],
   "source": [
    "# print(profile.get_text())"
   ]
  },
  {
   "cell_type": "code",
   "execution_count": 23,
   "metadata": {},
   "outputs": [],
   "source": [
    "sections = profile.find_all('section', {'class': 'artdeco-card'})"
   ]
  },
  {
   "cell_type": "code",
   "execution_count": 24,
   "metadata": {},
   "outputs": [
    {
     "data": {
      "text/plain": [
       "17"
      ]
     },
     "execution_count": 24,
     "metadata": {},
     "output_type": "execute_result"
    }
   ],
   "source": [
    "len(sections)"
   ]
  },
  {
   "cell_type": "code",
   "execution_count": 26,
   "metadata": {},
   "outputs": [],
   "source": [
    "# sections"
   ]
  },
  {
   "cell_type": "code",
   "execution_count": 27,
   "metadata": {},
   "outputs": [],
   "source": [
    "sections_text = [section.get_text() for section in sections]"
   ]
  },
  {
   "cell_type": "code",
   "execution_count": 30,
   "metadata": {},
   "outputs": [],
   "source": [
    "import re\n",
    "\n",
    "# remove multiple new lines and tabs\n",
    "def clean_text(text):\n",
    "    text = re.sub(r'\\n+', '\\n', text)\n",
    "    text = re.sub(r'\\t+', '\\t', text)\n",
    "    text = re.sub(r'\\t\\s+', ' ', text)\n",
    "    text = re.sub(r'\\n\\s+', '\\n', text)\n",
    "    return text"
   ]
  },
  {
   "cell_type": "code",
   "execution_count": 31,
   "metadata": {},
   "outputs": [],
   "source": [
    "sections_text = [clean_text(section) for section in sections_text]"
   ]
  },
  {
   "cell_type": "code",
   "execution_count": 35,
   "metadata": {},
   "outputs": [],
   "source": [
    "def remove_duplicates(text):\n",
    "    lines = text.split('\\n')\n",
    "    new_lines = []\n",
    "    for line in lines:\n",
    "        if line[:len(line)//2] == line[len(line)//2:]:\n",
    "            new_lines.append(line[:len(line)//2])\n",
    "        else:\n",
    "            new_lines.append(line)\n",
    "\n",
    "    return '\\n'.join(new_lines)"
   ]
  },
  {
   "cell_type": "code",
   "execution_count": 36,
   "metadata": {},
   "outputs": [],
   "source": [
    "sections_text = [remove_duplicates(section) for section in sections_text]"
   ]
  },
  {
   "cell_type": "code",
   "execution_count": 37,
   "metadata": {},
   "outputs": [
    {
     "name": "stdout",
     "output_type": "stream",
     "text": [
      "\n",
      "Highlights\n",
      "Laxmi Kant profile picture\n",
      "Laxmi has viewed your profile\n",
      "Curious about who else viewed your profile? Unlock for more opportunities.\n",
      "See all profile views\n",
      "\n"
     ]
    }
   ],
   "source": [
    "print(sections_text[1])"
   ]
  },
  {
   "cell_type": "code",
   "execution_count": 38,
   "metadata": {},
   "outputs": [
    {
     "data": {
      "text/plain": [
       "['\\ntest\\nLaxmi Kant\\n1st degree connection\\n1st\\nGen AI in Finance & Investment Services | Data Scientist | IIT Kharagpur | Asset Management | AI-Driven Financial Modeling | Search Ranking | NLP Python BERT AWS Elasticsearch GNN SQL LLM | AI in Investment Strategies\\nIndian Institute of Technology, Kharagpur\\nMumbai, Maharashtra, India\\nContact info\\n26,723 followers\\n500+ connections\\nSayantam Datta, M. Murali, and 82 other mutual connections\\nMessage\\nSend profile in a message\\nSave to PDF\\nRequest a recommendation\\nRecommend\\nUnfollow\\nRemove Connection\\nReport / Block\\nAbout this profile\\nAbout this profile\\n',\n",
       " '\\nHighlights\\nLaxmi Kant profile picture\\nLaxmi has viewed your profile\\nCurious about who else viewed your profile? Unlock for more opportunities.\\nSee all profile views\\n',\n",
       " '\\nAbout\\nDemonstrated 8+ years of expertise in advanced analytics as an AVP in Data Science, showcasing dynamic and impactful contributions. Seeking to leverage expertise in customer behavior modeling, personalized marketing, product discovery & search optimization, and recommendations to drive impactful solutions in the fields of Data Science, Machine Learning, and Artificial Intelligence.👉 Significant Achievements Across Career▪ Strategically led impactful initiatives in Customer Behavior Modeling, resulting in a substantial 30% increase in customer retention and a 10% reduction in advertising spending.▪ Pioneered the development and implementation of a Machine Learning product relevance ranking system, contributing to a remarkable 30% increase in conversion rates and a 20% growth in revenue.▪ Applied innovative techniques, including Social Graph Analytics and Predictive  Modeling, achieving a 35% improvement in recommendation conversion rates and a 40% increase in customer care calling conversion rates.▪ Revolutionized customer segmentation and ranking, realizing a notable 20% improvement in conversion rates.▪ Engineered predictive models for email open rates, driving a remarkable 70% improvement in email engagement.▪ Achieved transformative outcomes, including a substantial 50% improvement in search conversion rates, a notable 60% increase in revenue, and an impressive 90% reduction in zero-result queries.▪ A strategic driver of user satisfaction and engagement, evidenced by a commendable 10% decrease in exit rates.Demonstrated 8+ years of expertise in advanced analytics as an AVP in Data Science, showcasing dynamic and impactful contributions. Seeking to leverage expertise in customer behavior modeling, personalized marketing, product discovery & search optimization, and recommendations to drive impactful solutions in the fields of Data Science, Machine Learning, and Artificial Intelligence.\\n👉 Significant Achievements Across Career\\n▪ Strategically led impactful initiatives in Customer Behavior Modeling, resulting in a substantial 30% increase in customer retention and a 10% reduction in advertising spending.\\n▪ Pioneered the development and implementation of a Machine Learning product relevance ranking system, contributing to a remarkable 30% increase in conversion rates and a 20% growth in revenue.\\n▪ Applied innovative techniques, including Social Graph Analytics and Predictive  Modeling, achieving a 35% improvement in recommendation conversion rates and a 40% increase in customer care calling conversion rates.\\n▪ Revolutionized customer segmentation and ranking, realizing a notable 20% improvement in conversion rates.\\n▪ Engineered predictive models for email open rates, driving a remarkable 70% improvement in email engagement.\\n▪ Achieved transformative outcomes, including a substantial 50% improvement in search conversion rates, a notable 60% increase in revenue, and an impressive 90% reduction in zero-result queries.\\n▪ A strategic driver of user satisfaction and engagement, evidenced by a commendable 10% decrease in exit rates.\\n…see more\\nTop skills\\nSQL • Machine Learning • Python • Amazon Web Services (AWS) • Large Language Models (LLM)\\n',\n",
       " \"\\nFeatured\\nLink\\nDeploy LLM App with Ollama and Langchain in Production\\nUdemy\\nBuild Private AI Chatbots and deploy them on AWS. Master Langchain v0.3, Ollama, LLAMA, FAISS, Prompt Engineering and RAG.\\nLink\\nFine Tuning LLM with Hugging Face Transformers for NLP\\nUdemy\\nFine-tuning techniques for BERT variants (Phi2, LLAMA, T5, BERT, DistilBERT, MobileBERT, TinyBERT)Knowledge distillation with advanced models like RoBERTa, ALBERT, XLNet, and Vision TransformersPractical examples using Hugging Face tools and custom chat models with LLAMAWhether you're a beginner or an advanced practitioner, this course offers valuable insights and hands-on experience to elevate your NLP skills. Enroll now and unlock the full potential of Transformer models!Fine-tuning techniques for BERT variants (Phi2, LLAMA, T5, BERT, DistilBERT, MobileBERT, TinyBERT)\\nKnowledge distillation with advanced models like RoBERTa, ALBERT, XLNet, and Vision Transformers\\nPractical examples using Hugging Face tools and custom chat models with LLAMA\\nWhether you're a beginner or an advanced practitioner, this course offers valuable insights and hands-on experience to elevate your NLP skills. Enroll now and unlock the full potential of Transformer models!\\nLink\\nPython for Deep Learning and Artificial Intelligence\\nUdemy\\nThis comprehensive course covers the latest advancements in deep learning and artificial intelligence using Python. Designed for both beginner and advanced students, this course teaches you the foundational concepts and practical skills necessary to build and deploy deep learning models.\\nLink\\nPython for Machine Learning: A Step-by-Step Guide\\nUdemy\\nData Science Projects with Linear Regression, Logistic Regression, Random Forest, SVM, KNN, KMeans, XGBoost, PCA etc\\nLink\\nAdvanced Natural Language and Image Processing Projects\\nUdemy\\nText Embedding, Clustering, Classification | Image Clustering, Classification, Text to Image Search\\n\",\n",
       " '\\nActivity\\n26,723 followers\\nFollowing\\nPosts\\nComments\\nVideos\\nImages\\nLoaded 3 Posts posts\\nLaxmi Kant posted this • 12h12h\\nDeploy Langchain with Ollama is Out!!!\\nBuild Private AI Chatbots, Deploy on AWS. Master Langchain v0.3, Ollama, LLAMA, FAISS, Prompt Engineering and RAG, Deploy LLM App with Ollama and Langchain in Production, udemy.com\\nDeploy Langchain with Ollama is Out!!!Build Private AI Chatbots, Deploy on AWS. Master Langchain v0.3, Ollama, LLAMA, FAISS, Prompt Engineering and RAG\\n…show more\\nDeploy LLM App with Ollama and Langchain in Production\\nudemy.com\\n4                    \\nLaxmi Kant posted this • 6d6d\\nMachine learning interview question #5\\nMachine learning interview question #5\\n5                    \\nLaxmi Kant posted this • 1w1w\\nMachine Learning Interview Questions #4\\nMachine Learning Interview Questions #4\\n8                    \\nShow all posts\\n',\n",
       " '\\nExperience\\nIGP\\nFull-time · 4 yrs 10 mos\\nAssistant Vice President\\nOct 2023 - Sep 2024 · 1 yrOct 2023 to Sep 2024 · 1 yr\\nMumbai, Maharashtra, India\\n👉Customer Behavior Modeling:Estimating Customer Lifetime Value (CLV) predicts customer worth, churn forecasts retention, and purchase propensity gauges transaction counts and spending. Tier transition analysis influences segmentation, retention, and personalized marketing, enhancing satisfaction, loyalty, and revenue.👉Hashtag Search:Enhancing search functionality by integrating product attributes into phrases for a more intuitive and efficient product discovery process.👉Automated Customer Feedback Report:Utilizing fine-tuning of a Large Language Model to generate diverse supervised data, addressing imbalances in actual data for improved analysis and data-driven decision-making in customer satisfaction and issue resolution.👉Meta Tag Generator for PLP, PDP, and Query Pages:The \"Meta Tag Generator\" project automates meta tag creation for PLP, PDP, and Query Pages, optimizing search engine visibility and attracting targeted traffic to the website.👉Customer Behavior Modeling:\\nEstimating Customer Lifetime Value (CLV) predicts customer worth, churn forecasts retention, and purchase propensity gauges transaction counts and spending. Tier transition analysis influences segmentation, retention, and personalized marketing, enhancing satisfaction, loyalty, and revenue.\\n👉Hashtag Search:\\nEnhancing search functionality by integrating product attributes into phrases for a more intuitive and efficient product discovery process.\\n👉Automated Customer Feedback Report:\\nUtilizing fine-tuning of a Large Language Model to generate diverse supervised data, addressing imbalances in actual data for improved analysis and data-driven decision-making in customer satisfaction and issue resolution.\\n👉Meta Tag Generator for PLP, PDP, and Query Pages:\\nThe \"Meta Tag Generator\" project automates meta tag creation for PLP, PDP, and Query Pages, optimizing search engine visibility and attracting targeted traffic to the website.\\n…see more\\nAssociate Vice President\\nApr 2021 - Oct 2023 · 2 yrs 7 mosApr 2021 to Oct 2023 · 2 yrs 7 mos\\nMumbai, Maharashtra, India · On-site\\n👉Personalized Search:Engineered dynamic product ranking tailored to individual users, optimizing the search experience based on user preferences.👉Graph and Big Data Analysis:Designed and implemented graph and big-data analysis tools to extract valuable insights, contributing to strategic decision-making.👉Implicit Customer Features Identification:Utilized demographic data, including religion, native region, and gender, to drive targeted marketing, resulting in personalized recommendations and search suggestions aligned with individual preferences.👉Social Graph Analytics for Personalized Search and Recommendation:Analyzed user social graphs and click journeys to develop sophisticated recommendation systems, providing personalized suggestions based on user behavior and connections.👉Customer Segmentation and Ranking:Implemented techniques to segment customers based on diverse attributes and ranked them according to relevance and potential value, enhancing the personalization of product rankings.👉Image Segmentation and Phrase Generation:Applied image segmentation techniques to enrich e-commerce product attributes and utilized phrase generation to create descriptive and informative content.👉Customer Purchase Intention and Cart Value Prediction:Developed models for predicting customer purchase intentions and cart values, contributing to optimized marketing strategies and an improved shopping experience.👉User Category and MRP Affinity:Explored user categories and their affinity towards specific products or price ranges, leveraging insights to enhance personalized recommendations and targeted marketing efforts.👉Social Graph-Based Occasion Marking and Relation Prediction:Leveraged the social graph to identify occasions and predict user relationships, facilitating personalized recommendations aligned with specific events or social connections.👉Personalized Search:\\nEngineered dynamic product ranking tailored to individual users, optimizing the search experience based on user preferences.\\n👉Graph and Big Data Analysis:\\nDesigned and implemented graph and big-data analysis tools to extract valuable insights, contributing to strategic decision-making.\\n👉Implicit Customer Features Identification:\\nUtilized demographic data, including religion, native region, and gender, to drive targeted marketing, resulting in personalized recommendations and search suggestions aligned with individual preferences.\\n👉Social Graph Analytics for Personalized Search and Recommendation:\\nAnalyzed user social graphs and click journeys to develop sophisticated recommendation systems, providing personalized suggestions based on user behavior and connections.\\n👉Customer Segmentation and Ranking:\\nImplemented techniques to segment customers based on diverse attributes and ranked them according to relevance and potential value, enhancing the personalization of product rankings.\\n👉Image Segmentation and Phrase Generation:\\nApplied image segmentation techniques to enrich e-commerce product attributes and utilized phrase generation to create descriptive and informative content.\\n👉Customer Purchase Intention and Cart Value Prediction:\\nDeveloped models for predicting customer purchase intentions and cart values, contributing to optimized marketing strategies and an improved shopping experience.\\n👉User Category and MRP Affinity:\\nExplored user categories and their affinity towards specific products or price ranges, leveraging insights to enhance personalized recommendations and targeted marketing efforts.\\n👉Social Graph-Based Occasion Marking and Relation Prediction:\\nLeveraged the social graph to identify occasions and predict user relationships, facilitating personalized recommendations aligned with specific events or social connections.\\n…see more\\nData Science Manager\\nDec 2019 - Apr 2021 · 1 yr 5 mosDec 2019 to Apr 2021 · 1 yr 5 mos\\nBengaluru, Karnataka, India\\nExtraction of Syntactic and Semantic search queries. Machine learning models for query correction, product search, product ranking, user profiling, and revenue impact. Architecture for data flow, annotation, modeling, and deployment flow.👉Marketing Email Subject Line Open Rate Predictor:Developed a predictive model to forecast open rates for marketing email subject lines, empowering the formulation of effective email campaign strategies and elevating customer engagement.👉Extraction of Syntactic and Semantic Search Queries:Implemented machine learning models for the extraction of syntactic and semantic search queries, covering query correction, product search, product ranking, user profiling, and assessing revenue impact. Established an architecture for seamless data flow, annotation, modeling, and deployment.👉AI-Powered Search at IGP.COM:- Implemented dynamic query suggestions and advanced \\'BERT\\' Transformers algorithms for precise searches.- Enabled real-time syntactic and semantic analysis with adaptive typo tolerance and Hinglish spelling correction.- Applied AI-driven demographic filtering and intelligent synonym selection.- Achieved a 20% improvement in search conversion, a 25% enhancement in revenue generated by search, a 90% reduction in zero-result queries, and a 10% decrease in exit rates.👉Graph-Powered Products Recommendation in Real-time:Introduced features such as \"People like you also buy,\" \"Frequently bought together,\" \"After viewing this, people bought,\" and \"Products based on your shopping trends\" for real-time, graph-powered product recommendations.Extraction of Syntactic and Semantic search queries. Machine learning models for query correction, product search, product ranking, user profiling, and revenue impact. Architecture for data flow, annotation, modeling, and deployment flow.\\n👉Marketing Email Subject Line Open Rate Predictor:\\nDeveloped a predictive model to forecast open rates for marketing email subject lines, empowering the formulation of effective email campaign strategies and elevating customer engagement.\\n👉Extraction of Syntactic and Semantic Search Queries:\\nImplemented machine learning models for the extraction of syntactic and semantic search queries, covering query correction, product search, product ranking, user profiling, and assessing revenue impact. Established an architecture for seamless data flow, annotation, modeling, and deployment.\\n👉AI-Powered Search at IGP.COM:\\n- Implemented dynamic query suggestions and advanced \\'BERT\\' Transformers algorithms for precise searches.\\n- Enabled real-time syntactic and semantic analysis with adaptive typo tolerance and Hinglish spelling correction.\\n- Applied AI-driven demographic filtering and intelligent synonym selection.\\n- Achieved a 20% improvement in search conversion, a 25% enhancement in revenue generated by search, a 90% reduction in zero-result queries, and a 10% decrease in exit rates.\\n👉Graph-Powered Products Recommendation in Real-time:\\nIntroduced features such as \"People like you also buy,\" \"Frequently bought together,\" \"After viewing this, people bought,\" and \"Products based on your shopping trends\" for real-time, graph-powered product recommendations.\\n…see more\\nmBreath\\n3 yrs 4 mos\\nCo-Founder\\nAug 2016 - Nov 2019 · 3 yrs 4 mosAug 2016 to Nov 2019 · 3 yrs 4 mos\\nSTEP, IIT Kharagpur\\nThere are some of the project which I did at mBreath.Real-Time Human Vital Parameter Estimation Using Pressure Sensor and Machine LearningMeasured respiration and heart rate through an array of pressure sensors and Deep Learning (CNN, RNN-LSTM) algorithms. [Filed Patent Ref No. 201731038573]. 96% accuracy was achieved. The project had three stages 1) preprocessing with analog filters, 2) Digital Signal Processing, 3) Machine Learning model thereafter data is uploaded to the cloud for further processing.Real-time Classification of Environmental Sounds & Their Impacts on Sleep QualityCollected audio using a microphone and Qualcomm’s Snapdragon processor enabled custom-built board running Android 6.0. Audio Cleaning, Feature Extraction (more than 700 features) in Temporal, Spectral, Energy, Harmonic, and Cepstral domain, Feature Selection for faster training and better accuracy and ML models (CNN, LSTM, RF, SVM) are designed to classify snoring and other sound and their impact on sleep quality.A Real-Time System and Methods for the Detection of Sleep Apnea and Sleep StageUsed CNN, Inception, LSTM, CNN-LSTM models to estimate Sleep Apnea and Sleep Stages using the respiration signal only. The training data was obtained from MESA, National Sleep Research Resource, USA. I did data cleaning and balancing thereafter feature engineering and selection were done before applying the ML model. Achieved 82.7% accuracy in Sleep Apnea which is higher than any known methods applied on respiration signal in MESA Dataset and achieved more than 80% accuracy in sleep stage classification which can be considered as good accuracy.Visit:http://www.sleepdoc.aihttp://www.facebook.com/mBreathOfficialhttp://www.twitter.com/mBreathOfficialThere are some of the project which I did at mBreath.\\nReal-Time Human Vital Parameter Estimation Using Pressure Sensor and Machine Learning\\nMeasured respiration and heart rate through an array of pressure sensors and Deep Learning (CNN, RNN-LSTM) algorithms. [Filed Patent Ref No. 201731038573]. 96% accuracy was achieved. The project had three stages 1) preprocessing with analog filters, 2) Digital Signal Processing, 3) Machine Learning model thereafter data is uploaded to the cloud for further processing.\\nReal-time Classification of Environmental Sounds & Their Impacts on Sleep Quality\\nCollected audio using a microphone and Qualcomm’s Snapdragon processor enabled custom-built board running Android 6.0. Audio Cleaning, Feature Extraction (more than 700 features) in Temporal, Spectral, Energy, Harmonic, and Cepstral domain, Feature Selection for faster training and better accuracy and ML models (CNN, LSTM, RF, SVM) are designed to classify snoring and other sound and their impact on sleep quality.\\nA Real-Time System and Methods for the Detection of Sleep Apnea and Sleep Stage\\nUsed CNN, Inception, LSTM, CNN-LSTM models to estimate Sleep Apnea and Sleep Stages using the respiration signal only. The training data was obtained from MESA, National Sleep Research Resource, USA. I did data cleaning and balancing thereafter feature engineering and selection were done before applying the ML model. Achieved 82.7% accuracy in Sleep Apnea which is higher than any known methods applied on respiration signal in MESA Dataset and achieved more than 80% accuracy in sleep stage classification which can be considered as good accuracy.\\nVisit:\\nhttp://www.sleepdoc.ai\\nhttp://www.facebook.com/mBreathOfficial\\nhttp://www.twitter.com/mBreathOfficial\\n…see more\\nThese IITians say ‘stop losing sleep over sleep,’ develop smart sleep assistant SleepDoc+\\nIncubated by IIT-Kharagpur and Qualcomm, mBreath Technologies’ first offering SleepDoc+ determines the sleep quality of the user, analyses and provides insightful data. The product is all set to hit t...\\nData Scientist\\nAug 2016 - Nov 2019 · 3 yrs 4 mosAug 2016 to Nov 2019 · 3 yrs 4 mos\\nBangalore\\nDeveloped two end-to-end products \"Smart Wireless System and Method for Human Health Monitoring Using Doppler Radar“ [Filed Patent Ref. No. 201731038573]  and \"Smart Sleep Sense System For Human Health Monitoring And Screening Using Velostat Pressure Sensor\" [Filed Patent Ref. 01731041913 ]Worked on multiple fronts including Business Model Development, Customer Acquisition, Market Analysis, Product Feasibility Analysis, and Customer Segmentation and Satisfaction analysis while working as Data ScientistStudied Socio and Economic Impact of healthcare and Sleep Disorder in the US market Did cost optimization while designing the product SleepDoc by keeping time-to-market in mindHaving experience in working with GitHub and Bitbucket for code management.Used Deep Learning (CNN, LSTM, CNN-LSTM, Inception, VGGs), Machine Learning models (Logistic Regression, Random Forest, SVM, and XGBoost), and Feature Selection for real-time audio analysis and classification, sleep apnea detection, sleep stage detection, snoring detection.Developed SleepDoc, SleepDoc uses the FMCW RADAR system to measure respiration and heart rate. Designed Android Application and state-of-the-art ML Algorithms (SVM, RF, CNN, LSTM, CNN-LSTM, Inception) to measure vital parameters. [Filed Patent Ref No. 201731038573]. The 99% accuracy was achieved in Respiration and Heart Rate measurement with 30-sec epochs. Deep learning models were trained on the Google Cloud Platform (GCP) with Tensorflow-GPU.Successfully achieved kernel changes into Android OS to read data on Qualcomm’s Snapdragon processor using SPI, I2C, and UART. Interfaced Java and custom module coded in C-Language in Android 6.0.Designed my own email marketing software for the marketing of SleepDoc. Used AWS Boto3 Python, AWS SES, SNS, SQS, AWS Lambda, DynamoDB, and PyQt5. Written code for automatic email and phone number extractor crawler.Developed two end-to-end products \"Smart Wireless System and Method for Human Health Monitoring Using Doppler Radar“ [Filed Patent Ref. No. 201731038573]  and \"Smart Sleep Sense System For Human Health Monitoring And Screening Using Velostat Pressure Sensor\" [Filed Patent Ref. 01731041913 ]\\nWorked on multiple fronts including Business Model Development, Customer Acquisition, Market Analysis, Product Feasibility Analysis, and Customer Segmentation and Satisfaction analysis while working as Data Scientist\\nStudied Socio and Economic Impact of healthcare and Sleep Disorder in the US market \\nDid cost optimization while designing the product SleepDoc by keeping time-to-market in mind\\nHaving experience in working with GitHub and Bitbucket for code management.\\nUsed Deep Learning (CNN, LSTM, CNN-LSTM, Inception, VGGs), Machine Learning models (Logistic Regression, Random Forest, SVM, and XGBoost), and Feature Selection for real-time audio analysis and classification, sleep apnea detection, sleep stage detection, snoring detection.\\nDeveloped SleepDoc, SleepDoc uses the FMCW RADAR system to measure respiration and heart rate. Designed Android Application and state-of-the-art ML Algorithms (SVM, RF, CNN, LSTM, CNN-LSTM, Inception) to measure vital parameters. [Filed Patent Ref No. 201731038573]. The 99% accuracy was achieved in Respiration and Heart Rate measurement with 30-sec epochs. Deep learning models were trained on the Google Cloud Platform (GCP) with Tensorflow-GPU.\\nSuccessfully achieved kernel changes into Android OS to read data on Qualcomm’s Snapdragon processor using SPI, I2C, and UART. Interfaced Java and custom module coded in C-Language in Android 6.0.\\nDesigned my own email marketing software for the marketing of SleepDoc. Used AWS Boto3 Python, AWS SES, SNS, SQS, AWS Lambda, DynamoDB, and PyQt5. Written code for automatic email and phone number extractor crawler. \\n…see more\\nIndian Institute of Technology, Kharagpur\\n4 yrs 8 mos\\nStudent\\nJul 2012 - Feb 2017 · 4 yrs 8 mosJul 2012 to Feb 2017 · 4 yrs 8 mos\\nKharagpur, India\\nTeacher Assistant\\nJan 2013 - Jan 2017 · 4 yrs 1 moJan 2013 to Jan 2017 · 4 yrs 1 mo\\nIIT Kharagpur\\nIt was a great experience to teach Embedded Systems. The objective of the teaching is the implementation of the adaptive filter on embedded hardware and software.Implementation of the DSP algorithms was done in Assembly language. Students get comprehensive knowledge of Embedded System and IoT. It was a great experience to teach Embedded Systems. The objective of the teaching is the implementation of the adaptive filter on embedded hardware and software.\\nImplementation of the DSP algorithms was done in Assembly language. Students get comprehensive knowledge of Embedded System and IoT. \\n…see more\\nM.Tech\\nJul 2012 - Jun 2014 · 2 yrsJul 2012 to Jun 2014 · 2 yrs\\nIIT Kharagpur\\n',\n",
       " '\\nEducation\\nIndian Institute of Technology, Kharagpur\\nSenior Research Scholar, Computer Science\\n2014 - 2016\\nDesigned two systems and methods for wireless respiration and heart rate monitoring. Patents are filed for both systems.Signal processing algorithms are developed to estimated respiration and heart rate accurately.Machine learning algorithms and Android application designed to detect Sleep Apnea, Snoring, and Stages of Sleep. Data was also uploaded to the cloud.Designed two systems and methods for wireless respiration and heart rate monitoring. Patents are filed for both systems.\\nSignal processing algorithms are developed to estimated respiration and heart rate accurately.\\nMachine learning algorithms and Android application designed to detect Sleep Apnea, Snoring, and Stages of Sleep. Data was also uploaded to the cloud. \\n…see more\\nIndian Institute of Technology, Kharagpur\\nMaster of Technology (M.Tech.), Computer Science \\n2012 - 2014\\nReal-Time Kalman Filter is implemented in C languageStudied Designing of Algorithms and Analysis, Data Structure, Machine Learning, Computer Architecture, Java, C, Embedded System and Implemented 5-stage pipelined RISC processor in Verilog as term project. Taught embedded system and IoT to UG students at IIT Kharagpur as TAReal-Time Kalman Filter is implemented in C language\\nStudied Designing of Algorithms and Analysis, Data Structure, Machine Learning, Computer Architecture, Java, C, Embedded System and Implemented 5-stage pipelined RISC processor in Verilog as term project. \\nTaught embedded system and IoT to UG students at IIT Kharagpur as TA \\n…see more\\n',\n",
       " '\\nLicenses & certifications\\nProduct Analytics Micro Certificate\\nProduct School\\nIssued Jan 2024\\nShow credential\\nData Analytics, Product Management and +1 skill\\nAccenture Innovation Award\\nAccenture\\nIssued Nov 2017\\nShow all 6 licenses & certifications\\n',\n",
       " '\\nProjects\\nSmart Sleep Sense: An Unobtrusive and IoT Enabled Wireless Sleep Monitoring System\\nMay 2015 - Present\\nThe project aims at developing a portable Human monitoring device that detects the health parameters (heart pulse, breathing rate, thermal emotion recognition, awakening at REM stage of the sleep) and communicates the signals obtained from sensors to the Android app via Wireless network. The information is used to convey Smart Assistance to the user for their daily improved health care conditions thus improving their efficiency and longevity. We are offering sleep disorder monitoring devices. In addition to this, our business model is B2C and device will be directly available to the customer for purchase via online e-commerce stores as well as company e-store itself and the expected cost will be in between 110 to 149 dollar.\\n…see more\\nOptimized Fixed Point Kalman Filter Implementation on Embedded Hardware\\nAug 2013 - Apr 2014\\nReal time adaptive signal processing is an area of considerable interest for the researchers in the field of embedded signal processing. Owing to the large dynamic range and constant relative accuracy of floating point arithmetic, filters are traditionally realized in floating point data type. However, using floating point arithmetic in embedded systems lead to larger cost in terms of latency, power and memory. Therefore these algorithms need to be implemented in fixed point for optimizing these constraints. However with the reduction in the word length the precision get affected. Therefore these algorithms need to be coded properly with adequate fixed point format such that precision is not affected while the resources are optimized. In this thesis an attempt has been made to implement Least Mean Square (LMS), Recursive Least Square (RLS) and Kalman Filtering algorithms on ARM Cortex M0+ with Thumb instruction set. The word length has been optimized for accurate performance, reduced power, improved speed and reduced memory usage. The validation of the algorithm has been carried out with respect to MATLAB.\\n…see more\\nShow all 5 projects\\n',\n",
       " '\\nSkills\\nMLOps\\nEndorse\\nLarge Language Models (LLM)\\nEndorse\\nShow all 50 skills\\n',\n",
       " \"\\nRecommendations\\nRecommend Laxmi\\nReceived\\nGiven\\nNothing to see for now\\nRecommendations that Laxmi receives will appear here.\\nAlok Mishra\\n· 2ndSecond degree connection\\nEngineer by profession, artist by heart | Join me for a World of Embedded System Tips and Insights | Let's Connect!\\nAlok is an excellent resource, and a master at embedded programming has been a real gem to my team. He makes sure all the deadlines meet and that also with the highest standards. He is a hardworking and dedicated person who will complete your project in a given time frame. I would recommend and endorse Alok. All the best buddy!!!\\nAarya Tadvalkar\\n· 1stFirst degree connection\\nSoftware Engineering Analyst, Goldman Sachs\\nFebruary 4, 2022, Laxmi managed Aarya directly\\nAarya is a perfect example of a skilled Data Scientist, and she brings all the abilities to the team. She is focused, reliable, and goal-oriented, which inspired our team to be more like her and always do our best. She is kind and an outstanding person and knows how to bring the best out of each team members. Wish you all the best. \\nShow all 8 given\\n\",\n",
       " '\\nPatents\\nSmart Sleep Sense System For Human Health Monitoring And Screening Using Velostat Pressure Sensor\\nIN 01731041913\\nSmart Wireless System and Method for Human Health Monitoring Using Doppler Radar\\nIN 201731038573\\n',\n",
       " '\\nCourses\\nAdvanced Computer Architecture\\nAssociated with Indian Institute of Technology, Kharagpur\\nAlgorithm Design and Analysis\\nAssociated with Indian Institute of Technology, Kharagpur\\nShow all 18 courses\\n',\n",
       " '\\nHonors & awards\\nBest Startup at IIT Kharagpur 2016-17\\nRunner-Up 24H Entrepreneurship Challenge, 2017, IISER, Pune\\nShow all 6 honors & awards\\n',\n",
       " '\\nLanguages\\nEnglish\\nProfessional working proficiency\\nHindi\\nNative or bilingual proficiency\\n',\n",
       " '\\nInterests\\nTop Voices\\nCompanies\\nGroups\\nNewsletters\\nSchools\\nSatya Nadella\\n· 3rdThird degree connection\\nChairman and CEO at Microsoft\\n11,066,295 followers\\nFollow\\nRitesh Agarwal\\n· 2ndSecond degree connection\\nOYO Founder & Group CEO | Revolutionizing Hospitality Industry\\n855,127 followers\\nFollow\\nShow all Top Voices\\nGE HealthCare\\nGE HealthCare\\n2,334,135 followers\\nFollow\\nAccenture\\nAccenture\\n12,611,980 followers\\nFollow\\nShow all companies\\nTech Startup CEOs & Investors: Artificial Intelligence, Machine Learning, FinTech, SaaS, ChatGPT\\n1,196,483 members\\nJoin\\nArtificial Intelligence, Machine Learning, Data Science & Robotics\\n2,999,817 members\\nJoin\\nShow all groups\\nEvolution of Tech Education\\nArticle and essays on technology, education, career growth and entrepreneurship. \\nPublished weekly\\nAbhimanyu Saxena\\nSubscribe\\nIndian Institute of Technology, Kharagpur\\n236,779 followers\\nFollowing\\nSamsung R&D Institute India\\n41,308 followers\\nFollow\\n',\n",
       " '\\nCauses\\nEducation • Environment • Health • Science and Technology\\n']"
      ]
     },
     "execution_count": 38,
     "metadata": {},
     "output_type": "execute_result"
    }
   ],
   "source": [
    "sections_text"
   ]
  },
  {
   "cell_type": "markdown",
   "metadata": {},
   "source": [
    "### Profile Data Parsing using LLM"
   ]
  },
  {
   "cell_type": "code",
   "execution_count": 60,
   "metadata": {},
   "outputs": [],
   "source": [
    "from langchain_ollama import ChatOllama\n",
    "\n",
    "from langchain_core.prompts import (SystemMessagePromptTemplate, \n",
    "                                    HumanMessagePromptTemplate,\n",
    "                                    ChatPromptTemplate)\n",
    "\n",
    "\n",
    "\n",
    "from langchain_core.output_parsers import StrOutputParser\n",
    "\n",
    "base_url = \"http://localhost:11434\"\n",
    "# model = 'llama3.2:3b'\n",
    "model = \"qwen2.5:7b\"\n",
    "\n",
    "llm = ChatOllama(base_url=base_url, model=model)\n",
    "\n",
    "\n",
    "system = SystemMessagePromptTemplate.from_template(\"\"\"You are helpful AI assistant who answer LinkedIn profile parsing related \n",
    "                                                    user question based on the provided profile text data.\"\"\")\n",
    "\n",
    "def ask_llm(prompt):\n",
    "    prompt = HumanMessagePromptTemplate.from_template(prompt)\n",
    "\n",
    "    messages = [system, prompt]\n",
    "    template = ChatPromptTemplate(messages)\n",
    "\n",
    "    qna_chain = template | llm | StrOutputParser()\n",
    "\n",
    "    return qna_chain.invoke({})"
   ]
  },
  {
   "cell_type": "code",
   "execution_count": 61,
   "metadata": {},
   "outputs": [
    {
     "data": {
      "text/plain": [
       "ChatOllama(model='qwen2.5:7b', base_url='http://localhost:11434')"
      ]
     },
     "execution_count": 61,
     "metadata": {},
     "output_type": "execute_result"
    }
   ],
   "source": [
    "llm"
   ]
  },
  {
   "cell_type": "code",
   "execution_count": 62,
   "metadata": {},
   "outputs": [
    {
     "data": {
      "text/plain": [
       "'Hello! How can I assist you with parsing or analyzing a LinkedIn profile? Please provide the relevant profile text data so I can help you specifically.'"
      ]
     },
     "execution_count": 62,
     "metadata": {},
     "output_type": "execute_result"
    }
   ],
   "source": [
    "ask_llm(\"hello\")"
   ]
  },
  {
   "cell_type": "code",
   "execution_count": 47,
   "metadata": {},
   "outputs": [],
   "source": [
    "template = \"\"\"\n",
    "Extract and return the requested information from the LinkedIn profile data in a concise, point-by-point format (up to 5 points). Avoid preambles or any additional context.\n",
    "\n",
    "### LinkedIn Profile Data:\n",
    "{}\n",
    "\n",
    "### Information to Extract:\n",
    "Extract '{}' in bullet points, limiting the output to 5 points. Provide only the necessary details.\n",
    "Remember, It is LinkedIn profile data.\n",
    "\n",
    "### Extracted Data:\"\"\"\n",
    "\n",
    "context = sections_text[0]\n",
    "k = \"Name and Headline\"\n",
    "\n",
    "prompt = template.format(context, k)\n",
    "response = ask_llm(prompt)"
   ]
  },
  {
   "cell_type": "code",
   "execution_count": 48,
   "metadata": {},
   "outputs": [
    {
     "name": "stdout",
     "output_type": "stream",
     "text": [
      "• Laxmi Kant \n",
      "• Gen AI in Finance & Investment Services\n",
      "• IIT Kharagpur\n",
      "• Mumbai, Maharashtra, India\n",
      "• 26,723 followers\n"
     ]
    }
   ],
   "source": [
    "print(response)"
   ]
  },
  {
   "cell_type": "code",
   "execution_count": 59,
   "metadata": {},
   "outputs": [
    {
     "data": {
      "text/plain": [
       "['Name and Headline',\n",
       " 'Highlights',\n",
       " 'About',\n",
       " 'Featured',\n",
       " 'Activity',\n",
       " 'Experience',\n",
       " 'Education',\n",
       " 'Licenses & certifications',\n",
       " 'Projects',\n",
       " 'Skills',\n",
       " 'Recommendations',\n",
       " 'Patents',\n",
       " 'Courses',\n",
       " 'Honors & awards',\n",
       " 'Languages',\n",
       " 'Interests',\n",
       " 'Causes']"
      ]
     },
     "execution_count": 59,
     "metadata": {},
     "output_type": "execute_result"
    }
   ],
   "source": [
    "section_keys = ['Name and Headline']\n",
    "for section in sections_text[1:]:\n",
    "    # print(section.strip().split('\\n'))\n",
    "    section_keys.append(section.strip().split('\\n')[0])\n",
    "\n",
    "section_keys"
   ]
  },
  {
   "cell_type": "code",
   "execution_count": 63,
   "metadata": {},
   "outputs": [],
   "source": [
    "# sections_text\n",
    "responses = {}\n",
    "\n",
    "for k,context in zip(section_keys, sections_text):\n",
    "    prompt = template.format(context, k)\n",
    "    response = ask_llm(prompt=prompt)\n",
    "    responses[k] = response"
   ]
  },
  {
   "cell_type": "code",
   "execution_count": 64,
   "metadata": {},
   "outputs": [
    {
     "name": "stdout",
     "output_type": "stream",
     "text": [
      "{'Name and Headline': '- Name: Laxmi Kant\\n- Headline: 1st degree connection | Gen AI in Finance & Investment Services | Data Scientist | IIT Kharagpur | Asset Management | AI-Driven Financial Modeling | Search Ranking | NLP Python BERT AWS Elasticsearch GNN SQL LLM | AI in Investment Strategies', 'Highlights': '- Laxmi Kant has viewed your profile\\n- Curious about who else viewed your profile? Unlock for more opportunities.\\n- See all profile views', 'About': '- Demonstrated 8+ years of expertise in advanced analytics as an AVP in Data Science.\\n- Strategically led impactful initiatives in Customer Behavior Modeling, resulting in a substantial 30% increase in customer retention and a 10% reduction in advertising spending.\\n- Pioneered the development and implementation of a Machine Learning product relevance ranking system, contributing to a remarkable 30% increase in conversion rates and a 20% growth in revenue.\\n- Applied innovative techniques, including Social Graph Analytics and Predictive Modeling, achieving a 35% improvement in recommendation conversion rates and a 40% increase in customer care calling conversion rates.\\n- Revolutionized customer segmentation and ranking, realizing a notable 20% improvement in conversion rates.', 'Featured': '- Deploy LLM App with Ollama and Langchain in Production\\n- Build Private AI Chatbots and deploy them on AWS. Master Langchain v0.3, Ollama, LLAMA, FAISS, Prompt Engineering and RAG.\\n- Fine-tuning techniques for BERT variants (Phi2, LLAMA, T5, BERT, DistilBERT, MobileBERT, TinyBERT)\\n- Knowledge distillation with advanced models like RoBERTa, ALBERT, XLNet, and Vision Transformers\\n- Python for Deep Learning and Artificial Intelligence', 'Activity': '- 26,723 followers\\n- 12h12h: Deploy Langchain with Ollama is Out!!!\\n- 6d6d: Machine learning interview question #5\\n- 1w1w: Machine Learning Interview Questions #4', 'Experience': '- Developed SleepDoc, an Android application that uses FMCW RADAR for measuring respiration and heart rate with 99% accuracy using state-of-the-art ML algorithms (SVM, RF, CNN, LSTM, CNN-LSTM, Inception).\\n- Trained deep learning models on Google Cloud Platform (GCP) with TensorFlow-GPU.\\n- Successfully achieved kernel changes in Android OS to read data on Qualcomm’s Snapdragon processor using SPI, I2C, and UART.\\n- Interfaced Java and custom C-Language modules in Android 6.0.\\n- Designed an email marketing software for SleepDoc using AWS Boto3 Python, AWS SES, SNS, SQS, AWS Lambda, DynamoDB, and PyQt5.', 'Education': '- Indian Institute of Technology, Kharagpur - Senior Research Scholar, Computer Science (2014 - 2016)\\n- Indian Institute of Technology, Kharagpur - Master of Technology (M.Tech.), Computer Science (2012 - 2014)', 'Licenses & certifications': '- Product Analytics Micro Certificate from Product School (Issued Jan 2024)\\n- Data Analytics and Product Management (Issued Jan 2024)\\n- Accenture Innovation Award (Issued Nov 2017)', 'Projects': '- Smart Sleep Sense: An Unobtrusive and IoT Enabled Wireless Sleep Monitoring System (May 2015 - Present)\\n- Optimized Fixed Point Kalman Filter Implementation on Embedded Hardware (Aug 2013 - Apr 2014)', 'Skills': '- MLOps\\n- Large Language Models (LLM)', 'Recommendations': '- Recommendations from Laxmi are displayed here.\\n- Alok Mishra recommends and endorses Laxmi.\\n- Aarya Tadvalkar also recommends Laxmi.', 'Patents': '- Smart Sleep Sense System For Human Health Monitoring And Screening Using Velostat Pressure Sensor (IN 01731041913)\\n- Smart Wireless System and Method for Human Health Monitoring Using Doppler Radar (IN 201731038573)', 'Courses': '- Advanced Computer Architecture, associated with Indian Institute of Technology, Kharagpur\\n- Algorithm Design and Analysis, associated with Indian Institute of Technology, Kharagpur', 'Honors & awards': '- Best Startup at IIT Kharagpur 2016-17\\n- Runner-Up 24H Entrepreneurship Challenge, 2017, IISER, Pune', 'Languages': '- Languages: English (Professional working proficiency)\\n- Languages: Hindi (Native or bilingual proficiency)', 'Interests': '- Tech Startup CEOs & Investors: Artificial Intelligence, Machine Learning, FinTech, SaaS, ChatGPT\\n- Artificial Intelligence, Machine Learning, Data Science & Robotics\\n- Evolution of Tech Education\\n- Technology, education, career growth, and entrepreneurship\\n- None specified for general interests', 'Causes': '- Environment\\n- Education\\n- Health\\n- Science and Technology'}\n"
     ]
    }
   ],
   "source": [
    "print(responses)"
   ]
  },
  {
   "cell_type": "code",
   "execution_count": 65,
   "metadata": {},
   "outputs": [],
   "source": [
    "import json\n",
    "\n",
    "with open('linkedin_profile_data.json', 'w') as f:\n",
    "    json.dump(responses, f, indent=4)"
   ]
  },
  {
   "cell_type": "markdown",
   "metadata": {},
   "source": [
    "### Second Level of LLM Call"
   ]
  },
  {
   "cell_type": "code",
   "execution_count": 66,
   "metadata": {},
   "outputs": [],
   "source": [
    "template = \"\"\"You are provided with LinkedIn profile data in JSON format.\n",
    "            Parse the data according to the specified schema, correct any spelling errors,\n",
    "            and condense the information if possible.\n",
    "\n",
    "### LinkedIn Profile JSON Data:\n",
    "{context}\n",
    "\n",
    "### Schema You need to follow:\n",
    "You need to extract\n",
    "Name:\n",
    "Headline:\n",
    "About:\n",
    "Experience:\n",
    "Education:\n",
    "Skills:\n",
    "Projects:\n",
    "Summary:\n",
    "\n",
    "Do not return preambles or any other information.\n",
    "### Parsed Data:\"\"\"\n",
    "\n",
    "prompt = template.format(context=responses).replace(\"{\", \"{{\").replace(\"}\", \"}}\")\n",
    "response = ask_llm(prompt=prompt)\n",
    "# response"
   ]
  },
  {
   "cell_type": "code",
   "execution_count": 67,
   "metadata": {},
   "outputs": [
    {
     "name": "stdout",
     "output_type": "stream",
     "text": [
      "Name: Laxmi Kant\n",
      "\n",
      "Headline: 1st degree connection | Gen AI in Finance & Investment Services | Data Scientist | IIT Kharagpur | Asset Management | AI-Driven Financial Modeling | Search Ranking | NLP Python BERT AWS Elasticsearch GNN SQL LLM | AI in Investment Strategies\n",
      "\n",
      "About: Demonstrated 8+ years of expertise in advanced analytics as an AVP in Data Science. Strategically led impactful initiatives in Customer Behavior Modeling, resulting in a substantial 30% increase in customer retention and a 10% reduction in advertising spending. Pioneered the development and implementation of a Machine Learning product relevance ranking system, contributing to a remarkable 30% increase in conversion rates and a 20% growth in revenue. Applied innovative techniques, including Social Graph Analytics and Predictive Modeling, achieving a 35% improvement in recommendation conversion rates and a 40% increase in customer care calling conversion rates. Revolutionized customer segmentation and ranking, realizing a notable 20% improvement in conversion rates.\n",
      "\n",
      "Experience: Developed SleepDoc, an Android application that uses FMCW RADAR for measuring respiration and heart rate with 99% accuracy using state-of-the-art ML algorithms (SVM, RF, CNN, LSTM, CNN-LSTM, Inception). Trained deep learning models on Google Cloud Platform (GCP) with TensorFlow-GPU. Successfully achieved kernel changes in Android OS to read data on Qualcomm’s Snapdragon processor using SPI, I2C, and UART. Interfaced Java and custom C-Language modules in Android 6.0. Designed an email marketing software for SleepDoc using AWS Boto3 Python, AWS SES, SNS, SQS, AWS Lambda, DynamoDB, and PyQt5.\n",
      "\n",
      "Education: Indian Institute of Technology, Kharagpur - Senior Research Scholar, Computer Science (2014 - 2016)\n",
      "Indian Institute of Technology, Kharagpur - Master of Technology (M.Tech.), Computer Science (2012 - 2014)\n",
      "\n",
      "Skills: MLOps, Large Language Models (LLM)\n",
      "\n",
      "Projects: Smart Sleep Sense: An Unobtrusive and IoT Enabled Wireless Sleep Monitoring System (May 2015 - Present)\n",
      "Optimized Fixed Point Kalman Filter Implementation on Embedded Hardware (Aug 2013 - Apr 2014)\n",
      "\n",
      "Summary: Laxmi Kant is a seasoned Data Scientist with 8+ years of experience in advanced analytics. He has led impactful initiatives in Customer Behavior Modeling and developed Machine Learning systems that have significantly increased conversion rates and revenue. With expertise in AI, ML, and data science, Laxmi has also ventured into developing IoT solutions for health monitoring.\n"
     ]
    }
   ],
   "source": [
    "print(response)"
   ]
  },
  {
   "cell_type": "code",
   "execution_count": null,
   "metadata": {},
   "outputs": [],
   "source": []
  },
  {
   "cell_type": "code",
   "execution_count": null,
   "metadata": {},
   "outputs": [],
   "source": []
  }
 ],
 "metadata": {
  "kernelspec": {
   "display_name": "ml",
   "language": "python",
   "name": "python3"
  },
  "language_info": {
   "codemirror_mode": {
    "name": "ipython",
    "version": 3
   },
   "file_extension": ".py",
   "mimetype": "text/x-python",
   "name": "python",
   "nbconvert_exporter": "python",
   "pygments_lexer": "ipython3",
   "version": "3.12.4"
  }
 },
 "nbformat": 4,
 "nbformat_minor": 2
}
