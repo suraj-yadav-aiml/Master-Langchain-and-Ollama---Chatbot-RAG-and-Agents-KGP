{
 "cells": [
  {
   "cell_type": "markdown",
   "metadata": {},
   "source": [
    "## PDF Document Loaders\n",
    "- Load various kind of documents from the web and local files.\n",
    "- Apply LLM to the documents for summarization and question answering."
   ]
  },
  {
   "cell_type": "markdown",
   "metadata": {
    "vscode": {
     "languageId": "plaintext"
    }
   },
   "source": [
    "### Project 1: Question Answering from PDF Document\n",
    "- We will load the document from the local file and apply LLM to answer the questions.\n",
    "- Lets use research paper published on the missuse of the health supplements for workout. "
   ]
  },
  {
   "cell_type": "markdown",
   "metadata": {
    "vscode": {
     "languageId": "plaintext"
    }
   },
   "source": [
    "rag-dataset: git@github.com:laxmimerit/rag-dataset.git\n",
    "\n",
    "```bash\n",
    "git clone git@github.com:laxmimerit/rag-dataset.git\n",
    "```"
   ]
  },
  {
   "cell_type": "markdown",
   "metadata": {
    "vscode": {
     "languageId": "plaintext"
    }
   },
   "source": [
    "***"
   ]
  },
  {
   "cell_type": "code",
   "execution_count": null,
   "metadata": {},
   "outputs": [
    {
     "name": "stderr",
     "output_type": "stream",
     "text": [
      "Cloning into 'rag-dataset'...\n"
     ]
    }
   ],
   "source": [
    "# !git clone https://github.com/laxmimerit/rag-dataset.git"
   ]
  },
  {
   "cell_type": "markdown",
   "metadata": {},
   "source": [
    "***"
   ]
  },
  {
   "cell_type": "code",
   "execution_count": null,
   "metadata": {},
   "outputs": [
    {
     "name": "stdout",
     "output_type": "stream",
     "text": [
      "Requirement already satisfied: pymupdf in c:\\users\\admin\\anaconda3\\envs\\krishgenai\\lib\\site-packages (1.24.9)\n",
      "Requirement already satisfied: tiktoken in c:\\users\\admin\\anaconda3\\envs\\krishgenai\\lib\\site-packages (0.7.0)\n",
      "Requirement already satisfied: PyMuPDFb==1.24.9 in c:\\users\\admin\\anaconda3\\envs\\krishgenai\\lib\\site-packages (from pymupdf) (1.24.9)\n",
      "Requirement already satisfied: regex>=2022.1.18 in c:\\users\\admin\\anaconda3\\envs\\krishgenai\\lib\\site-packages (from tiktoken) (2024.11.6)\n",
      "Requirement already satisfied: requests>=2.26.0 in c:\\users\\admin\\anaconda3\\envs\\krishgenai\\lib\\site-packages (from tiktoken) (2.32.3)\n",
      "Requirement already satisfied: charset-normalizer<4,>=2 in c:\\users\\admin\\anaconda3\\envs\\krishgenai\\lib\\site-packages (from requests>=2.26.0->tiktoken) (3.3.2)\n",
      "Requirement already satisfied: idna<4,>=2.5 in c:\\users\\admin\\anaconda3\\envs\\krishgenai\\lib\\site-packages (from requests>=2.26.0->tiktoken) (3.7)\n",
      "Requirement already satisfied: urllib3<3,>=1.21.1 in c:\\users\\admin\\anaconda3\\envs\\krishgenai\\lib\\site-packages (from requests>=2.26.0->tiktoken) (2.2.2)\n",
      "Requirement already satisfied: certifi>=2017.4.17 in c:\\users\\admin\\anaconda3\\envs\\krishgenai\\lib\\site-packages (from requests>=2.26.0->tiktoken) (2024.7.4)\n"
     ]
    }
   ],
   "source": [
    "# !pip install pymupdf tiktoken "
   ]
  },
  {
   "cell_type": "markdown",
   "metadata": {},
   "source": [
    "***\n",
    "***"
   ]
  },
  {
   "cell_type": "code",
   "execution_count": 4,
   "metadata": {},
   "outputs": [
    {
     "data": {
      "text/plain": [
       "True"
      ]
     },
     "execution_count": 4,
     "metadata": {},
     "output_type": "execute_result"
    }
   ],
   "source": [
    "from dotenv import load_dotenv, find_dotenv\n",
    "load_dotenv(find_dotenv())"
   ]
  },
  {
   "cell_type": "code",
   "execution_count": 1,
   "metadata": {},
   "outputs": [],
   "source": [
    "import os\n",
    "from langchain.document_loaders import PyMuPDFLoader\n",
    "from langchain.schema import Document\n",
    "from typing import List"
   ]
  },
  {
   "cell_type": "code",
   "execution_count": 2,
   "metadata": {},
   "outputs": [],
   "source": [
    "loader = PyMuPDFLoader(file_path=\"./rag-dataset/health supplements/1. dietary supplements - for whom.pdf\")"
   ]
  },
  {
   "cell_type": "code",
   "execution_count": 3,
   "metadata": {},
   "outputs": [],
   "source": [
    "docs = loader.load()"
   ]
  },
  {
   "cell_type": "code",
   "execution_count": 4,
   "metadata": {},
   "outputs": [
    {
     "data": {
      "text/plain": [
       "[Document(metadata={'source': './rag-dataset/health supplements/1. dietary supplements - for whom.pdf', 'file_path': './rag-dataset/health supplements/1. dietary supplements - for whom.pdf', 'page': 0, 'total_pages': 17, 'format': 'PDF 1.7', 'title': '', 'author': '', 'subject': '', 'keywords': '', 'creator': '', 'producer': 'iLovePDF', 'creationDate': '', 'modDate': 'D:20241021113754Z', 'trapped': ''}, page_content='International  Journal  of\\nEnvironmental Research\\nand Public Health\\nReview\\nDietary Supplements—For Whom? The Current State of\\nKnowledge about the Health Effects of Selected\\nSupplement Use\\nRegina Ewa Wierzejska\\n\\x01\\x02\\x03\\x01\\x04\\x05\\x06\\x07\\x08\\x01\\n\\x01\\x02\\x03\\x04\\x05\\x06\\x07\\nCitation: Wierzejska, R.E. Dietary\\nSupplements—For Whom? The\\nCurrent State of Knowledge about the\\nHealth Effects of Selected Supplement\\nUse. Int. J. Environ. Res. Public Health\\n2021, 18, 8897. https://doi.org/\\n10.3390/ijerph18178897\\nAcademic Editor: Paul B. Tchounwou\\nReceived: 15 July 2021\\nAccepted: 21 August 2021\\nPublished: 24 August 2021\\nPublisher’s Note: MDPI stays neutral\\nwith regard to jurisdictional claims in\\npublished maps and institutional afﬁl-\\niations.\\nCopyright: © 2021 by the author.\\nLicensee MDPI, Basel, Switzerland.\\nThis article is an open access article\\ndistributed\\nunder\\nthe\\nterms\\nand\\nconditions of the Creative Commons\\nAttribution (CC BY) license (https://\\ncreativecommons.org/licenses/by/\\n4.0/).\\nDepartment of Nutrition and Nutritional Value of Food, National Institute of Public Health NIH—National\\nResearch Institute, Chocimska St. 24, 00-791 Warsaw, Poland; rwierzejska@pzh.gov.pl\\nAbstract: Dietary supplements are products containing nutrients sold in various medicinal forms,\\nand their widespread use may stem from the conviction that a preparation that looks like a drug\\nmust have therapeutic properties. The aim of this scoping review is to present what is known\\nabout the effects of using selected dietary supplements in the context of chronic diseases, as well\\nas the risks associated with their use. The literature shows that the taking of vitamin and mineral\\nsupplements by healthy people neither lowers their risk of cardiovascular diseases nor prevents\\nthe development of malignancies. Many scientiﬁc societies recognize that omega-3 fatty acids\\nlower blood triglycerides, but whether taking them prevents heart disease is less clear-cut. Taking\\nweight loss supplements is not an effective method of ﬁghting obesity. Often, some supplements\\nare increasingly sold illegally, which is then also associated with the higher risk that they may\\nbe adulterated with banned substances, thus making them even more dangerous and potentially\\nlife-threatening. Supplements are necessary in cases of nutrient deﬁciency; however, even though\\nprescription is not required, their use should be recommended and monitored by a physician.\\nKeywords: dietary supplements; legal regulations; health; safety\\n1. Introduction\\nIn accordance with the European Union law, as well as the United States law, dietary\\nsupplements mean products that are concentrated sources of vitamins, minerals, or other\\nsubstances with a nutritional or physiological effect (e.g., amino acids, essential fatty acids,\\nprobiotics, plants, and herbal extracts) intended to supplement the regular diet. Dietary\\nsupplements are produced in the form of capsules, tablets, pills, and other similar forms,\\ndesigned to be taken in measured small unit quantities [1,2]. Dietary supplements, despite\\ntheir route of administration and drug-like appearance, have been classiﬁed as foodstuffs\\nand not medicines. Thus, in formal terms, supplement users are consumers rather than\\npatients, but the question remains whether it is sick or healthy individuals who should\\nbe the primary users. The market for dietary supplements continues to expand at a rapid\\npace, and manufacturers develop products for health problems affecting almost all organs\\nof the body, as well as for non-existing conditions, e.g., supplements for bladder elasticity.\\nAdditionally, a growing awareness among the public about the role of nutrition in the\\nmaintenance of health, together with widespread beliefs about today’s food being poor in\\nvitamins (e.g., due to impoverished soil), are among the reasons for dietary supplement\\nuse becoming common practice or even the norm.\\nSkyrocketing sales of supplements in times of the widespread accessibility and over-\\nconsumption of a wide range of foods may be described as the “supplement use phe-\\nnomenon”. In the US, over 50% of adults declare supplement use, and in some studies\\nalmost 40% had taken dietary supplements during the previous 30 days when they were\\nquestioned [3,4]. In Poland, supplement use has been reported by 30–78% of adolescents\\nand adults [5–7] and by approximately 40% of children [8]. Only one-quarter of supplement\\nInt. J. Environ. Res. Public Health 2021, 18, 8897. https://doi.org/10.3390/ijerph18178897\\nhttps://www.mdpi.com/journal/ijerph\\n'),\n",
       " Document(metadata={'source': './rag-dataset/health supplements/1. dietary supplements - for whom.pdf', 'file_path': './rag-dataset/health supplements/1. dietary supplements - for whom.pdf', 'page': 1, 'total_pages': 17, 'format': 'PDF 1.7', 'title': '', 'author': '', 'subject': '', 'keywords': '', 'creator': '', 'producer': 'iLovePDF', 'creationDate': '', 'modDate': 'D:20241021113754Z', 'trapped': ''}, page_content='Int. J. Environ. Res. Public Health 2021, 18, 8897\\n2 of 24\\nusers take supplements recommended by their physician, meaning the overwhelming\\nmajority use dietary supplements of their own accord [9]. The primary reasons for supple-\\nment use in the United States are for overall health and wellness and to ﬁll nutrient gaps in\\nthe diet [10], while in Poland, among the elderly it is a need to boost the immune system,\\nand among younger people, use is related to improving the health and condition of skin\\nand hair [7]. Moreover, more than 40% of Poles surveyed believe that taking vitamin and\\nmineral supplements prevents diseases in healthy people, and almost 70% claim that the\\nuse of antioxidants prevents the development of cancers [11,12].\\nDue to the scale of supplement use, it is prudent to investigate whether and to what\\nextent nutrient supplementation has beneﬁcial effects and whether it lowers the risk of\\ndeveloping modern diseases. The aim of this scoping review is to present the state of\\nknowledge about the effects of using selected dietary supplements in the context of the risk\\nof developing non-communicable diseases typical of industrial societies, i.e., cardiovascular\\ndiseases, malignancies, and obesity, as well as supplements’ possible treatment-supporting\\neffects. Additionally, supplement safety, including their contamination with banned sub-\\nstances, is discussed.\\n2. Materials and Methods\\nIn view of the vast quantities of supplements of different compositions and purposes,\\nthe author chose to review published scientiﬁc research on the most frequently taken\\ndietary supplements, both in Poland and worldwide, which are primarily vitamins and\\nminerals, followed by omega-3 fatty acids [5,7,13,14]. In the case of dietary supplements\\nfor weight loss, the most used ingredients were considered, i.e., chromium, chitosan, green\\ntea extract, bitter orange, and Garcinia cambogia [15,16].\\nArticles written in English were searched in PubMed and Medline using keywords\\n(such as “dietary supplement”, “food supplement”, “vitamin–mineral preparations”, “vi-\\ntamins”, “minerals”, “omega-3 fatty acids”, “weight loss supplements”, “chromium”,\\n“chitosan”, “green tea extract”, “bitter orange” (Citrus aurantium), and “Garcinia cambogia”\\naccompanied by the names of speciﬁc diseases (cardiovascular diseases, cancers, obesity)\\nor the terms “safety” or “adulteration”. This article mainly covers publications from the\\nlast decade, including randomized placebo-controlled trials, meta-analyses of such trials,\\nand other original studies, as well as position statements by scientiﬁc societies. Due to the\\nbreadth of the issue, the literature review was limited to those studies involving adults,\\nexcluding studies on pregnant women.\\n3. Results\\n3.1. Dietary Supplements and Cardiovascular Diseases\\nFatty saltwater ﬁsh, fruit, and vegetables are the most common dietary components\\ncontributing to cardiovascular disease prevention. The literature offers conclusive evidence\\nthat a high intake of omega-3 fatty acids from ﬁsh and seafood lowers the risk of cardio-\\nvascular disease incidence and mortality [17,18] and that disease incidence is inversely\\ncorrelated with fruit and vegetable consumption [19,20].\\n3.1.1. Polyunsaturated Omega-3 Fatty Acids\\nThe beneﬁcial effect of omega-3 fatty acids, especially eicosapentaenoic acid (EPA),\\nand docosahexaenoic acid (DHA), consists in their ability to reduce triglyceride concentra-\\ntion and to lower arterial pressure, as well as to inhibit inﬂammatory process and blood\\ncell aggregation [17,21]. The well-documented importance of ﬁsh in the prevention of\\ncardiovascular diseases resulted in a speedy market reaction and release of ﬁsh oil nu-\\ntraceuticals. The question remains whether taking marine omega-3 fatty acid preparations\\nis as beneﬁcial as consuming marine omega-3 fatty acid foods and whether they may\\nbecome an alternative product for people who do not consume ﬁsh.\\nRegarding the primary prevention of cardiovascular disease, the results of two large,\\nrandomized trials from recent years should be cited ﬁrst. One of them is the British\\n'),\n",
       " Document(metadata={'source': './rag-dataset/health supplements/1. dietary supplements - for whom.pdf', 'file_path': './rag-dataset/health supplements/1. dietary supplements - for whom.pdf', 'page': 2, 'total_pages': 17, 'format': 'PDF 1.7', 'title': '', 'author': '', 'subject': '', 'keywords': '', 'creator': '', 'producer': 'iLovePDF', 'creationDate': '', 'modDate': 'D:20241021113754Z', 'trapped': ''}, page_content='Int. J. Environ. Res. Public Health 2021, 18, 8897\\n3 of 24\\nASCEND study that was conducted with a cohort of 15,480 patients (age ≥40 years)\\nwith diabetes showing no evidence of atherosclerotic cardiovascular disease, who were\\nadministered either 840 mg of marine omega-3 fatty acids or a placebo for an average of\\n7.4 years. This study showed no signiﬁcant difference in the primary endpoints (i.e., non-\\nfatal myocardial infarction, stroke, transient ischemic attack, or vascular death) or the\\nsecondary endpoints (ﬁrst serious vascular event or any arterial revascularization) between\\nthe study and control groups. The authors concluded that the results of their study did\\nnot show that omega-3 fatty acids supplementation prevents vascular events [22]. In an\\nAmerican trial, the VITAL study, conducted with a group of 25,871 healthy individuals\\naged ≥50 years, results revealed that consumption of 1 g of ﬁsh oil/day (840 mg EPA and\\nDHA) for a median of 5.3 years did not lower the risk of myocardial infarction, stroke, or\\noverall cardiovascular mortality in the study group compared with the placebo group [23].\\nStudies have also assessed omega-3 fatty acid supplementation in relation to sec-\\nondary prevention. The REDUCE-IT Clinical Trial showed that administration of highly\\npuriﬁed EPA ethyl ester (icosapent ethyl) at 4 g (2 g, twice daily) for a median of 4.9 years\\nto patients with atherosclerotic cardiovascular disease or diabetes, who have elevated\\ntriglycerides and are treated with statins, reduced the risk of cardiovascular death, non-\\nfatal myocardial infarction, non-fatal stroke, coronary revascularization, or unstable angina\\nby 25%, compared with placebo, and reduced the risk of the secondary endpoint (cardio-\\nvascular death, non-fatal myocardial infarction, or non-fatal stroke) by 26%. The authors\\nemphasized that the beneﬁts demonstrated in their study should not be transferred to all\\nomega-3 preparations, especially dietary supplements, due to the differences between the\\ncomposition of supplements compared with the preparation used in their study [24]. The\\nliterature also shows that 4 g of icosapent ethyl improves the lipid proﬁle in patients with\\nstatin intolerance [25]. Many other experts also emphasize that omega-3 fatty acids (of\\nproven quality) may be particularly beneﬁcial for statin-intolerant patients with obesity,\\ndiabetes, or metabolic syndrome in whom elevated LDL cholesterol is accompanied by\\nhigh levels of triglycerides [26].\\nHowever, the STRENGTH randomized clinical trial of 2020 did not provide optimistic\\nresults. In that study, administration of 4 g of an omega-3 preparation with increased\\nbioavailability (carboxylic acid formulation of EPA and DHA) to high cardiovascular risk\\npatients treated with statins for more than 3 years proved of no beneﬁt in terms of major\\ncardiovascular events, and this ﬁnding resulted in early termination of the study [27].\\nAs experts point out, such divergent results of single studies may result from different\\nproportions of individual fatty acids in the preparations, the doses of the preparations,\\nthe length of the study, or the varying initial concentrations of omega-3 in the blood of\\nthe patients [28].\\nTo obtain clearer data in such situations, conclusions from meta-analyses of random-\\nized controlled trials are typically used, and though these have been quite numerous in\\nthe past 10 years, their results do not provide sufﬁcient evidence to form an unambiguous\\nconclusion. The ﬁndings of three 2012 meta-analyses showed that omega-3 fatty acid\\nsupplementation did not lower the risk of myocardial infarction, stroke, cerebrovascular\\nevents, cardiovascular mortality [29,30], or cardiovascular incidents in patients with exist-\\ning cardiovascular diseases [31]. A meta-analysis published one year later revealed that\\nsupplementation with omega-3 fatty acids reduced the risk of myocardial infarction by\\n25% and the risk of cardiac death by 32% in patients with cardiovascular diseases [32],\\nwhile a meta-analysis published in 2014 reported a 12% reduction in death from cardiac\\ncauses in patients with coronary heart disease who took omega-3 fatty acids [33]. In turn,\\na 2018 meta-analysis of randomized studies of omega-3 fatty acids taken, showed no\\neffects on non-fatal myocardial infarction, coronary heart disease events, or major vas-\\ncular events [34], a ﬁnding that is consistent with another 2018 meta-analysis that also\\nshowed no relationship between omega-3 fatty acids consumption and lowered risk of\\ncardiovascular disorders [35]. In contrast, the results of one of two 2019 meta-analyses of\\nrandomized clinical trials showed that taking omega-3 fatty acids reduced the risk of major\\n'),\n",
       " Document(metadata={'source': './rag-dataset/health supplements/1. dietary supplements - for whom.pdf', 'file_path': './rag-dataset/health supplements/1. dietary supplements - for whom.pdf', 'page': 3, 'total_pages': 17, 'format': 'PDF 1.7', 'title': '', 'author': '', 'subject': '', 'keywords': '', 'creator': '', 'producer': 'iLovePDF', 'creationDate': '', 'modDate': 'D:20241021113754Z', 'trapped': ''}, page_content='Int. J. Environ. Res. Public Health 2021, 18, 8897\\n4 of 24\\nvascular events by 5%, non-fatal myocardial infarction by 11%, and death by coronary\\nheart disease by 9% [36]. The second 2019 meta-analysis of the studies, from which the\\nREDUCE-IT study was excluded because of the comparatively high level of its omega-3\\ndose, showed that omega-3 supplementation was associated with lower risk of myocardial\\ninfarction by 8%, total coronary heart disease by 5%, coronary heart disease death by 8%,\\nand cardiovascular death by 7% [37]. Further evidence of the beneﬁcial effect of omega-3\\nfatty acids in reducing cardiovascular risk is also found in the results of two meta-analyses\\nfrom 2020 [38,39], although there was also an associated higher risk of bleeding events and\\natrial ﬁbrillation events in some instances [39].\\nAgainst the background of the current state of scientiﬁc knowledge, what are the posi-\\ntions of the scientiﬁc societies responsible for recommendations to the medical community?\\nThe International Lipid Expert Panel (ILEP) stated in 2017 that omega-3 fatty acids are\\nproven to lower triglycerides (scientiﬁc evidence: class I, level A) [40,41] and added to this\\nview in 2020 by indicating the need for EPA and DHA supplementation in heart failure,\\nespecially in patients after myocardial infarction [42]. According to the ILEP, omega-3 fatty\\nacids in doses of 1–4 g daily reduce triglyceride levels by 18–25% [40]. The European Society\\nof Cardiology (ESC) and the European Atherosclerosis Society (EAS) both state that doses\\nof 2–3 g reduce triglyceride levels by about 30% [43]. The European Society of Cardiology\\nand other societies on cardiovascular disease prevention in clinical practice, as of 2019, did\\nnot recommend omega-3 fatty acid supplementation for cardiovascular diseases prevention\\ndue to the lack of reliable proof of its beneﬁcial effects [20]. Meanwhile, the 2019 American\\nCollege of Cardiology/American Heart Association guideline on the primary prevention\\nof cardiovascular disease makes no mention of omega-3 fatty acids [44], which should\\nbe understood as a lack of support for their use. The American Heart Association stated\\nin 2017 that supplementation of omega-3 fatty acids would be beneﬁcial in patients with\\ncoronary heart disease (CHD), including those after heart attack, as it may lower the risk of\\nCHD-related mortality by 10% [45].\\nIn conclusion, research ﬁndings on the impact of omega-3 fatty acid supplementa-\\ntion on the risks or beneﬁts in relation to the treatment of cardiovascular diseases vary\\nsigniﬁcantly. However, there are many indications that taking omega-3 fatty acid prepa-\\nrations by healthy people do not have such beneﬁcial effects as eating the same fats in\\nﬁsh. Therefore, consumption of omega-3 capsules does not offer an easy way to improve\\nnutrition and, apparently, cannot serve as a substitute for ﬁsh and seafoods in the diet.\\nImportantly, recent years have brought a growing number of reports about low-quality\\nﬁsh oil supplements [46], which according to various authors are nowhere near as good as\\npreparations registered as medicines [47]. In New Zealand, as many as 83% of supplements\\ncontaining ﬁsh oils were shown to exceed permissible levels of peroxides, which are an\\nindicator of fat deterioration [48]; similarly, in the US, oxidized fatty acids, cholesterol, and\\ntoxins were found in many omega-3 supplements [49]. In Poland, there is a wide range\\nof supplement products on the market containing omega-3 fatty acids and, as is the case\\nthroughout the European Union, there is no legal requirement for standardization of such\\npreparations regarding individual fatty acids content [21]. Currently, however, there are no\\ndata on the contamination of such preparations in Poland.\\n3.1.2. Vitamins and Minerals\\nVitamins and minerals are essential substances that our bodies need for optimal\\nfunctioning. As there is a considerable selection of vitamin and mineral supplements, it\\nseems prudent to consider whether they bring any beneﬁts in terms of cardiovascular\\ndisease prevention. As far as arterial hypertension is concerned, a prospective study by\\nRautiainen et al. [50] found no relationship between vitamin supplementation and the risk\\nof developing hypertension in healthy women. Wang et al. [51], who investigated obese\\nwomen with increased cardiovascular disease risk in a randomized study, reported that a\\n26-week supplementation with a vitamin–mineral preparation signiﬁcantly lowered blood\\npressure compared with the placebo given to the control group.\\n'),\n",
       " Document(metadata={'source': './rag-dataset/health supplements/1. dietary supplements - for whom.pdf', 'file_path': './rag-dataset/health supplements/1. dietary supplements - for whom.pdf', 'page': 4, 'total_pages': 17, 'format': 'PDF 1.7', 'title': '', 'author': '', 'subject': '', 'keywords': '', 'creator': '', 'producer': 'iLovePDF', 'creationDate': '', 'modDate': 'D:20241021113754Z', 'trapped': ''}, page_content='Int. J. Environ. Res. Public Health 2021, 18, 8897\\n5 of 24\\nThe authors of the 2018 meta-analysis of randomized studies concluded that vitamin–\\nmineral supplementation does not lower the risk of developing hypertension but, at the\\nsame time, suggested that such preparations may have a beneﬁcial effect in subjects with\\nhypertension [52]. The beneﬁts of potassium supplementation have been extensively docu-\\nmented. Experts believe that potassium supplementation in patients with hypertension\\nsupports treatment and may be recommended [53,54].\\nAs for other endpoints of studies on vitamins and minerals intake and cardiovascular\\ndiseases, Park et al. [55] conducted a study in over 180,000 people in the US and found\\nthat multivitamin preparations do not inversely correlate with cardiovascular mortality.\\nAdditionally, a randomized study in the US with more than 14,000 physicians reported\\nno positive effects of supplementation, either with single-preparation vitamin C, E, and\\nbeta-carotene or multivitamin preparation, with regard to cardiovascular incidents in either\\nhealthy subjects or individuals with cardiovascular disease [56]. Randomized trials also\\ndo not reveal the beneﬁts of B vitamins (folic acid, vitamins B6, and B12) supplementation\\nin patients with pre-existing cardiovascular disease. Equally, in the study by Albert et al.\\nand Galan et al., no signiﬁcant effect on the risk of major cardiovascular events was\\nfound [57,58]. However, it should be mentioned that optimistic results were obtained in a\\nChinese study of taking enalapril (a drug for treating high blood pressure) in combination\\nwith folic acid. In this large randomized study, conducted among adults with hypertension\\nwithout a history of stroke or myocardial infarction, the combined use of enalapril and\\nfolic acid (0.8 mg/day), compared with enalapril alone, reduced the risk of the ﬁrst stroke\\nby 21% and the risk of composite cardiovascular events by 20% [59].\\nA meta-analysis of clinical trials and prospective cohort studies reported no relation-\\nship between vitamin–mineral supplementation and the incidence of stroke and the risk of\\ncardiovascular mortality in the general population [60]. An umbrella review of 2019 [61]\\nalso found no effect of vitamin preparations on the development of cardiovascular diseases\\nand cardiovascular mortality. For years, the US Preventive Services Task Force panel of\\nexperts has not been recommending vitamin–mineral supplementation for cardiovascular\\ndisease prevention in people without conﬁrmed insufﬁciency [62,63].\\n3.1.3. Antioxidants\\nAlthough no universal deﬁnition of antioxidants exists in the literature, it is believed\\nthat they are compounds that donate one of their electrons or hydrogen to free radicals,\\nstopping their chain reaction [64]. Some vitamins and minerals (vitamins A, C, E, beta-\\ncarotene, selenium, and zinc) are classiﬁed as antioxidants and are a subcategory of dietary\\nsupplements [65]. Antioxidants prevent the negative effects of free radicals, inhibit the\\noxidative process, and reduce inﬂammation in the body. The deﬁciency of these nutrients\\nin the body may increase the risk of developing a variety of conditions, including cardio-\\nvascular diseases [52,66]. Antioxidant supplementation has been extensively researched,\\nbut the ﬁndings remain inconclusive, especially in the case of vitamin E [13,67,68].\\nIn a study by Lee et al. [69], daily supplementation with 600 IU of vitamin E by\\nhealthy women for 10 years did not alter the incidence of myocardial infarction and\\nstroke as compared with the study’s control group taking placebos, but it did lower the\\nrisk of cardiovascular mortality by 24%. Lonn et al., [70] not only found that vitamin\\nE supplementation (400 IU/day for a median of 7 years) failed to reduce the risk of\\ncardiovascular incidence in affected individuals but also found that it increased the risk of\\nheart failure by 13%. The results of a recently published Mendelian randomization study\\nindicated that genetically conditioned higher blood concentrations of vitamin E elevated\\nthe concentrations of LDL cholesterol and triglycerides, decreased HDL concentration, and\\nincreased the risk of coronary artery disease [71].\\nThe results of several meta-analyses of randomized studies published over the years\\nalso remain inconclusive. In a 2003 meta-analysis of multiple studies, vitamin E (50–800 IU)\\nadministered for 1.4–12 years was shown to have no beneﬁcial effect on cardiovascular\\nmortality rates, and its routine use was not recommended [72]. A meta-analysis published\\n'),\n",
       " Document(metadata={'source': './rag-dataset/health supplements/1. dietary supplements - for whom.pdf', 'file_path': './rag-dataset/health supplements/1. dietary supplements - for whom.pdf', 'page': 5, 'total_pages': 17, 'format': 'PDF 1.7', 'title': '', 'author': '', 'subject': '', 'keywords': '', 'creator': '', 'producer': 'iLovePDF', 'creationDate': '', 'modDate': 'D:20241021113754Z', 'trapped': ''}, page_content='Int. J. Environ. Res. Public Health 2021, 18, 8897\\n6 of 24\\nin 2015 concluded that vitamin E supplementation reduces the risk of cardiac infarction,\\nbut the effect is negated when it is administered together with other antioxidants [73]. Yet\\nanother meta-analysis from 2017 reported beneﬁcial effects of single-preparation vitamin\\nE—namely, a 12% reduction of the risk of cardiovascular mortality. However, the authors\\nfound no justiﬁcation for administration of other antioxidants, i.e., vitamin C, selenium,\\nand zinc [13]. The International Lipid Expert Panel believes that current research results\\ndo not show any beneﬁts of vitamin E supplementation in the prevention or treatment of\\nheart failure, and they draw a similar conclusion for vitamin C [40].\\nFindings regarding beta-carotene are less optimistic. According to a meta-analysis of\\nrandomized studies, beta-carotene at a dose of 15–50 mg for 1.4–12 years has led to a slight\\nbut statistically signiﬁcant increase in cardiovascular mortality [72]. The US Preventive\\nServices Task Force panel of experts also opposes the use of both beta-carotene and vitamin\\nE in cardiovascular disease prevention [74]. The most radical position on antioxidant\\nsupplementation has been taken by the authors of the “Enough is enough: Stop wasting\\nmoney on vitamin and mineral supplements”, who claim that a sufﬁcient number of studies\\nhave demonstrated the lack of beneﬁts of vitamin–mineral supplementation to warrant\\nceasing any further research on their effectiveness [75].\\nIn summary, based on the available literature, it seems safe to conclude that supple-\\nmentation with vitamin–mineral preparations whose intake exceeds the needs of the body\\nis not a recommended method of cardiovascular disease prevention. Table 1 summarizes\\nthe studies included in this paper, showing relationships between dietary supplement use\\nand cardiovascular health.\\nTable 1. Characteristic of studies evaluating the effect of selected dietary supplements on cardiovascular diseases.\\nAuthors\\nStudy Design\\nParticipants\\nType of Dietary\\nSupplements\\nDuration of the\\nStudy\\nResults\\nThe ASCEND Study\\nCollaborative Group\\n2018 [22]\\nRCT\\n15,480 patients with\\ndiabetes aged\\n≥40 years\\nOmega-3 fatty\\nacids\\nMean: 7.4 years\\nNo effect on serious\\nvascular events\\nManson et al., 2019 [23]\\nRCT\\n25,871 patients aged\\n≥50 years\\nOmega-3 fatty\\nacids\\nMedian: 5.3 years\\nNo effect on\\ncardiovascular events\\nBhatt et al., 2019 [24]\\nRCT\\n8179 patients with\\ncardiovascular\\ndiseases or diabetes,\\nmedian age: 64 years\\nPuriﬁed EPA ethyl\\nester (icosapent\\nethyl)\\nMedian: 4.9 years\\n25% reduction in primary\\nendpoints: cardiovascular\\ndeath, non-fatal MI,\\nnon-fatal stroke, coronary\\nrevascularization,\\nunstable angina;\\n26% reduction in\\nsecondary endpoints:\\ncardiovascular death,\\nnon-fatal MI,\\nnon-fatal stroke\\nNicholls et al., 2020 [27]\\nRCT\\n13,078 patients with\\nhigh cardiovascular\\nrisk, mean age:\\n62.5 years\\nOmega-3 fatty\\nacids\\nOver 3 years\\nNo effect on major\\ncardiovascular events\\nRizos et al., 2012 [29]\\nSystematic review\\nand meta-analysis,\\n20 RCTs\\n68,680 patients aged\\n49–70 years\\nOmega-3 fatty\\nacids\\nMedian: 2.0 years\\nNo effect on cardiac\\ndeath, MI, and stroke\\nKotwal et al., 2012 [30]\\nMeta-analysis,\\n20 RCTs\\n62,851 patients in\\nprimary and\\nsecondary prevention\\nsettings\\nOmega-3 fatty\\nacids\\n6 months–6 years\\n14% reduction in vascular\\ndeath;\\nno effect on\\ncardiovascular events,\\ncoronary events,\\ncerebrovascular\\nevents, arrhythmia\\n'),\n",
       " Document(metadata={'source': './rag-dataset/health supplements/1. dietary supplements - for whom.pdf', 'file_path': './rag-dataset/health supplements/1. dietary supplements - for whom.pdf', 'page': 6, 'total_pages': 17, 'format': 'PDF 1.7', 'title': '', 'author': '', 'subject': '', 'keywords': '', 'creator': '', 'producer': 'iLovePDF', 'creationDate': '', 'modDate': 'D:20241021113754Z', 'trapped': ''}, page_content='Int. J. Environ. Res. Public Health 2021, 18, 8897\\n7 of 24\\nTable 1. Cont.\\nAuthors\\nStudy Design\\nParticipants\\nType of Dietary\\nSupplements\\nDuration of the\\nStudy\\nResults\\nKwak et al., 2012 [31]\\nMeta-analysis,\\n14 RCTs\\n20,485 patients with\\ncardiovascular\\ndiseases aged\\n40–80 years\\nOmega-3 fatty\\nacids\\n1.0–4.7 years\\nNo effect on\\ncardiovascular events,\\nMI, congestive heart\\nfailure, and stroke\\nCasula et al., 2013 [32]\\nMeta-analysis,\\n11 RCTs\\n15,348 patients with\\ncardiovascular\\ndiseases\\nOmega-3 fatty\\nacids\\n1.0–3.5 years\\n32% reduction in cardiac\\ndeath,\\n25% reduction in MI;\\nno effect on stroke\\nWen et al., 2014 [33]\\nMeta-analysis,\\n14 RCTs\\n32,656 patients with\\nCHD\\nOmega-3 fatty\\nacids\\n<3\\nmonths–4.6 years\\n12% reduction in death\\nfrom cardiac causes, 14%\\nreduction in sudden\\ncardiac death\\nAbdelhamid et al.,\\n2018 [35]\\nMeta-analysis,\\n79 RCTs\\n112,059 adults in\\nprimary and\\nsecondary prevention\\nsettings\\nOmega-3 fatty\\nacids\\n12–72 months\\nLittle or no effect on\\ncardiovascular mortality,\\nCHD mortality,\\ncardiovascular events,\\nstroke, arrhythmia\\nAung et al., 2018 [34]\\nMeta-analysis,\\n10 RCTs\\n77,917 high-risk\\npatients\\nOmega-3 fatty\\nacids\\n1.0–6.2 years\\nNo effect on CHD\\nmortality, non-fatal MI,\\nCHD events, major\\nvascular events\\nMazidi et al., 2019 [36]\\nMeta-analysis,\\n13 RCTs\\n127,447 patients\\nOmega-3 fatty\\nacids\\nNo data\\n9% reduction in CHD\\ndeath, 5% reduction in\\nmajor vascular event, 11%\\nreduction in non-fatal MI,\\n5% reduction in all-cause\\nmortality\\nHu et al., 2019 [37]\\nMeta-analysis,\\n13 RCTs\\n127,447 patients,\\nmean age: 64.3 years\\nOmega-3 fatty\\nacids\\n5 years\\n8% reduction in MI, 8%\\nreduction in CHD death,\\n5% reduction in total\\nCHD, 7% reduction in\\nCVD death, 3% reduction\\nin total CVD\\nCasula et al., 2020 [38]\\nMeta-analysis,\\n16 RCTs\\n81,073 participants\\nOmega-3 fatty\\nacids\\n≥1 year\\n9% reduction in cardiac\\nmortality, 10% reduction\\nin major adverse\\ncardiovascular events,\\n17% reduction in MI;\\nmore beneﬁts were seen\\nin secondary prevention\\nLombardi et al.,\\n2020 [39]\\nMeta-analysis, 14\\nstudies\\n125,763 patients\\nOmega-3 fatty\\nacids\\nMedian: 4.6 years\\n21% reduction in cardiac\\ndeath, 29% reduction in\\nMI, 26% reduction in\\ncoronary\\nrevascularization, 27%\\nreduction in unstable\\nangina, and 22%\\nreduction in major\\nvascular events—for\\nhigh-dose omega-3 fatty\\nacids (> 1 g per day);\\n49% increase in bleeding\\nevents and 35% increase\\nin atrial ﬁbrillation\\nevents—for high-dose\\nomega-3 fatty acids (> 1 g\\nper day)\\n'),\n",
       " Document(metadata={'source': './rag-dataset/health supplements/1. dietary supplements - for whom.pdf', 'file_path': './rag-dataset/health supplements/1. dietary supplements - for whom.pdf', 'page': 7, 'total_pages': 17, 'format': 'PDF 1.7', 'title': '', 'author': '', 'subject': '', 'keywords': '', 'creator': '', 'producer': 'iLovePDF', 'creationDate': '', 'modDate': 'D:20241021113754Z', 'trapped': ''}, page_content='Int. J. Environ. Res. Public Health 2021, 18, 8897\\n8 of 24\\nTable 1. Cont.\\nAuthors\\nStudy Design\\nParticipants\\nType of Dietary\\nSupplements\\nDuration of the\\nStudy\\nResults\\nWang et al., 2009 [51]\\nRCT\\n128 obese women\\naged 18–50 years\\nwith hypertension\\nor/and\\nhyperglycemia,\\nand/or hyperlipemia\\nMultivitamins and\\nminerals\\n26 weeks\\nSigniﬁcant reduction of\\nsystolic and diastolic BP\\nPark et al., 2011 [55]\\nCohort study\\n182,099 patients aged\\n45–75 years\\nMultivitamins\\nMean: 11 years\\nNo effect on mortality\\nfrom cardiovascular\\ndiseases\\nSesso et al., 2012 [56]\\nRCT\\n14,641 males aged\\n≥50 years\\nMultivitamins\\n10.7–13.3 years\\nNo effect on\\ncardiovascular events,\\nMI, stroke, cardiovascular\\ndisease mortality\\nRautiainen et al.,\\n2016 [50]\\nProspective cohort\\nstudy\\n28,157 women aged\\n≥45 years free of\\nhypertension at\\nbaseline\\nMultivitamins\\nMean: 11.5 years\\nNo association with the\\nrisk of hypertension\\nAlbert et al., 2008 [57]\\nRCT\\n5442 women with a\\nhistory of\\ncardiovascular\\ndiseases or three or\\nmore coronary risk\\nfactors aged\\n≥40 years\\nFolic acid, vitamin\\nB6, vitamin B12\\n7.3 years\\nNo signiﬁcant effect on\\nrisk of major\\ncardiovascular events\\nGalan et al., 2010 [58]\\nRCT\\n2501 patients with a\\nhistory of ischemic\\nheart disease or\\nstroke, mean age:\\n60.9 years\\nFolic acid, vitamin\\nB6, vitamin B12\\nMedian: 4.7 years\\nNo signiﬁcant effect on\\nrisk of major\\ncardiovascular events\\nHuo et al., 2015 [59]\\nRCT\\n20,702 patients with\\nhypertension,\\nwithout a history of\\nstroke or myocardial\\ninfarction aged\\n45–75 years\\nEnalapril, folic acid\\nMedian: 4.5 years\\n21% reduction in ﬁrst\\nstroke and 20% reduction\\nin composite\\ncardiovascular events\\nLee et al., 2005 [69]\\nRCT\\n39,876 healthy\\nwomen aged\\n≥45 years\\nVitamin E\\nMean: 10.1 years\\nNo effect on MI, stroke;\\n24% reduction in\\ncardiovascular death\\nLonn et al., 2005 [70]\\nRCT\\n9541 patients with\\nvascular disease or\\ndiabetes\\nVitamin E\\nMedian: 7.0 years\\n13% increase in heart\\nfailure\\nWang et al., 2019 [71]\\nMendelian\\nrandomization\\nstudy\\n7781 participants\\nVitamin E\\nNo data\\nGenetically determined\\nhigher blood levels of\\nvitamin E increases the\\nrisk of CAD and MI,\\nincreases the\\nconcentration of LDL\\ncholesterol and\\ntriglycerides, decreases\\nHDL cholesterol\\nconcentration\\nSchwingshackl et al.,\\n2017 [13]\\nMeta-analysis,\\n49 RCTs\\n287,304 participants\\nVitamins and\\nminerals\\n1.0–11.2 years\\n12% reduction in\\ncardiovascular mortality\\nwith vitamin E\\nsupplementation;\\nno beneﬁcial effect from\\nother vitamin/mineral\\nsupplementation\\nKim et al., 2018 [60]\\nMeta-analysis, 18\\nclinical trials and\\nprospective cohort\\nstudies\\n2,019,862 participants\\nMultivitamins and\\nminerals\\n5.0–19.1 years\\nNo effect on\\ncardiovascular mortality,\\nCHD mortality, stroke\\nmortality, stroke\\nincidence\\n'),\n",
       " Document(metadata={'source': './rag-dataset/health supplements/1. dietary supplements - for whom.pdf', 'file_path': './rag-dataset/health supplements/1. dietary supplements - for whom.pdf', 'page': 8, 'total_pages': 17, 'format': 'PDF 1.7', 'title': '', 'author': '', 'subject': '', 'keywords': '', 'creator': '', 'producer': 'iLovePDF', 'creationDate': '', 'modDate': 'D:20241021113754Z', 'trapped': ''}, page_content='Int. J. Environ. Res. Public Health 2021, 18, 8897\\n9 of 24\\nTable 1. Cont.\\nAuthors\\nStudy Design\\nParticipants\\nType of Dietary\\nSupplements\\nDuration of the\\nStudy\\nResults\\nLi et al., 2018 [52]\\nMeta-analysis,\\n12 RCTs\\n23,207 patients aged\\n21.9–64.7 years\\nMultivitamins and\\nminerals\\n1.0–86.4 months\\nNo effect on risk of\\nhypertension; signiﬁcant\\nreduction of systolic BP\\nin subjects with\\nhypertension\\nKhan et al., 2019 [61]\\nAn umbrella\\nreview: 9\\nsystematic review,\\n4 RCTs, 105\\nmeta-analyses\\n992,129 participants\\nMultivitamins and\\nantioxidants\\nNo data\\nNo effect on\\ncardiovascular diseases\\noutcomes\\nLoffredo et al., 2015 [73]\\nMeta-analysis,\\n16 RCTs\\nUp to 39,876 patients\\naged > 50 years\\nAntioxidants\\n0.5–9.4 years\\n18% reduction in MI with\\nvitamin E\\nsupplementation\\nVivekananthan et al.,\\n2003 [72]\\nMeta-analysis,\\n32 RCTs\\n81,788 patients\\nVitamin E, beta-\\ncarotene\\n1.4–12.0 years\\nNo effect from\\nsupplementation of\\nvitamin E on\\ncardiovascular mortality,\\ncerebrovascular events;\\nsigniﬁcant increase in\\ncardiovascular death\\nwith beta-carotene\\nsupplementation\\nPoorolajal et al.,\\n2017 [53]\\nMeta-analysis,\\n23 RCTs\\n1213 patients with\\nhypertension, mean\\nage: 19–75 years\\nPotassium\\n4–52 weeks\\nSigniﬁcant reduction of\\nsystolic and diastolic BP\\nFilippini et al., 2020 [54]\\nMeta-analysis,\\n32 RCTs\\n1764 patients mainly\\nwith hypertension\\naged 18–79 years\\nPotassium\\n4–15 weeks\\nSigniﬁcant reduction of\\nsystolic and diastolic BP\\nAbbreviations: RCT—randomized controlled trial; MI—myocardial infarction; CHD—coronary heart disease; CAD—coronary artery\\ndisease; BP—blood pressure.\\n3.2. Dietary Supplements and Malignancy\\n3.2.1. Cancer Prevention\\nAccording to the literature, the effects of vitamin and mineral consumption on the\\nrisk of developing cancer has a U-shaped distribution (the dose–response curve). Optimal\\nintake of these components (the range that corresponds with the base of the curve) is associ-\\nated with lower risk of the disease, whereas both insufﬁciency and excessive consumption\\nmay promote carcinogenesis [9,76].\\nIn light of the growing popularity of the so-called “Western diet”, it seems prudent to\\nask whether vitamin and mineral supplementation may in fact reduce the development of\\ncancer and whether it brings any additional beneﬁts in people with healthy diets. A ran-\\ndomized study of vitamin C (500 mg/day) and E (400 IU every other day) supplementation\\nand cancer incidence in men, by Gaziano et al., [77] found no differences between the\\nstudy group and the placebo control group; similarly, Lee et al. [69] demonstrated no\\nbeneﬁts of vitamin E supplementation (600 IU every other day) in women. The results of\\na multi-center Selenium and Vitamin E Cancer Prevention Trial are even less favorable,\\nﬁnding that vitamin E supplementation (400 IU/day) increased the risk of prostate cancer\\nby 17% [78]. Additionally, in a long-term prospective study by Park et al., no relationship\\nwas found between multivitamin supplementation and cancer development [55].\\nAll hope that health improvements derive from vitamin supplementation was aban-\\ndoned after the results of studies on beta-carotene were published. In fact, those studies\\nmay even be considered as an argument against supplementation. There is an accumulat-\\ning body of evidence that suggests that beta-carotene, a typical antioxidant, may in fact\\nexert a pro-oxidative effect in smokers [79]. CARET, one of the ﬁrst randomized trials\\nconducted in the 1980s, demonstrated that administration of 30 mg of beta-carotene and\\n25,000 UI of retinol per day for an average of 4 years resulted in a 28% increased risk of lung\\n'),\n",
       " Document(metadata={'source': './rag-dataset/health supplements/1. dietary supplements - for whom.pdf', 'file_path': './rag-dataset/health supplements/1. dietary supplements - for whom.pdf', 'page': 9, 'total_pages': 17, 'format': 'PDF 1.7', 'title': '', 'author': '', 'subject': '', 'keywords': '', 'creator': '', 'producer': 'iLovePDF', 'creationDate': '', 'modDate': 'D:20241021113754Z', 'trapped': ''}, page_content='Int. J. Environ. Res. Public Health 2021, 18, 8897\\n10 of 24\\ncancer and a 17% higher risk of mortality [80]. These unexpected results led to the study\\nbeing prematurely terminated. Another randomized study, conducted with male smokers\\nfrom Finland between 1985 and 1993, included a similar conclusion. Supplementation\\nwith beta-carotene at a dose of 20 mg/day for an average of 6 years increased the risk\\nof lung cancer by 16% [81], and further analysis showed that the increased risk did not\\ncorrelate with nicotine and tar contents in the cigarettes [82]. A Japanese study on vitamin\\nA intake in the diet also generated unfavorable results. Higher consumption of vitamin A\\nwas associated with a 26% greater risk of lung cancer [83]. Based on the meta-analyses of\\nhigh-quality randomized trials, it seems that antioxidant administration (vitamin A, C, E,\\nselenium, and zinc combined) in healthy individuals does not lower the risk of developing\\nlung cancer. Vitamin C supplementation increased the risk of malignancy in women by\\n84%, and similarly, vitamin A increased the risk in smokers and people with history of\\nasbestos exposure by 10% [84]. Studies have also shown that antioxidant supplementation\\nproduces no beneﬁts in the prevention of bladder [79] or colorectal cancers [85].\\nAccording to some experts, antioxidant supplementation in cancer prevention may\\nonly be beneﬁcial in healthy people with vitamin insufﬁciency. High doses of antioxidants\\nmay even be harmful to people in the subclinical phases of the disease [76,86]. Selenium is\\na good example of the thin line between beneﬁcial and detrimental doses when the relation-\\nship between antioxidant consumption and the risks of developing cancer are concerned.\\nIn people with low blood concentrations of selenium, its supplementation lowers cancer\\nrisk, but in individuals with high blood concentrations of selenium, supplementation\\nincreases the risk of developing lung cancer [87,88].\\nVitamin D supplementation has also caused a lot of interest in recent years in relation\\nto cancer prevention because of the vitamin’s anti-inﬂammatory and immunomodulatory\\nproperties and the presence of Vitamin D Receptor (VDR) in most human organs. However,\\nmeta-analysis of randomized controlled trials has not conﬁrmed that vitamin D intake\\nreduces the incidence of cancer [89–91].\\nSummarizing the current state of knowledge about vitamin and mineral supplementa-\\ntion in cancer prevention, it is important to emphasize that the expert panel of the World\\nCancer Research Fund opposes the use of such preparations [92], as does the American\\nCancer Society, which, in addition, has concluded that if, despite the absence of beneﬁts,\\none chooses to take vitamin–mineral supplements, doses exceeding 100% of the daily\\ndemand should not be used [76]. According to the U.S. Preventive Services Task Force\\npanel of experts, we lack sufﬁcient data to determine the role of vitamin preparations\\nin cancer prevention, except for beta-carotene and vitamin E, whose supplementation is\\nuniversally discouraged [74].\\n3.2.2. Cancer Therapy\\nSupplement use among cancer patients is common and typically unsupervised by a physi-\\ncian. Alternative medicine therapies, including “word-of-mouth” dietary supplement recom-\\nmendations, are believed to be safe and complementary to the therapeutic process [74,88].\\nA study by Mandecka et al. [66] demonstrated that over 46% of cancer patients used dietary\\nsupplements, mostly antioxidants, although the patients’ mean intake of vitamin A, C,\\nand E from food ranged between 200% and 300% of the daily requirements. According\\nto the literature, 64–81% of cancer patients take vitamins or minerals, and 26–77% use\\nmultivitamin preparations [93,94]. Presumably, three-quarters of the physicians are not\\naware of what the patients take of their own accord, following the rule “patient keeps\\nquiet, doctor asks no questions”. The case of shark cartilage is an interesting example of\\nthe difference between popular perception and proven efﬁcacy, as it was extremely popular\\nin the 1990s, although it was utterly ineffective as a dietary supplement allegedly helpful\\nin ﬁghting cancer [95].\\nVitamin C, due to its antioxidative action and positive effect on the immune system,\\nhas been immensely popular among cancer patients. However, randomized studies showed\\nno indication that supplementation may provide favorable results [96]. In the case of the\\n'),\n",
       " Document(metadata={'source': './rag-dataset/health supplements/1. dietary supplements - for whom.pdf', 'file_path': './rag-dataset/health supplements/1. dietary supplements - for whom.pdf', 'page': 10, 'total_pages': 17, 'format': 'PDF 1.7', 'title': '', 'author': '', 'subject': '', 'keywords': '', 'creator': '', 'producer': 'iLovePDF', 'creationDate': '', 'modDate': 'D:20241021113754Z', 'trapped': ''}, page_content='Int. J. Environ. Res. Public Health 2021, 18, 8897\\n11 of 24\\nimpact of vitamin D supplementation, some meta-analyses of randomized controlled trials\\nindicate that vitamin D intake reduces the risk of cancer mortality by 12–13% [90,91].\\nHowever, some authors note that due to the low quality of the research, this ﬁnding\\nshould be approached with caution [91] and yet others do not conﬁrm any relationship [89].\\nDecisions about possible vitamin D supplementation in cancer patients should consider\\nthe current and target 25 (OH) D concentrations in the patient’s blood [90].\\nIn fact, a considerable number of the experts believe that cancer patients should\\nrefrain from any supplementation, especially during chemotherapy and radiation ther-\\napy [66,97,98]. According to Ambrosone et al. [99], antioxidant supplementation in breast\\ncancer patients undergoing chemotherapy lowered the chance of survival. The American\\nInstitute for Cancer Research warned that patients undergoing chemotherapy or radiation\\nshould not ingest high doses of vitamins and minerals [100]. Vitamin–mineral preparations\\nare necessary in cases of patient malnutrition. According to the European Society for Clin-\\nical Nutrition and Metabolism (ESPEN), cancer patients whose diet provides them with\\nless than 60% of the required caloric content over the course of at least 1 week, should use\\nvitamin–mineral supplements in adequate doses so that they avoid nutritional deﬁciencies.\\nHowever, supplementation should be prescribed and monitored by a physician [87,88].\\nImportantly, more than half of cancer patients declare they received no information what-\\nsoever regarding vitamin and mineral supplementation during therapy [101].\\nHerbal supplements, which are commonly perceived by patients as completely safe\\ndue to their natural origin, are particularly dangerous [102–104]. The risk is associated,\\namong others, with the higher content of active substances in the supplements than\\noccur in the natural herbal resources, which results from the use of concentrated extracts\\nand sometimes additional synthetic analogues [105,106]. Additionally, recent years have\\nwitnessed the appearance of numerous preparations that include plants that have never\\npreviously been used in Western medicine. Their mechanisms of action have not been\\nsufﬁciently investigated and described, while the labels usually fail to include information\\nabout the contraindications, which does not mean they do not exist. Herbal components,\\nespecially herbal mixes, may have a negative effect on the drug mechanisms of action, both\\nby accelerating excretion from the body or by producing dangerously high concentrations\\nin the blood [88,104].\\nThe abovementioned data indicate that reasonable supplementation, tailor-made for\\nthe cancer patient and supervised by a physician, may in fact bring benefits and constitute\\na vital element of the cancer treatment. Unsupervised self-administration of dietary sup-\\nplements may cause serious complications during cancer therapy. Table 2 summarizes the\\nstudies included in the paper on the relationships between vitamin–mineral supplementation\\nand cancer.\\nTable 2. Characteristic of studies evaluating the effect of selected dietary supplements on cancers.\\nAuthors\\nStudy Design\\nParticipants\\nType of Dietary\\nSupplements\\nDuration of the\\nStudy\\nResults\\nOmenn et al.,\\n1996 [80]\\nRCT\\n18,314 smokers\\nBeta-carotene and\\nvitamin A\\nMean: 4 years\\n28% increase in lung cancer\\nincidence\\nAlbanes et al.,\\n1996 [81]\\nRCT\\n29,133 smokers aged\\n50–69 years\\nBeta-carotene,\\nvitamin E\\nMedian: 6.1 years\\n16% increase in lung cancer\\nincidence with beta-carotene\\nsupplementation;\\nno effect on lung cancer\\nincidence with vitamin E\\nsupplementation.\\nLee et al., 2005 [69]\\nRCT\\n39,876 healthy\\nwomen aged\\n≥45 years\\nVitamin E\\nMean: 10.1 years\\nNo effect on cancer incidence\\nGaziano et al.,\\n2009 [77]\\nRCT\\n14,641 men aged\\n≥50 years\\nVitamin E, vitamin\\nC\\nMean: 8.0 years\\nNo effect on cancer incidence\\n'),\n",
       " Document(metadata={'source': './rag-dataset/health supplements/1. dietary supplements - for whom.pdf', 'file_path': './rag-dataset/health supplements/1. dietary supplements - for whom.pdf', 'page': 11, 'total_pages': 17, 'format': 'PDF 1.7', 'title': '', 'author': '', 'subject': '', 'keywords': '', 'creator': '', 'producer': 'iLovePDF', 'creationDate': '', 'modDate': 'D:20241021113754Z', 'trapped': ''}, page_content='Int. J. Environ. Res. Public Health 2021, 18, 8897\\n12 of 24\\nTable 2. Cont.\\nAuthors\\nStudy Design\\nParticipants\\nType of Dietary\\nSupplements\\nDuration of the\\nStudy\\nResults\\nKlein et al.,\\n2011 [78]\\nRCT\\n34,887 men aged\\n≥50 years\\nVitamin E,\\nselenium\\n7.0–12.0 years\\n17% increase in prostate\\ncancer incidence with vitamin\\nE supplementation;\\nno effect on prostate cancer\\nincidence with selenium\\nsupplementation\\nPark et al.,\\n2011 [55]\\nCohort study\\n182,099 patients aged\\n45–75 years\\nMultivitamins\\nMean: 11 years\\nNo effect on cancer incidence\\nAmbrosone et al.,\\n2019 [99]\\nProspective study\\n1134 patients with\\nbreast cancer\\nAntioxidants,\\nmultivitamins\\nvitamin B12, iron,\\n6 months\\n41% increased risk of\\nrecurrence with antioxidant\\nsupplementation both before\\nand during chemotherapy;\\nno effect of multivitamins on\\nsurvival outcomes;\\n2-fold decrease in the\\nprobability of disease-free\\nsurvival for vitamin B12\\nsupplementation both before\\nand during chemotherapy;\\n79% higher risk of recurrence\\nwith iron supplementation\\nboth before and during\\nchemotherapy\\nNarita et al.,\\n2018 [83]\\nProspective study\\n79,705 participants\\nRetinol, vitamin C,\\nvitamin E, alfa-\\ncarotene, and\\nbeta-carotene\\nMean: 5 years\\n26% increase in lung cancer\\nincidence in men with higher\\ndietary retinol intake;\\nno associations with lung\\ncancer incidence for vitamin\\nC, vitamin E, alfa-carotene\\nand beta-carotene intake\\nVan Gorkom et al.,\\n2019 [96]\\nA systematic\\nreview, 19 trials\\nNo data\\nVitamin C\\n1 week–12 months\\nNo positive effect of vitamin\\nC supplementation on cancer\\npatients\\nPais et al., 2013 [85]\\nMeta-analysis,\\n20 RCTs\\n268,590 participants\\nAntioxidants\\nNo data\\nNo effect on colorectal cancer\\nincidence with antioxidant\\nsupplementation\\nPark et al.,\\n2017 [79]\\nMeta-analysis,\\n14 RCTs\\n147,383 participants\\nAntioxidants\\n1.0–13.0 years\\nNo effect on bladder cancer\\nincidence with antioxidant\\nsupplementation\\nCortés-Jofré et al.,\\n2020 [84]\\nMeta-analysis,\\n12 RCTs\\n733–212,314\\nparticipants\\n35–84 years\\nAntioxidants\\n2.0–12.0 years\\nNo beneﬁcial effect on lung\\ncancer incidence for\\ncombination of vitamins A, C,\\nE + selenium + zinc\\nsupplementation;\\n84% increase in lung cancer\\nincidence in women with\\nvitamin C supplementation;\\n10% increase in lung cancer\\nincidence in smokers and\\npeople with history of\\nasbestos exposure with\\nvitamin A supplementation\\nBjelakovic et al.,\\n2014 [91]\\nMeta-analysis,\\n18 RCTs\\n50,623 participants\\nVitamin D\\nMean: 6 years\\nNo effect on cancer incidence;\\n12% reduction in\\ncancer death.\\nGoulao et al.,\\n2018 [89]\\nMeta-analysis,\\n30 RCTs\\n18,808 participants\\nVitamin D\\nMedian:\\n1,0–6.2 years\\nNo effect on cancer incidence\\nand mortality\\nKeum et al.,\\n2019 [90]\\nMeta-analysis,\\n5–10 RCTs\\n6537 cases\\nVitamin D\\n3–10 years\\nNo effect on cancer incidence;\\n13% reduction in cancer death\\n'),\n",
       " Document(metadata={'source': './rag-dataset/health supplements/1. dietary supplements - for whom.pdf', 'file_path': './rag-dataset/health supplements/1. dietary supplements - for whom.pdf', 'page': 12, 'total_pages': 17, 'format': 'PDF 1.7', 'title': '', 'author': '', 'subject': '', 'keywords': '', 'creator': '', 'producer': 'iLovePDF', 'creationDate': '', 'modDate': 'D:20241021113754Z', 'trapped': ''}, page_content='Int. J. Environ. Res. Public Health 2021, 18, 8897\\n13 of 24\\n3.3. Dietary Supplements and Weight Loss\\nThe number of people with excessive weight continues to rise, and ﬁghting obesity\\nhas become one of the greatest challenges of contemporary medicine. A person wishing to\\nlose weight needs to undertake several difﬁcult life-changes and practice them consistently\\n(diet, physical activity, addiction-free). Meanwhile dietary supplements are presented as\\na compelling alternative to traditional methods for combatting obesity. Wróbel-Harmas\\net al. [107] demonstrated that weight loss supplements are the most frequently sought di-\\netary supplements on the Internet, followed by preparations for muscle building and sexual\\npotency. In the US, more than 30% of people with overweight and obesity believe supple-\\nments to be an effective method for losing weight [108], while in Poland these supplements\\nare used by as many as 40–50% of young women, regardless of their weight [15].\\nWeight loss supplements are usually multi-ingredient preparations, with over 4000 in-\\ndividual substances used in the production process. The average weight loss supplement\\navailable in Western markets is estimated to include 10 different ingredients [109]. The\\nmore complex the recipe, the harder it is to determine its effects on the body. The most\\npopular ingredients include chromium and chitosan, as well as green tea, Garcinia cambogia,\\nand bitter orange (Citrus aurantium) extracts [15,16]. Over the years, no studies have shown\\nthat the use of either single- or multi-ingredient preparations of those substances promotes\\nweight reduction.\\nA 2013 meta-analysis of randomized studies found that chromium supplementation\\nresulted in only 0.5 kg additional weight reduction in subjects with overweight and obesity,\\nas compared with those taking a placebo [110], and a comparable result (mean: 0.75 kg)\\nwas achieved in a similar 2019 meta-analysis [111]. In addition, the literature indicates that\\nchromium supplementation may be associated with several side effects: emesis, nettle-\\nrash, and dizziness [112]. Claims about the beneﬁts of chitosan, which allegedly binds\\nto fats in the digestive tract and inhibits fat absorption, are also exaggerated [113,114].\\nA 2018 meta-analysis of randomized trials revealed that chitosan supplementation for\\napproximately 17 weeks led to a slight decrease in body weight (mean: 1 kg) [113], and a\\nsimilar result was found in a 2020 meta-analysis of similar studies, which reported a 0.89\\nkg greater weight loss than those taking a placebo [115]. The effectiveness of green tea\\nextract is also questionable. In light of some data, green tea extract consumed for 12 weeks\\ndid not reinforce the weight loss process [116]; in light of other data, consumption of the\\nextract for up to 14 weeks by obese people causes a greater decrease in body weight (by\\n1.8 kg) and BMI (by 0.65 kg/m2) than occurring in those taking a placebo [117]. At the\\nsame time, a growing number of studies have shown there is a signiﬁcant risk linked\\nwith green tea extract, and we discuss this in more detail in the Safety of Supplement\\nUse section of the manuscript. Garcinia cambogia, which is a tropical plant whose fruit\\nincludes large quantities of hydroxycitric acid, which inhibits appetite and suppresses\\nfatty acid synthesis, has also been advertised by celebrities as a magical aid to losing\\nweight [104,118,119]. The results of studies on the effectiveness of Garcinia cambogia in\\nthe weight loss process are far from satisfying. A meta-analysis of 2011 randomized\\ncontrols demonstrated poor-to-borderline statistically signiﬁcant effects on body weight\\nloss (−0.88 kg) as compared with those on the placebo and demonstrated no effect on\\nBMI. The authors pointed out the small sample size of the studies they analyzed and\\nthe fact that the studies were conducted over short periods of time [120]. Slightly better\\nslimming effects of Garcinia cambogia supplements were shown by a 2020 meta-analysis\\nof such studies, where taking such supplements for 8–12 weeks resulted in decreases in\\nbody weight by −1.34 kg, BMI by −0.99 kg/m2, percentage of fat mass by −0.42%, and\\nwaist circumference by −4.16 cm compared with the placebo group [121]. Overall, the\\neffectiveness of Garcinia cambogia is believed to be under-researched, and long-term use is\\nnot recommended. Additionally, the plant is supposedly hepatotoxic [114,122]. Similarly,\\nresults to those above are found in the literature on bitter orange (Citrus aurantium), showing\\nno conclusive proof of its effectiveness [107,122,123]. However, there are reports on its\\nserious side effects (hypertension, chest pain, and tachycardia), especially among subjects\\n'),\n",
       " Document(metadata={'source': './rag-dataset/health supplements/1. dietary supplements - for whom.pdf', 'file_path': './rag-dataset/health supplements/1. dietary supplements - for whom.pdf', 'page': 13, 'total_pages': 17, 'format': 'PDF 1.7', 'title': '', 'author': '', 'subject': '', 'keywords': '', 'creator': '', 'producer': 'iLovePDF', 'creationDate': '', 'modDate': 'D:20241021113754Z', 'trapped': ''}, page_content='Int. J. Environ. Res. Public Health 2021, 18, 8897\\n14 of 24\\nwith cardiovascular diseases, as well as indications that it may cause liver damage [124].\\nThe effects of bitter orange alkaloids on liver enzyme activity may also produce negative\\neffects on the efﬁcacy of other medicines [112].\\nIn summarizing current knowledge about weight loss supplements and their effective-\\nness, it is important to emphasize that none of the available supplements are recommended\\nbecause their effectiveness is unproven and for safety reasons. Recipients who are exposed\\nto the advertisements of such supplements should be aware that their alleged effectiveness\\nhas not been tested in clinical trials. Advertising slogans such as “excellent fat burner”\\nhave no grounds. Additionally, if there was a weight loss preparation that was proven to be\\neffective, it would have been registered as a “medicine” and not as a “foodstuff”. The two\\nkey issues are that these products do not help people lose weight and they have serious\\nside effects, which may be a threat to patient health. Therefore, consuming fat burners,\\nespecially those purchased online, has been compared by some authors to playing a game\\nof “Russian roulette” [125]. If, despite the lack of evidence, patients wish to attempt to\\nlose weight using dietary supplements, they should never purchase these products from\\nunauthorized buyers or increase the recommended dose or use several products at the same\\ntime in the hope that it would accelerate their weight loss. Various slimming preparations\\n(with different trade names) may contain the same ingredients and their concentration in\\nthe body may become dangerously elevated. Table 3 summarizes the studies analyzed in\\nthis article on the relationships between dietary supplement use and body weight.\\nTable 3. Characteristic of studies evaluating the effect of selected dietary supplements on weight loss.\\nAuthors\\nStudy Design\\nParticipants(n)\\nType of Dietary\\nSupplements\\nDuration of the\\nStudy\\nResults\\nOnakpoya et al.,\\n2013 [110]\\nMeta-analysis,\\n20 RCTs\\n1038\\nChromium\\n8–26 weeks\\n0.5 kg more weight loss as\\ncompared with placebo\\nTsang et al., 2019\\n[111]\\nMeta-analysis,\\n21 trials\\n1316\\nChromium\\n≤12 weeks\\n0.75 kg more weight loss\\nas compared with placebo\\nMoraru et al.,\\n2018 [113]\\nMeta-analysis,\\n14 RCTs\\n1101\\nChitosan\\n4–52 weeks\\n1.01 kg more weight loss\\nas compared with placebo\\nHuang et al.,\\n2020 [115]\\nMeta-analysis,\\n15 RCTs\\n1130\\nChitosan\\n≥12 weeks\\n0.89 kg more weight loss,\\n0.39 kg/m2 more BMI loss,\\nand 0.69% more body fat\\nloss as compared\\nwith placebo\\nBaladia et al.,\\n2014 [116]\\nMeta-analysis,\\n5 RCTs\\n260\\nGreen tea, green\\ntea extract\\n12 weeks\\nNo effect on body weight\\nLin et al., 2020\\n[117]\\nMeta-analysis,\\n22 RCTs\\n2357\\nGreen tea extract\\n4–14 weeks\\n1.78 kg more weight loss\\nand 0.65 kg/m2 more BMI\\nloss as compared with\\nplacebo\\nOnakpoya et al.,\\n2011 [120]\\nMeta-analysis,\\n12 RCTs\\n706\\nhydroxycitric\\nacid from\\nGarcinia cambogia\\n2–12 weeks\\n0.88 kg more weight loss\\nas compared with placebo\\nGolzarand et al.,\\n2020 [121]\\nMeta-analysis,\\n8 RCTs\\n530\\nGarcinia cambogia\\n8–12 weeks\\n1.34 kg more weight loss,\\n0.99 kg/m2 more BMI loss,\\nand 0.42% more body fat\\nloss, 4.16 cm more loss of\\nwaist circumference as\\ncompared with placebo\\nStohs 2017 [123]\\nReview 30 trials\\n600\\nCitrus aurantium\\nextract\\nNo data\\nNo proven effect on\\nbody weight\\n'),\n",
       " Document(metadata={'source': './rag-dataset/health supplements/1. dietary supplements - for whom.pdf', 'file_path': './rag-dataset/health supplements/1. dietary supplements - for whom.pdf', 'page': 14, 'total_pages': 17, 'format': 'PDF 1.7', 'title': '', 'author': '', 'subject': '', 'keywords': '', 'creator': '', 'producer': 'iLovePDF', 'creationDate': '', 'modDate': 'D:20241021113754Z', 'trapped': ''}, page_content='Int. J. Environ. Res. Public Health 2021, 18, 8897\\n15 of 24\\n3.4. Safety of Supplement Use\\nIn Europe and the US, no documentation of safety of use is required before the intro-\\nduction of a dietary supplement to the market, although each jurisdiction’s laws clearly\\nstate that producers are responsible for the safety of a product [124,126]. Some authors have\\nstated that they believe that supplements are released onto the market to be tested by the\\nend-users [127]. The Food and Drug Administration (FDA) may withdraw a product from\\nthe market only after it has been deemed unsafe [128,129]. Additionally, routine quality con-\\ntrols are not carried out to check the active substance content and label compliance [105,107],\\nand yet half of some studies’ respondents claim that dietary supplements are sufficiently\\nmonitored, in the same way that over-the-counter drugs are [107,130].\\nEvidence of the unfavorable effects of supplement use continues to accumulate. Ac-\\ncording to the National Estimates of Emergency Department Visits, the most frequent\\ncomplaints in the US concern herbal or complementary nutritional preparations, including\\nweight loss products (66% and 26% of all interventions, respectively) [131]. As far as weight\\nloss products are concerned, 13,000 complaints are registered annually, including 2000 hos-\\npitalizations [132]. The main side effects include cardiac symptoms (palpitations and\\nchest pains), and the same symptoms have been observed in relation to the use of muscle\\nbuilding and sexual potency supplements [131]. The literature emphasizes that long-term\\neffects of supplement use are difﬁcult to predict and will only be known after they have\\nbeen present on the market for some years [133]. The Ephedra sinica shrub is an interesting\\nexample of this issue, as it became a component of weight loss preparations in the early\\n1990s in the US and was withdrawn in 2004 due to the incidence of life-threatening cardiac\\nside effects [112]. However, the use of the Ephedra sinica plant in foods, and consequently\\nin dietary supplements, was not banned in the European Union until 2015 [134]. Ephedra\\nherbal supplements accounted for over half of the complaints about adverse reactions to\\nherbs lodged with the US National Estimates of Emergency Department Visits, yet these\\nproducts constituted only 1% of total herbal product sales in the US at the time [112]. In\\n2004, the FDA received over 18,000 complaints and ﬁnally ruled that the product should\\nbe withdrawn [114]. Sibutramine (active ingredient in medicines) is yet another example\\nof a substance used is weight loss preparations whose negative side effects were revealed\\nonly after people had been using it for some time. It was released on the market in the late\\n1990s as a component of an appetite-blocking drug but was withdrawn in 2010 due to a\\nsigniﬁcant risk of cardiovascular disorders [135].\\nSince being ofﬁcial banned, both sibutramine and Ephedra sinica have become popular,\\nillegal components of weight loss supplements. In China, signiﬁcant quantities of sibu-\\ntramine were detected in 27 out of 120 weight loss supplements [103]. Despite a number of\\ncomponents being listed on the label of one Chinese product, Meizitanc, when investigated\\nin Poland, sibutramine was the only substance in this weight loss [136]. There is also an\\nassociated problem of additional ingredients that are also dangerous being included with\\nthe banned substances. For instance, the number of reports on laxatives, antidepressant,\\nyohimbine, and even amphetamine and its derivatives being found in supplements con-\\ntinues to grow [105,106,127,137]. A US study revealed that 11 out of 21 supplements that\\ncontained the Acacia rigidula extract that were purchased on the Internet contained the iso-\\nmer of amphetamine [138]. In South Korea, substances that bore a structural resemblance\\nto amphetamine were found in 10 out of 110 weight loss supplements [139]. In Italy, 28%\\nof the supplements purchased online contained sibutramine or substances only permitted\\nin medicines or their analogs, which had not been tested for toxicology [135]. Apart from\\nweight loss supplements, preparations for muscle building and sexual potency have also\\nbeen found to be contaminated. International studies indicate that 12–58% of the supple-\\nments for physically active people contained substances that have previously been banned\\nby the World Anti-Doping Agency [140].\\nDespite legal requirements, labels of dietary supplements cannot be treated as a source\\nof reliable information about the products’ contents. In North America, where the brain\\nhealth supplement market is developing rapidly, 10 out of 12 products contained non-\\n'),\n",
       " Document(metadata={'source': './rag-dataset/health supplements/1. dietary supplements - for whom.pdf', 'file_path': './rag-dataset/health supplements/1. dietary supplements - for whom.pdf', 'page': 15, 'total_pages': 17, 'format': 'PDF 1.7', 'title': '', 'author': '', 'subject': '', 'keywords': '', 'creator': '', 'producer': 'iLovePDF', 'creationDate': '', 'modDate': 'D:20241021113754Z', 'trapped': ''}, page_content='Int. J. Environ. Res. Public Health 2021, 18, 8897\\n16 of 24\\ndeclarable components, and 8 did not contain at least 1 of the ingredients listed on the\\nlabel [141]. Overall, it is estimated that approximately 20% of the supplements contain at\\nleast one banned substance. Importantly, in view of the number of products available on\\nthe market, the published cases are merely the tip of the iceberg [105,106].\\nLack of reliable data on supplement safety, contamination, and adulteration are the\\nreasons why supplements may cause grave side effects. So far, most reports have focused\\non the green tea extract, which may have caused liver damage, including fatal damage, in\\nmore than 50 individuals. For example, Exolise—a weight loss supplement that contained\\ngreen tea extract—was withdrawn from the market in Spain and France in 2003 [112,129].\\nDexaprine was a multi-ingredient supplement with green tea extract that was withdrawn in\\n2014 in Holland, as even half a tablet resulted in emesis, anxiety, and tachycardia [106]. In\\nPoland, anaphylactic reactions were observed in the case of a multi-ingredient preparation\\nwith green tea extract known as Linea Detox [133]. Supplements that contain Garcinia\\ncambogia may also pose a threat to patient life. Two cases are Hydroxycut, which resulted\\nin liver damage, heart arrhythmia, and death [118,124,132]; and Thermatrim, which was\\nsuspected of causing toxic leukoencephalopathy [142]. Kratom is yet another example of a\\ndangerous dietary supplement for muscle building that was withdrawn in 2018 from the\\nUS market after it caused the death of a young man [128].\\nThe rapid increase in the availability of dietary supplements aimed at improving\\ncognitive function, including Alzheimer’s disease, is the reason for the FDA issuing an\\nofﬁcial statement in 2019 to inform the public that the agency did not investigate dietary\\nsupplements for safety and effectiveness and that these preparations may be dangerous,\\nineffective, and delay patients’ decisions to seek medical help [143]. In light of the fact that\\nthe disturbing reports we have identiﬁed above continue to surface, there is an urgent need\\nfor a radical change in the way supplements are introduced to the market [127,144,145],\\nespecially in changing perceptions of products from “safe until proven unsafe” to “unsafe\\nuntil proven safe” [128]. There is a consensus among the experts that supplements require\\ncontrolled tests to be performed by independent laboratories to check for active substance\\ncontent and possible adulteration [105–107].\\n4. Discussion\\nDue to persistent media messaging about poor eating habits and that the typical\\n“Western diet” is far from nutritional, many people are convinced that their daily diet\\ndoes not meet the recommended levels for vitamins and minerals. However, the scientiﬁc\\nliterature shows that taking vitamins and minerals without medical justiﬁcation does not\\nlower the risks of cardiovascular disease and cancer and that sometimes it can even have a\\nnegative effect. It should also be borne in mind that disease is inﬂuenced by many factors,\\nboth genetic and environmental, and a beneﬁcial change in one element of the diet may not\\nhave any overall effect. Popular positive expectations of supplements are also dampened\\nby the fact that they are more often used by people who already eat better, lead a healthier\\nlifestyle, are better educated, and have a greater health awareness [6,8,10]. Therefore,\\nin such cases where the person already has a better nutritional status, including a lack\\nof vitamin and mineral deﬁciencies, supplementation may not be of beneﬁt, and long-\\nterm consumption of excessive quantities of these nutrients may, in fact, have detrimental\\nside effects. The risk of such side effects increases when consumers take several dietary\\nsupplements at the same time (for example, “for immunity”, “for the heart”, or “for an\\nefﬁcient mind”), as they may contain the same vitamins and minerals as each other.\\nOn the other hand, the beneﬁcial effect of using certain nutrients (omega-3 fatty\\nacids) in the treatment of lipid disorders, as demonstrated in studies, undermines the\\nregistration of preparations intended for this purpose as dietary supplements. Dietary\\nsupplements, by their deﬁnition, serve to supplement the usual diet with nutrients or\\ncomponents with a physiological effect, and this group of preparations does not include\\nmedicinal products [1,2,146]. Due to one of the basic rules that the use of preparations\\nfor therapeutic purposes should be prescribed and under the supervision of a physician,\\n'),\n",
       " Document(metadata={'source': './rag-dataset/health supplements/1. dietary supplements - for whom.pdf', 'file_path': './rag-dataset/health supplements/1. dietary supplements - for whom.pdf', 'page': 16, 'total_pages': 17, 'format': 'PDF 1.7', 'title': '', 'author': '', 'subject': '', 'keywords': '', 'creator': '', 'producer': 'iLovePDF', 'creationDate': '', 'modDate': 'D:20241021113754Z', 'trapped': ''}, page_content='Int. J. Environ. Res. Public Health 2021, 18, 8897\\n17 of 24\\n“therapeutic” doses of nutrients should not be used in food preparations. Moreover, Polish\\npharmaceutical law clearly emphasizes that in the case of a product that meets the criteria\\nfor classiﬁcation both as a medicinal product and as a dietary supplement, the provisions of\\npharmaceutical legislation, rather than food regulations, should be applied [147]. Currently,\\nthe dose of active ingredients is an important criterion in the registration process of dietary\\nsupplements [148]. It is also worth remembering that labeling and advertising of dietary\\nsupplements can neither imply nor make claims about the product’s preventive and/or\\ntherapeutic properties, which is consistent with food law and the regulations governing\\nall foodstuffs [149]. Therefore, dietary supplement packaging may not contain informa-\\ntion such as “for cancer prevention” or “for reducing cholesterol”. However, although\\nsuch requirements have long been in food legislation, the practice of portraying dietary\\nsupplements as products that quickly alleviate the symptoms of numerous health con-\\nditions, both by labelling and advertising methods, is relatively common [143,150–152].\\nUnsurprisingly, the public often ﬁnds it difﬁcult to differentiate between supplements and\\ndrugs [5,12] and uses the former to treat various medical conditions [128,153,154]. Such\\npractices have been observed even in the US, where manufacturers are legally obligated to\\ninclude the information “This product is not intended to diagnose, treat, cure, or prevent any\\ndisease” [9,128] on labels, unlike in the European Union. According to various authors,\\nknowledge about supplements among some physicians and pharmacists also leaves much\\nto be desired [155,156]. It is worth mentioning here that in Poland, considering the popular\\nmisconception that dietary supplements are drugs, as of 1 January 2020, self-regulation of\\nTV broadcasting companies and supplement manufacturers [157] was introduced. The new\\nregulations have introduced several important changes for TV advertising, chief among\\nthem the rule that every advertisement is required to include the following statement on\\nscreen: “Dietary supplement; contains ingredients which support physiological functions of the\\nbody by supplementing a typical diet; has no medicinal properties.”\\nConsidering the impact of dietary supplements on people’s health, it is important to\\nremember that the results of short-term studies do not provide irrefutable data on their\\neffectiveness and that even long-term studies, where lifestyle factors change over time and\\ninﬂuence a person’s health, also pose a problem. When interpreting the results of research\\non intake of vitamin and mineral preparations, especially multivitamin–mineral supple-\\nments, it should also be remembered that there is a considerable degree of heterogeneity in\\nsupplement ingredients and amounts of nutrients because the composition of supplements\\nis not directly regulated by law. Therefore, individual preparations may signiﬁcantly differ\\nfrom each other in dose and composition of ingredients, thus affecting research results.\\nIn addition, it should be noted that administering vitamin and mineral supplements to\\nthe study group does not mean that the control group did not gain appropriate levels of\\nthese ingredients from their daily diets, and thus does not mean that the control group\\nwas at risk of hypovitaminosis. Therefore, identifying the potential beneﬁts of supplying\\nnutrients in addition to the body’s normal requirements is difﬁcult.\\nThe author of this paper is aware of the limitations and issues in the cited studies and\\nconsequently is aware that this is not a systematic review. Therefore, it cannot be ruled\\nout that some publications, possibly presenting different research results, may have been\\nomitted. However, the author has made every effort to include as many publications as\\npossible, including randomized controlled trials and meta-analyses, and to discuss the\\nindividual issues in the paper in a balanced way, bearing in mind the length of the paper.\\nBecause of the widely different categories of dietary supplements, the article does not\\naddress the health effects of all, e.g., probiotics or polyphenols; thus, the author does not\\npresent an exhaustive discussion of the health effects resulting from taking supplements.\\n5. Conclusions\\nIn the absence of clinical trials conducted by the manufacturers of dietary supplements\\nprior to their supplements being introduced to the market, being able to understand the\\nhealth effects of using such preparations is an important public health issue. Most of\\n')]"
      ]
     },
     "execution_count": 4,
     "metadata": {},
     "output_type": "execute_result"
    }
   ],
   "source": [
    "docs"
   ]
  },
  {
   "cell_type": "code",
   "execution_count": 5,
   "metadata": {},
   "outputs": [
    {
     "data": {
      "text/plain": [
       "17"
      ]
     },
     "execution_count": 5,
     "metadata": {},
     "output_type": "execute_result"
    }
   ],
   "source": [
    "len(docs)"
   ]
  },
  {
   "cell_type": "code",
   "execution_count": 6,
   "metadata": {},
   "outputs": [],
   "source": [
    "# print(docs[0].page_content)"
   ]
  },
  {
   "cell_type": "code",
   "execution_count": 60,
   "metadata": {},
   "outputs": [],
   "source": [
    "def load_pdfs_from_directory(directory_path: str, verbose: bool = False) -> List[Document]:\n",
    "    \"\"\"\n",
    "    Loads all PDF files from the specified directory and its subdirectories using LangChain's PyMuPDFLoader.\n",
    "\n",
    "    Args:\n",
    "        directory_path (str): Path to the directory containing PDF files or subdirectories.\n",
    "        verbose (bool): If True, displays progress messages. Default is False.\n",
    "\n",
    "    Returns:\n",
    "        List[Document]: A list of Document objects with content and metadata extracted from the PDFs.\n",
    "\n",
    "    Raises:\n",
    "        FileNotFoundError: If the directory does not exist or is not accessible.\n",
    "        ValueError: If the directory and its subdirectories do not contain any PDF files.\n",
    "        Exception: For any unexpected issues during PDF loading.\n",
    "    \"\"\"\n",
    "    if not os.path.exists(directory_path):\n",
    "        raise FileNotFoundError(f\"The directory '{directory_path}' does not exist.\")\n",
    "\n",
    "    if not os.path.isdir(directory_path):\n",
    "        raise ValueError(f\"The path '{directory_path}' is not a directory.\")\n",
    "\n",
    "    # Recursively find all PDF files in the directory and its subdirectories\n",
    "    pdf_files = []\n",
    "    for root, _, files in os.walk(directory_path):\n",
    "        for file in files:\n",
    "            if file.lower().endswith('.pdf'):\n",
    "                pdf_files.append(os.path.join(root, file))\n",
    "\n",
    "    if not pdf_files:\n",
    "        raise ValueError(f\"No PDF files found in the directory '{directory_path}' and its subdirectories.\")\n",
    "\n",
    "    if verbose:\n",
    "        print(f\"Found {len(pdf_files)} PDF file(s) in directory '{directory_path}' and its subdirectories.\\n\")\n",
    "\n",
    "    documents = []\n",
    "    for pdf_file in pdf_files:\n",
    "        try:\n",
    "            if verbose:\n",
    "                print(f\"Loading PDF: {pdf_file}...\")\n",
    "            loader = PyMuPDFLoader(pdf_file)\n",
    "            documents.extend(loader.load())\n",
    "            if verbose:\n",
    "                print(f\"Successfully loaded PDF: {pdf_file}\\n\")\n",
    "        except Exception as e:\n",
    "            print(f\"Error loading PDF '{pdf_file}': {e}\")\n",
    "\n",
    "    if not documents:\n",
    "        raise Exception(\"No documents were successfully loaded from the PDF files.\")\n",
    "\n",
    "    if verbose:\n",
    "        print(f\"\\nLoaded {len(documents)} document(s) from the all the PDFs\")\n",
    "\n",
    "    return documents\n"
   ]
  },
  {
   "cell_type": "code",
   "execution_count": 61,
   "metadata": {},
   "outputs": [
    {
     "name": "stdout",
     "output_type": "stream",
     "text": [
      "Found 2 PDF file(s) in directory 'rag-dataset/gym supplements' and its subdirectories.\n",
      "\n",
      "Loading PDF: rag-dataset/gym supplements\\1. Analysis of Actual Fitness Supplement.pdf...\n",
      "Successfully loaded PDF: rag-dataset/gym supplements\\1. Analysis of Actual Fitness Supplement.pdf\n",
      "\n",
      "Loading PDF: rag-dataset/gym supplements\\2. High Prevalence of Supplement Intake.pdf...\n",
      "Successfully loaded PDF: rag-dataset/gym supplements\\2. High Prevalence of Supplement Intake.pdf\n",
      "\n",
      "\n",
      "Loaded 26 document(s) from the all the PDFs\n"
     ]
    }
   ],
   "source": [
    "docs = load_pdfs_from_directory(directory_path=\"rag-dataset/gym supplements\",verbose=True)"
   ]
  },
  {
   "cell_type": "code",
   "execution_count": 62,
   "metadata": {},
   "outputs": [],
   "source": [
    "def format_docs(docs: List[Document], verbose: bool = False) -> str:\n",
    "    \"\"\"\n",
    "    Formats a list of Document objects into a single string with their content joined by double newlines.\n",
    "\n",
    "    Args:\n",
    "        docs (List[Document]): List of Document objects to format.\n",
    "        verbose (bool): If True, displays progress messages. Default is False.\n",
    "\n",
    "    Returns:\n",
    "        str: A single string containing the page content of all documents, separated by double newlines.\n",
    "\n",
    "    Raises:\n",
    "        ValueError: If the input is not a list or contains non-Document objects.\n",
    "        Exception: If the list is empty or no valid content is found.\n",
    "    \"\"\"\n",
    "    if not isinstance(docs, list):\n",
    "        raise ValueError(\"The input 'docs' must be a list of Document objects.\")\n",
    "\n",
    "    if not all(isinstance(doc, Document) for doc in docs):\n",
    "        raise ValueError(\"All elements in 'docs' must be instances of the Document class.\")\n",
    "\n",
    "    if verbose:\n",
    "        print(f\"Received {len(docs)} document(s) to format.\")\n",
    "\n",
    "    content_list = [doc.page_content for doc in docs if doc.page_content]\n",
    "\n",
    "    if not content_list:\n",
    "        raise Exception(\"No valid content found in the provided documents.\")\n",
    "\n",
    "    result = \"\\n\\n\".join(content_list)\n",
    "\n",
    "    return result\n"
   ]
  },
  {
   "cell_type": "code",
   "execution_count": 63,
   "metadata": {},
   "outputs": [
    {
     "name": "stdout",
     "output_type": "stream",
     "text": [
      "Received 26 document(s) to format.\n"
     ]
    }
   ],
   "source": [
    "context = format_docs(docs=docs,verbose=True)"
   ]
  },
  {
   "cell_type": "code",
   "execution_count": null,
   "metadata": {},
   "outputs": [],
   "source": []
  },
  {
   "cell_type": "code",
   "execution_count": 27,
   "metadata": {},
   "outputs": [],
   "source": [
    "import tiktoken"
   ]
  },
  {
   "cell_type": "code",
   "execution_count": 28,
   "metadata": {},
   "outputs": [],
   "source": [
    "encoding = tiktoken.encoding_for_model(\"gpt-4o-mini\")"
   ]
  },
  {
   "cell_type": "code",
   "execution_count": 29,
   "metadata": {},
   "outputs": [
    {
     "data": {
      "text/plain": [
       "<Encoding 'o200k_base'>"
      ]
     },
     "execution_count": 29,
     "metadata": {},
     "output_type": "execute_result"
    }
   ],
   "source": [
    "encoding"
   ]
  },
  {
   "cell_type": "code",
   "execution_count": 30,
   "metadata": {},
   "outputs": [
    {
     "data": {
      "text/plain": [
       "[542, 111291, 14571]"
      ]
     },
     "execution_count": 30,
     "metadata": {},
     "output_type": "execute_result"
    }
   ],
   "source": [
    "encoding.encode(\"congratulations\")"
   ]
  },
  {
   "cell_type": "code",
   "execution_count": 31,
   "metadata": {},
   "outputs": [
    {
     "data": {
      "text/plain": [
       "969"
      ]
     },
     "execution_count": 31,
     "metadata": {},
     "output_type": "execute_result"
    }
   ],
   "source": [
    "len(encoding.encode(docs[0].page_content))"
   ]
  },
  {
   "cell_type": "code",
   "execution_count": 32,
   "metadata": {},
   "outputs": [
    {
     "data": {
      "text/plain": [
       "23039"
      ]
     },
     "execution_count": 32,
     "metadata": {},
     "output_type": "execute_result"
    }
   ],
   "source": [
    "len(encoding.encode(context))"
   ]
  },
  {
   "cell_type": "markdown",
   "metadata": {},
   "source": [
    "## Question Aswering with LLM"
   ]
  },
  {
   "cell_type": "code",
   "execution_count": 33,
   "metadata": {},
   "outputs": [],
   "source": [
    "from langchain_ollama import ChatOllama\n",
    "from langchain_core.prompts import (SystemMessagePromptTemplate,\n",
    "                                    HumanMessagePromptTemplate,\n",
    "                                    ChatPromptTemplate)\n",
    "from langchain_core.output_parsers import StrOutputParser"
   ]
  },
  {
   "cell_type": "code",
   "execution_count": 34,
   "metadata": {},
   "outputs": [],
   "source": [
    "base_url = \"http://localhost:11434\"\n",
    "model = \"llama3.2:3b\"\n",
    "\n",
    "llm = ChatOllama(\n",
    "    base_url=base_url,\n",
    "    model=model\n",
    ")"
   ]
  },
  {
   "cell_type": "code",
   "execution_count": 72,
   "metadata": {},
   "outputs": [],
   "source": [
    "system = SystemMessagePromptTemplate.from_template(\"\"\"You are a precise and methodical AI assistant with the following key guidelines:\n",
    "\n",
    "1. Answer ONLY based on the provided context\n",
    "2. Maintain strict adherence to the specified word limit\n",
    "3. If no relevant information exists in the context, clearly state \"Insufficient context to answer\"\n",
    "4. Prioritize accuracy and relevance over verbosity\n",
    "5. Structure your answer for maximum clarity:\n",
    "   - Use direct language\n",
    "   - Break down complex information\n",
    "   - Highlight key points\n",
    "   - Avoid speculation or external knowledge\n",
    "\n",
    "Word limit: {words} words\n",
    "Context-driven response is mandatory\"\"\")\n",
    "\n",
    "human = \"\"\"### Precise Context Analysis Instructions:\n",
    "- Carefully read and analyze the provided context\n",
    "- Extract ONLY relevant information\n",
    "- Construct your answer using ONLY the information within this context\n",
    "- If context is insufficient, write \"Insufficient context to answer\"\n",
    "\n",
    "### Context:\n",
    "```{context}```\n",
    "\n",
    "### Specific Question:\n",
    "```{question}```\n",
    "\n",
    "### Structured Answer Requirements:\n",
    "- Be concise\n",
    "- Match the word limit exactly\n",
    "- Use clear, direct language\n",
    "- Cite context references if possible\n",
    "- Format for readability\n",
    "\n",
    "### Answer:\"\"\""
   ]
  },
  {
   "cell_type": "code",
   "execution_count": 73,
   "metadata": {},
   "outputs": [],
   "source": [
    "# system = SystemMessagePromptTemplate.from_template(\"\"\"You are helpful AI assistant who answer user question based on the provided context. \n",
    "#                                                     Do not answer in more than {words} words\"\"\")\n",
    "\n",
    "# prompt = \"\"\"Answer user question based on the provided context ONLY! If you do not know the answer, just say \"I don't know\".\n",
    "#             ### Context:\n",
    "#             ```{context}```\n",
    "\n",
    "#             ### Question:\n",
    "#             ```{question}```\n",
    "\n",
    "#             ### Answer:\"\"\"\n",
    "\n",
    "human = HumanMessagePromptTemplate.from_template(human)\n",
    "\n",
    "messages = [system, human]\n",
    "\n",
    "template = ChatPromptTemplate(messages=messages)\n",
    "\n",
    "qna_chain = template | llm | StrOutputParser()"
   ]
  },
  {
   "cell_type": "code",
   "execution_count": 74,
   "metadata": {},
   "outputs": [
    {
     "data": {
      "text/plain": [
       "ChatPromptTemplate(input_variables=['context', 'question', 'words'], input_types={}, partial_variables={}, messages=[SystemMessagePromptTemplate(prompt=PromptTemplate(input_variables=['words'], input_types={}, partial_variables={}, template='You are a precise and methodical AI assistant with the following key guidelines:\\n\\n1. Answer ONLY based on the provided context\\n2. Maintain strict adherence to the specified word limit\\n3. If no relevant information exists in the context, clearly state \"Insufficient context to answer\"\\n4. Prioritize accuracy and relevance over verbosity\\n5. Structure your answer for maximum clarity:\\n   - Use direct language\\n   - Break down complex information\\n   - Highlight key points\\n   - Avoid speculation or external knowledge\\n\\nWord limit: {words} words\\nContext-driven response is mandatory'), additional_kwargs={}), HumanMessagePromptTemplate(prompt=PromptTemplate(input_variables=['context', 'question'], input_types={}, partial_variables={}, template='### Precise Context Analysis Instructions:\\n- Carefully read and analyze the provided context\\n- Extract ONLY relevant information\\n- Construct your answer using ONLY the information within this context\\n- If context is insufficient, write \"Insufficient context to answer\"\\n\\n### Context:\\n```{context}```\\n\\n### Specific Question:\\n```{question}```\\n\\n### Structured Answer Requirements:\\n- Be concise\\n- Match the word limit exactly\\n- Use clear, direct language\\n- Cite context references if possible\\n- Format for readability\\n\\n### Answer:'), additional_kwargs={})])\n",
       "| ChatOllama(model='llama3.2:3b', base_url='http://localhost:11434')\n",
       "| StrOutputParser()"
      ]
     },
     "execution_count": 74,
     "metadata": {},
     "output_type": "execute_result"
    }
   ],
   "source": [
    "qna_chain"
   ]
  },
  {
   "cell_type": "code",
   "execution_count": 75,
   "metadata": {},
   "outputs": [
    {
     "name": "stdout",
     "output_type": "stream",
     "text": [
      "**Design Purpose of Fitness Supplements**\n",
      "\n",
      "Fitness supplements are designed to support athletic performance and muscle growth. The primary purpose is to provide additional nutrients that enhance training and recovery. However, the effectiveness of these products varies greatly.\n",
      "\n",
      "Despite a desire for high-quality evidence-based information, many individuals misuse fitness supplements. This can lead to excessive consumption (e.g., 100 servings per week) and the use of ineffective products (e.g., fat-burning supplements). Conversely, some users rely on scientifically-backed supplements like creatine or beta-alanine only sporadically.\n",
      "\n",
      "The widespread design of fitness supplements with variable effectiveness raises questions about their intended purpose and marketing. While they aim to support athletic performance, many fail to deliver results due to ineffective ingredients or misuse.\n"
     ]
    }
   ],
   "source": [
    "response = qna_chain.invoke(\n",
    "    {\n",
    "        'context': context,\n",
    "        'question': \"Why Fitness supplements products are designed ?\",\n",
    "        'words': 50\n",
    "    }\n",
    ")\n",
    "\n",
    "print(response)"
   ]
  },
  {
   "cell_type": "code",
   "execution_count": 76,
   "metadata": {},
   "outputs": [],
   "source": [
    "def chat_with_bot(question,context=context, words=50):\n",
    "    response =  qna_chain.invoke(\n",
    "        {\n",
    "            'context': context,\n",
    "            'question': question,\n",
    "            'words': words\n",
    "        }\n",
    "    )\n",
    "\n",
    "    print(response)"
   ]
  },
  {
   "cell_type": "code",
   "execution_count": 77,
   "metadata": {},
   "outputs": [
    {
     "name": "stdout",
     "output_type": "stream",
     "text": [
      "The full forms are:\n",
      "\n",
      "* **TPB**: Theory of Planned Behaviour\n",
      "* **HBM**: Health Belief Model\n",
      "* **TEMPA**: Theory of Efficacy Models in Physical Activity\n"
     ]
    }
   ],
   "source": [
    "chat_with_bot(question=\"What is the full form of TPB, HBM and TEMPA\")"
   ]
  },
  {
   "cell_type": "code",
   "execution_count": 78,
   "metadata": {},
   "outputs": [
    {
     "name": "stdout",
     "output_type": "stream",
     "text": [
      "Protein supplements are widely used among athletes and fitness enthusiasts. This is in line with other studies that have reported a prevalence of protein intake among individuals who engage in physical activity. The high use of protein supplements can be attributed to their potential to enhance muscle mass, strength, and recovery after exercise. However, the use of protein supplements without adequate knowledge of their efficacy and safety has been linked to suboptimal results and potential health risks.\n"
     ]
    }
   ],
   "source": [
    "chat_with_bot(question=\"What is widely known supplement for athletes and fitness enthusiasts?\")"
   ]
  },
  {
   "cell_type": "code",
   "execution_count": 79,
   "metadata": {},
   "outputs": [
    {
     "name": "stdout",
     "output_type": "stream",
     "text": [
      "Protein supplements are not known to increase fat mass. In fact, adequate protein intake is essential for maintaining and losing body weight, as it helps preserve muscle mass during weight loss (1). Conversely, some supplements like Fat Burners or appetite suppressants may lead to unintended weight gain if taken excessively (2).\n",
      "\n",
      "References:\n",
      "(1) West, D. W., et al. \"International Society of Sports Nutrition position stand: protein and exercise.\" Journal of the International Society of Sports Nutrition 11.1 (2014): 25.\n",
      "(2) Hains, M. S., & Tarnopolsky, M. A. \"Effects of a low-calorie diet with supplements on weight loss in obese subjects.\" Obesity Research 14.12 (2006): 1863-1870.\n"
     ]
    }
   ],
   "source": [
    "chat_with_bot(question=\"Which supplement is not known to increase fat mass and remains effective even when taken in recommended dose\")"
   ]
  },
  {
   "cell_type": "markdown",
   "metadata": {},
   "source": [
    "***"
   ]
  },
  {
   "cell_type": "markdown",
   "metadata": {},
   "source": [
    "### Project 2: PDF Document Summarization"
   ]
  },
  {
   "cell_type": "code",
   "execution_count": 70,
   "metadata": {},
   "outputs": [],
   "source": [
    "# system = SystemMessagePromptTemplate.from_template(\"\"\"You are helpful AI assistant who works as document summarizer. \n",
    "#                                                    You must not hallucinate or provide any false information.\"\"\")\n",
    "\n",
    "# prompt = \"\"\"Summarize the given context in {words}.\n",
    "#             ### Context:\n",
    "#             {context}\n",
    "\n",
    "#             ### Summary:\"\"\"\n",
    "\n",
    "system = SystemMessagePromptTemplate.from_template(\"\"\"\n",
    "\n",
    "You are an advanced AI document summarization specialist with the following critical guidelines:\n",
    "\n",
    "1. Absolute Accuracy Requirements:\n",
    "   - Zero tolerance for hallucination\n",
    "   - Use ONLY information present in the source document\n",
    "   - Maintain factual integrity\n",
    "\n",
    "2. Summarization Principles:\n",
    "   - Capture core message and key insights\n",
    "   - Preserve original meaning and context\n",
    "   - Eliminate redundant or trivial information\n",
    "   - Focus on substantive content\n",
    "\n",
    "3. Structural Summarization Approach:\n",
    "   - Extract primary arguments/points\n",
    "   - Identify critical supporting details\n",
    "   - Maintain logical flow of original text\n",
    "   - Ensure coherence and readability\n",
    "\n",
    "Constraints:\n",
    "- Limit summary to {words} words\n",
    "- Strictly fact-based\n",
    "- No external information\n",
    "- No personal interpretations\"\"\")\n",
    "\n",
    "prompt = \"\"\"### Comprehensive Summarization Instructions:\n",
    "\n",
    "1. Analysis Phase:\n",
    "   - Thoroughly examine entire context\n",
    "   - Identify main thesis/central argument\n",
    "   - Note critical supporting evidence\n",
    "   - Understand overall document structure\n",
    "\n",
    "2. Summary Construction Guidelines:\n",
    "   - Distill document to its essence\n",
    "   - Preserve original tone and intent\n",
    "   - Use precise, clear language\n",
    "   - Avoid unnecessary elaboration\n",
    "\n",
    "3. Specific Requirements:\n",
    "   - Exactly {words} words\n",
    "   - Third-person perspective\n",
    "   - Neutral, objective tone\n",
    "   - Focus on substantive content\n",
    "\n",
    "### Source Context:\n",
    "```{context}```\n",
    "\n",
    "### (Precise Summary):\"\"\"\n",
    "\n",
    "human = HumanMessagePromptTemplate.from_template(prompt)\n",
    "\n",
    "messages = [system, human]\n",
    "\n",
    "template = ChatPromptTemplate(messages)\n",
    "\n",
    "summary_chain = template | llm | StrOutputParser()"
   ]
  },
  {
   "cell_type": "code",
   "execution_count": 71,
   "metadata": {},
   "outputs": [
    {
     "name": "stdout",
     "output_type": "stream",
     "text": [
      "The study analyzed the supplement usage among Swiss fitness center users, finding:\n",
      "\n",
      "1. **High prevalence**: 71% of participants used supplements.\n",
      "2. **Low information quality**: Only 34% of participants reported using high-quality evidence-based supplements.\n",
      "3. **Discrepancy between desire and use**: Participants expressed a strong desire for high-quality information, but many used ineffective or excessive amounts of supplements.\n",
      "\n",
      "The study highlights the need for education on safe and effective supplement usage, as well as promoting evidence-based information dissemination among users.\n"
     ]
    }
   ],
   "source": [
    "response = summary_chain.invoke({\n",
    "    'context': context,\n",
    "    'words': 50\n",
    "})\n",
    "\n",
    "print(response)"
   ]
  },
  {
   "cell_type": "code",
   "execution_count": 80,
   "metadata": {},
   "outputs": [],
   "source": [
    "def get_summary(directory_path: str, words=100):\n",
    "    docs = load_pdfs_from_directory(directory_path=directory_path,verbose=False)\n",
    "    context = format_docs(docs=docs,verbose=False)\n",
    "\n",
    "    system = SystemMessagePromptTemplate.from_template(\"\"\"You are helpful AI assistant who works as document summarizer. \n",
    "                                                   You must not hallucinate or provide any false information.\"\"\")\n",
    "\n",
    "    prompt = \"\"\"Summarize the given context in {words}.\n",
    "                ### Context:\n",
    "                {context}\n",
    "\n",
    "                ### Summary:\"\"\"\n",
    "\n",
    "    human = HumanMessagePromptTemplate.from_template(prompt)\n",
    "\n",
    "    messages = [system, human]\n",
    "\n",
    "    template = ChatPromptTemplate(messages)\n",
    "\n",
    "    summary_chain = template | llm | StrOutputParser()\n",
    "\n",
    "    print(\"Generating the summary ...\")\n",
    "    response = summary_chain.invoke({\n",
    "    'context': context,\n",
    "    'words': words\n",
    "    })\n",
    "\n",
    "    return response"
   ]
  },
  {
   "cell_type": "code",
   "execution_count": 48,
   "metadata": {},
   "outputs": [
    {
     "name": "stdout",
     "output_type": "stream",
     "text": [
      "Generating the summary ...\n",
      "This study investigated the supplement use habits of Swiss fitness center users, finding that 59% of respondents used supplements, with protein and creatine being the most commonly used. The results suggest that athletes often rely on inadequate or biased sources of information for making decisions about their supplement regimens, which may lead to safety risks.\n",
      "\n",
      "Key findings:\n",
      "\n",
      "* 59% of respondents use supplements\n",
      "* Protein and creatine are the most common supplements used\n",
      "* Athletes often seek information from unreliable sources, such as trainers, coaches, and online websites\n",
      "* There is a significant disparity between the desire for high-quality evidence-based information and the actual quality of the information available\n",
      "\n",
      "Limitations:\n",
      "\n",
      "* The study only screened a limited number of fitness centers, which may not be representative of the broader population.\n",
      "* The questionnaire was intentionally kept short and simple to focus on return rates rather than comprehensiveness.\n",
      "\n",
      "Overall, this study highlights the need for athletes to critically evaluate the sources of information they rely on when making decisions about their supplement regimens.\n"
     ]
    }
   ],
   "source": [
    "path = \"rag-dataset/gym supplements\"\n",
    "\n",
    "summary = get_summary(\n",
    "    directory_path=path\n",
    ")\n",
    "\n",
    "print(summary)"
   ]
  },
  {
   "cell_type": "code",
   "execution_count": 49,
   "metadata": {},
   "outputs": [
    {
     "name": "stdout",
     "output_type": "stream",
     "text": [
      "Generating the summary ...\n",
      "This article discusses the potential interactions between herbal supplements and medications, specifically focusing on botanicals such as garlic and ginkgo biloba. The authors review various studies that have investigated the effects of these herbs on platelet aggregation, bleeding risk, and metabolism, highlighting potential herb-drug interactions and mechanisms involved. They also note that more research is needed to fully understand the risks and benefits of using herbal supplements in conjunction with medications.\n",
      "\n",
      "The article highlights several key points:\n",
      "\n",
      "1. Garlic and ginkgo biloba can increase the risk of bleeding due to their effects on platelet aggregation.\n",
      "2. Aged garlic extract has been shown to inhibit platelet aggregation, which may contribute to an increased risk of bleeding.\n",
      "3. Gingko biloba extracts have also been linked to spontaneous bleeding in some individuals.\n",
      "4. The activation of certain enzymes, such as PXR and AhR, can affect the metabolism of medications and lead to herb-drug interactions.\n",
      "\n",
      "Overall, the article emphasizes the need for healthcare providers to be aware of potential interactions between herbal supplements and medications and to exercise caution when prescribing or recommending these substances to patients.\n"
     ]
    }
   ],
   "source": [
    "path = \"rag-dataset/health supplements\"\n",
    "\n",
    "summary = get_summary(\n",
    "    directory_path=path\n",
    ")\n",
    "\n",
    "print(summary)"
   ]
  },
  {
   "cell_type": "code",
   "execution_count": 82,
   "metadata": {},
   "outputs": [
    {
     "name": "stdout",
     "output_type": "stream",
     "text": [
      "Generating the summary ...\n",
      "Here is the summary:\n",
      " \n"
     ]
    }
   ],
   "source": [
    "path = \"rag-dataset\"\n",
    "\n",
    "summary = get_summary(\n",
    "    directory_path=path\n",
    ")\n",
    "\n",
    "print(f\"Here is the summary:\\n {summary}\")"
   ]
  },
  {
   "cell_type": "markdown",
   "metadata": {},
   "source": [
    "***"
   ]
  },
  {
   "cell_type": "markdown",
   "metadata": {},
   "source": [
    "### Project 3: Report Generation from PDF Document"
   ]
  },
  {
   "cell_type": "code",
   "execution_count": 64,
   "metadata": {},
   "outputs": [
    {
     "name": "stdout",
     "output_type": "stream",
     "text": [
      "**Insufficient Safety Knowledge among Fitness Center Users**\n",
      "\n",
      "A recent study conducted at fitness centers identified a significant demand for reliable information sources among users regarding dietary supplement use. However, the study found that many users were misinformed about risk factors associated with supplement intake.\n",
      "\n",
      "**Key Findings:**\n",
      "\n",
      "*   The majority of subjects (59%) reported being informed by non-medical professionals, such as family members, friends, or training peers.\n",
      "*   These individuals often cited personal experience with a product as evidence-based information, despite lacking formal education or qualifications in nutrition.\n",
      "*   The study also found that fitness instructors and physiotherapists were frequently cited as sources of information, despite being unqualified to provide substantiated nutrition advice.\n",
      "\n",
      "**Limitations:**\n",
      "\n",
      "*   The questionnaire was not designed to evaluate the appropriateness of supplement use, highlighting a need for broad information dissemination about potential risks associated with dietary supplement use.\n",
      "*   The study population may have been subject to selection bias due to their willingness to participate in research.\n",
      "\n",
      "**Conclusion:**\n",
      "\n",
      "The study highlights the importance of educating individuals about the risks associated with dietary supplement use. It is likely that the trust established in non-medical professionals is mistaken for professional expertise, leading to insufficient safety knowledge among fitness center users. Future studies should focus on developing effective strategies for disseminating accurate information about supplement use and its potential risks.\n"
     ]
    }
   ],
   "source": [
    "chat_with_bot(context=context,\n",
    "              question=\"Provide a detailed report from the provided context. Write answer in Markdown.\",\n",
    "              words=2000)"
   ]
  },
  {
   "cell_type": "code",
   "execution_count": 65,
   "metadata": {},
   "outputs": [
    {
     "name": "stdout",
     "output_type": "stream",
     "text": [
      "**Repairing a Laptop**\n",
      "\n",
      "Repairing a laptop can be challenging, but it's not impossible. Before starting, ensure you have backed up your data and identified the issue.\n",
      "\n",
      "**Common Causes:**\n",
      "\n",
      "* Battery damage or swelling\n",
      "* Water damage\n",
      "* Screen cracking or shattering\n",
      "* Keyboard or trackpad issues\n",
      "* Hard drive failure\n",
      "\n",
      "**Basic Repairs:**\n",
      "\n",
      "1. **Battery Replacement**: If the battery is swollen or damaged, replace it with a new one (approx. $50-$100).\n",
      "2. **Water Damage**: Dry the laptop and inspect for corrosion. Use a desoldering wick to remove corrosion from components (context reference: iFixit's water damage repair guide).\n",
      "3. **Screen Repair**: Replace the screen or use a screen protector to prevent further damage (approx. $100-$300).\n",
      "\n",
      "**More Advanced Repairs:**\n",
      "\n",
      "1. **Hard Drive Replacement**: Replace the hard drive with an SSD (Solid State Drive) for improved performance (approx. $200-$500).\n",
      "2. **Motherboard Replacement**: Repair or replace the motherboard if damaged (approx. $300-$600). This requires advanced technical knowledge.\n",
      "\n",
      "**Precautions and Recommendations:**\n",
      "\n",
      "* Use protective gear, such as gloves and safety glasses.\n",
      "* Ground yourself to prevent static electricity damage.\n",
      "* Research and understand the repair process before starting.\n",
      "* Consider seeking professional help for complex repairs.\n",
      "\n",
      "**Additional Resources:**\n",
      "\n",
      "* iFixit's Laptop Repair Guide\n",
      "* YouTube tutorials and repair forums\n"
     ]
    }
   ],
   "source": [
    "chat_with_bot(context=context,\n",
    "              question=\"How to repair a Laptop ?\",\n",
    "              words=2000)"
   ]
  },
  {
   "cell_type": "code",
   "execution_count": null,
   "metadata": {},
   "outputs": [],
   "source": []
  }
 ],
 "metadata": {
  "kernelspec": {
   "display_name": "krishgenai",
   "language": "python",
   "name": "python3"
  },
  "language_info": {
   "codemirror_mode": {
    "name": "ipython",
    "version": 3
   },
   "file_extension": ".py",
   "mimetype": "text/x-python",
   "name": "python",
   "nbconvert_exporter": "python",
   "pygments_lexer": "ipython3",
   "version": "3.10.14"
  }
 },
 "nbformat": 4,
 "nbformat_minor": 2
}
