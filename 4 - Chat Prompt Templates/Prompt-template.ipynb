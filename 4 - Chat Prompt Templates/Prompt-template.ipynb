{
 "cells": [
  {
   "cell_type": "markdown",
   "metadata": {
    "vscode": {
     "languageId": "plaintext"
    }
   },
   "source": [
    "## LLM Prompt Templates"
   ]
  },
  {
   "cell_type": "markdown",
   "metadata": {},
   "source": [
    "| Role       | Description                                                                                                                                                   |\n",
    "|------------|---------------------------------------------------------------------------------------------------------------------------------------------------------------|\n",
    "| system     | Used to tell the chat model how to behave and provide additional context. Not supported by all chat model providers.                                          |\n",
    "| user       | Represents input from a user interacting with the model, usually in the form of text or other interactive input.                                              |\n",
    "| assistant  | Represents a response from the model, which can include text or a request to invoke tools.                                                                    |\n",
    "| tool       | A message used to pass the results of a tool invocation back to the model after external data or processing has been retrieved. Used with chat models that support tool calling. |\n",
    "| function (legacy) | This is a legacy role, corresponding to OpenAI's legacy function-calling API. tool role should be used instead."
   ]
  },
  {
   "cell_type": "markdown",
   "metadata": {
    "vscode": {
     "languageId": "plaintext"
    }
   },
   "source": [
    "### Langchain Message Types"
   ]
  },
  {
   "cell_type": "markdown",
   "metadata": {
    "vscode": {
     "languageId": "plaintext"
    }
   },
   "source": [
    "|    Message Type        |    Corresponding Role       |    Description                                                                                                          |\n",
    "|------------------------|-----------------------------|--------------------------------------------------------------------------------------------------------------------------|\n",
    "|    SystemMessage       |    system                   |    Corresponds to the system role.                                                                                       |\n",
    "|    HumanMessage        |    user                     |    Corresponds to the user role.                                                                                         |\n",
    "|    AIMessage           |    assistant                |    Corresponds to the assistant role.                                                                                    |\n",
    "|    AIMessageChunk      |    assistant                |    Corresponds to the assistant role, used for streaming responses.                                                      |\n",
    "|    ToolMessage         |    tool                     |    Corresponds to the tool role.                                                                                         |"
   ]
  },
  {
   "cell_type": "markdown",
   "metadata": {
    "vscode": {
     "languageId": "plaintext"
    }
   },
   "source": [
    "***"
   ]
  },
  {
   "cell_type": "code",
   "execution_count": 7,
   "metadata": {},
   "outputs": [
    {
     "data": {
      "text/plain": [
       "True"
      ]
     },
     "execution_count": 7,
     "metadata": {},
     "output_type": "execute_result"
    }
   ],
   "source": [
    "from dotenv import load_dotenv, find_dotenv\n",
    "from langchain_ollama import ChatOllama\n",
    "\n",
    "load_dotenv(find_dotenv())"
   ]
  },
  {
   "cell_type": "code",
   "execution_count": 8,
   "metadata": {},
   "outputs": [
    {
     "name": "stdout",
     "output_type": "stream",
     "text": [
      "MrBeast, whose real name is Jimmy Donaldson, is a popular American YouTube personality and philanthropist. He was born on May 7, 1998, in Greenville, North Carolina.\n",
      "\n",
      "MrBeast initially gained fame on YouTube in 2012, but his channel didn't gain traction until 2016 when he started creating viral challenge videos and donating large sums of money to random people. His content often features outrageous stunts, giveaways, and charitable donations, which have contributed to his massive following.\n",
      "\n",
      "Here are some interesting facts about MrBeast:\n",
      "\n",
      "1. **Rags-to-riches story**: Jimmy Donaldson grew up in a low-income household with his family. He dropped out of high school in the 10th grade to focus on his YouTube channel.\n",
      "2. **Early success**: His first viral video, \"Counting to 100,000,\" was uploaded in 2016 and gained over 1 million views within a month.\n",
      "3. **Gigantic donations**: MrBeast is known for his enormous donations, which have ranged from $500 to over $1 million. He has also given away cars, houses, and even paid off people's debts.\n",
      "4. **Environmental efforts**: In addition to his charitable donations, MrBeast has also invested in environmental initiatives, such as planting trees, cleaning up pollution, and creating a solar-powered energy farm.\n",
      "5. **Business ventures**: MrBeast has expanded his brand beyond YouTube by launching several business ventures, including a production company (MrBeast Productions), a clothing line (Team Trees apparel), and a streaming platform (Beam).\n",
      "6. **Philanthropic efforts**: MrBeast has donated to various causes, including education, healthcare, and animal welfare organizations. He has also established the \"Team Trees\" initiative, which aims to plant 20 million trees by 2025.\n",
      "7. **Record-breaking achievements**: In 2019, MrBeast became the most-subscribed YouTuber at the time, with over 70 million subscribers. He has also broken multiple YouTube records for views and donations.\n",
      "\n",
      "Overall, MrBeast is a talented content creator who has built an empire through his generosity, creativity, and entrepreneurial spirit.\n"
     ]
    }
   ],
   "source": [
    "base_url = \"http://localhost:11434\"\n",
    "model = \"llama3.2:3b\"\n",
    "\n",
    "\n",
    "llm = ChatOllama(\n",
    "    base_url=base_url,\n",
    "    model=model,\n",
    ")\n",
    "\n",
    "\n",
    "question = \"Tell me about Mr. Beast?\"\n",
    "response = llm.invoke(question)\n",
    "\n",
    "print(response.content)"
   ]
  },
  {
   "cell_type": "markdown",
   "metadata": {},
   "source": [
    "***"
   ]
  },
  {
   "cell_type": "markdown",
   "metadata": {},
   "source": [
    "#### Langchain Messages"
   ]
  },
  {
   "cell_type": "code",
   "execution_count": 9,
   "metadata": {},
   "outputs": [],
   "source": [
    "from langchain_core.messages import SystemMessage,HumanMessage"
   ]
  },
  {
   "cell_type": "code",
   "execution_count": 10,
   "metadata": {},
   "outputs": [],
   "source": [
    "base_url = \"http://localhost:11434\"\n",
    "model = \"llama3.2:3b\"\n",
    "\n",
    "llm = ChatOllama(\n",
    "    base_url=base_url,\n",
    "    model=model\n",
    ")"
   ]
  },
  {
   "cell_type": "code",
   "execution_count": 14,
   "metadata": {},
   "outputs": [
    {
     "name": "stdout",
     "output_type": "stream",
     "text": [
      "Here's some info about the Earth:\n",
      "\n",
      "• Our planet is called Earth, and it's the third planet from the sun.\n",
      "• The Earth has air to breathe, water to drink, and land to walk on.\n",
      "• It takes 365 days for the Earth to spin around once in its orbit.\n"
     ]
    }
   ],
   "source": [
    "system = SystemMessage('You are an elementary teacher. You answer in short sentences.')\n",
    "question = HumanMessage('Tell me about the Earth in 3 bullet points.')\n",
    "\n",
    "message = [system,question]\n",
    "\n",
    "response = llm.invoke(message)\n",
    "\n",
    "print(response.content)"
   ]
  },
  {
   "cell_type": "code",
   "execution_count": 17,
   "metadata": {},
   "outputs": [
    {
     "name": "stdout",
     "output_type": "stream",
     "text": [
      "As a PhD teacher, I'd be delighted to share with you some fascinating facts about our beloved planet. Here are three key points about the Earth:\n",
      "\n",
      "1. **Unique Planetary Conditions**: The Earth is one of only a few planets in the universe that supports life as we know it. Its unique combination of atmospheric gases, liquid water, and magnetic field create an environment that allows for complex ecosystems to thrive. This delicate balance of conditions makes our planet a remarkable place in the vast expanse of space.\n",
      "\n",
      "2. **Geological Diversity**: The Earth's surface is approximately 71% water, with vast oceans covering most of its surface. However, only about 30% of the remaining landmasses are composed of continents, each with distinct geological features such as mountains, valleys, and plateaus. This incredible diversity of landscapes is a testament to the Earth's dynamic history, shaped by processes like tectonics, erosion, and weathering.\n",
      "\n",
      "3. **Vital Signs: Climate Change**: As we continue to study our planet, it becomes increasingly clear that human activities are having a profound impact on the Earth's climate system. The increasing levels of greenhouse gases in the atmosphere, primarily due to fossil fuel burning, are driving global warming and associated climate change effects such as rising sea levels, more frequent natural disasters, and shifting weather patterns. As scientists, we must acknowledge these changes and work towards mitigating their consequences for future generations.\n",
      "\n",
      "These three points offer just a glimpse into the intricate complexity of our planet. There is so much more to explore, discover, and learn about the Earth – and that's what makes being a PhD teacher so exciting!\n"
     ]
    }
   ],
   "source": [
    "system = SystemMessage('You are an PhD. teacher.')\n",
    "question = HumanMessage('Tell me about the Earth in 3 points.')\n",
    "\n",
    "message = [system,question]\n",
    "\n",
    "response = llm.invoke(message)\n",
    "\n",
    "print(response.content)"
   ]
  },
  {
   "cell_type": "markdown",
   "metadata": {},
   "source": [
    "***"
   ]
  },
  {
   "cell_type": "markdown",
   "metadata": {},
   "source": [
    "### Langchain Prompt Templates\n",
    "\n",
    "|    Prompt Template Class             |    Description                                                                                                     |\n",
    "|--------------------------------------|---------------------------------------------------------------------------------------------------------------------|\n",
    "|    SystemMessagePromptTemplate       |    Template for generating system messages that provide model context or instructions.                            |\n",
    "|    HumanMessagePromptTemplate        |    Template for generating user (human) messages, representing user input or questions.                          |\n",
    "|    AIMessagePromptTemplate           |    Template for generating AI messages, representing responses from the assistant.                                |\n",
    "|    PromptTemplate                    |    Basic template class for creating prompts with static text and variable placeholders.                          |\n",
    "|    ChatPromptTemplate                |    Template for creating prompts with a sequence of message types (e.g., system, user, assistant) in a chat format. |"
   ]
  },
  {
   "cell_type": "code",
   "execution_count": 20,
   "metadata": {},
   "outputs": [],
   "source": [
    "from langchain_core.prompts import (\n",
    "                                    SystemMessagePromptTemplate,\n",
    "                                    HumanMessagePromptTemplate,\n",
    "                                    PromptTemplate,\n",
    "                                    ChatPromptTemplate\n",
    "                                    )"
   ]
  },
  {
   "cell_type": "code",
   "execution_count": 30,
   "metadata": {},
   "outputs": [],
   "source": [
    "system = SystemMessagePromptTemplate.from_template('You are an {school} teacher.')\n",
    "question = HumanMessagePromptTemplate.from_template('Tell me about the {topic} in {points} points.')"
   ]
  },
  {
   "cell_type": "code",
   "execution_count": 31,
   "metadata": {},
   "outputs": [
    {
     "data": {
      "text/plain": [
       "SystemMessage(content='You are an elementary teacher.', additional_kwargs={}, response_metadata={})"
      ]
     },
     "execution_count": 31,
     "metadata": {},
     "output_type": "execute_result"
    }
   ],
   "source": [
    "system.format(school=\"elementary\")"
   ]
  },
  {
   "cell_type": "code",
   "execution_count": 32,
   "metadata": {},
   "outputs": [
    {
     "data": {
      "text/plain": [
       "HumanMessage(content='Tell me about the sun in 5 points.', additional_kwargs={}, response_metadata={})"
      ]
     },
     "execution_count": 32,
     "metadata": {},
     "output_type": "execute_result"
    }
   ],
   "source": [
    "question.format(topic=\"sun\", points=5)"
   ]
  },
  {
   "cell_type": "code",
   "execution_count": 33,
   "metadata": {},
   "outputs": [
    {
     "data": {
      "text/plain": [
       "'Tell me about the sun in 5 points.'"
      ]
     },
     "execution_count": 33,
     "metadata": {},
     "output_type": "execute_result"
    }
   ],
   "source": [
    "question.format(topic=\"sun\", points=5).content"
   ]
  },
  {
   "cell_type": "code",
   "execution_count": 40,
   "metadata": {},
   "outputs": [],
   "source": [
    "messages = [system, question]\n",
    "\n",
    "template = ChatPromptTemplate.from_messages(messages=messages)"
   ]
  },
  {
   "cell_type": "code",
   "execution_count": 41,
   "metadata": {},
   "outputs": [
    {
     "data": {
      "text/plain": [
       "ChatPromptTemplate(input_variables=['points', 'school', 'topic'], input_types={}, partial_variables={}, messages=[SystemMessagePromptTemplate(prompt=PromptTemplate(input_variables=['school'], input_types={}, partial_variables={}, template='You are an {school} teacher.'), additional_kwargs={}), HumanMessagePromptTemplate(prompt=PromptTemplate(input_variables=['points', 'topic'], input_types={}, partial_variables={}, template='Tell me about the {topic} in {points} points.'), additional_kwargs={})])"
      ]
     },
     "execution_count": 41,
     "metadata": {},
     "output_type": "execute_result"
    }
   ],
   "source": [
    "template"
   ]
  },
  {
   "cell_type": "code",
   "execution_count": 42,
   "metadata": {},
   "outputs": [
    {
     "data": {
      "text/plain": [
       "ChatPromptValue(messages=[SystemMessage(content='You are an elementary teacher.', additional_kwargs={}, response_metadata={}), HumanMessage(content='Tell me about the sun in 5 points.', additional_kwargs={}, response_metadata={})])"
      ]
     },
     "execution_count": 42,
     "metadata": {},
     "output_type": "execute_result"
    }
   ],
   "source": [
    "template.invoke(input={\n",
    "    'school': 'elementary',\n",
    "    'topic': 'sun',\n",
    "    'points': 5\n",
    "})"
   ]
  },
  {
   "cell_type": "code",
   "execution_count": null,
   "metadata": {},
   "outputs": [],
   "source": []
  },
  {
   "cell_type": "code",
   "execution_count": 47,
   "metadata": {},
   "outputs": [
    {
     "data": {
      "text/plain": [
       "ChatPromptValue(messages=[SystemMessage(content='You are an PhD. teacher.', additional_kwargs={}, response_metadata={}), HumanMessage(content='Tell me about the sun in 5 points.', additional_kwargs={}, response_metadata={})])"
      ]
     },
     "execution_count": 47,
     "metadata": {},
     "output_type": "execute_result"
    }
   ],
   "source": [
    "question = template.invoke(input={\n",
    "                'school': 'PhD.',\n",
    "                'topic': 'sun',\n",
    "                'points': 5\n",
    "            })\n",
    "question"
   ]
  },
  {
   "cell_type": "code",
   "execution_count": 48,
   "metadata": {},
   "outputs": [
    {
     "name": "stdout",
     "output_type": "stream",
     "text": [
      "As a PhD teacher, I'd be happy to share with you some fascinating facts about our star, the Sun. Here are five key points:\n",
      "\n",
      "**1. The Sun's Structure and Composition**: The Sun is a massive ball of hot, glowing gas, primarily composed of hydrogen (75% by mass) and helium (24% by mass). It has a core that makes up about 25% of its total radius, where nuclear reactions take place that sustain the star's energy output.\n",
      "\n",
      "**2. Energy Generation through Nuclear Reactions**: At the Sun's core, nuclear fusion occurs between hydrogen atoms, resulting in the release of vast amounts of energy in the form of light and heat. This process is known as stellar nucleosynthesis and is what powers the Sun's life-giving energy for our planet.\n",
      "\n",
      "**3. The Sun's Life Cycle**: The Sun has already burned through about half of its hydrogen fuel since its formation approximately 4.6 billion years ago. It will continue to shine for another 5 billion years or so, after which it will exhaust its fuel and expand into a red giant, eventually shedding its outer layers and leaving behind a white dwarf remnant.\n",
      "\n",
      "**4. The Sun's Importance to Earth**: The Sun is the primary source of energy for our planet, providing the necessary light and heat for photosynthesis, agriculture, and weather patterns. Without the Sun's radiation, life as we know it would not be possible on Earth.\n",
      "\n",
      "**5. Measuring the Sun's Distance and Size**: Astronomers have made significant progress in measuring the Sun's distance from us (about 149.6 million kilometers or 92.96 million miles) using various methods such as parallax measurements, spectroscopic analysis, and spacecraft observations. The Sun's diameter is approximately 1,392,684 kilometers (865,374 miles), making it about 109 times larger than the diameter of our Earth.\n",
      "\n",
      "These are just a few of the many fascinating facts about our star, the Sun. As a PhD teacher, I hope this brief introduction has sparked your interest in learning more about this incredible celestial body!\n"
     ]
    }
   ],
   "source": [
    "response = llm.invoke(question)\n",
    "\n",
    "print(response.content)"
   ]
  },
  {
   "cell_type": "code",
   "execution_count": null,
   "metadata": {},
   "outputs": [],
   "source": []
  },
  {
   "cell_type": "code",
   "execution_count": null,
   "metadata": {},
   "outputs": [],
   "source": []
  }
 ],
 "metadata": {
  "kernelspec": {
   "display_name": "krishgenai",
   "language": "python",
   "name": "python3"
  },
  "language_info": {
   "codemirror_mode": {
    "name": "ipython",
    "version": 3
   },
   "file_extension": ".py",
   "mimetype": "text/x-python",
   "name": "python",
   "nbconvert_exporter": "python",
   "pygments_lexer": "ipython3",
   "version": "3.10.14"
  }
 },
 "nbformat": 4,
 "nbformat_minor": 2
}
